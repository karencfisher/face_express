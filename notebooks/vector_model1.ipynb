{
  "nbformat": 4,
  "nbformat_minor": 0,
  "metadata": {
    "kernelspec": {
      "display_name": "Python 3",
      "language": "python",
      "name": "python3"
    },
    "language_info": {
      "codemirror_mode": {
        "name": "ipython",
        "version": 3
      },
      "file_extension": ".py",
      "mimetype": "text/x-python",
      "name": "python",
      "nbconvert_exporter": "python",
      "pygments_lexer": "ipython3",
      "version": "3.7.4"
    },
    "colab": {
      "name": "vector_model1.ipynb",
      "provenance": [],
      "collapsed_sections": [],
      "include_colab_link": true
    }
  },
  "cells": [
    {
      "cell_type": "markdown",
      "metadata": {
        "id": "view-in-github",
        "colab_type": "text"
      },
      "source": [
        "<a href=\"https://colab.research.google.com/github/karencfisher/face_express/blob/main/notebooks/vector_model1.ipynb\" target=\"_parent\"><img src=\"https://colab.research.google.com/assets/colab-badge.svg\" alt=\"Open In Colab\"/></a>"
      ]
    },
    {
      "cell_type": "code",
      "metadata": {
        "id": "xy88CA3WbaOM"
      },
      "source": [
        "import pandas as pd\n",
        "import matplotlib.pyplot as plt\n",
        "import numpy as np\n",
        "import plotly.express as px"
      ],
      "execution_count": 1,
      "outputs": []
    },
    {
      "cell_type": "code",
      "metadata": {
        "id": "2R3m8u1pbmca",
        "colab": {
          "base_uri": "https://localhost:8080/"
        },
        "outputId": "fd4574bb-3fc5-4819-bf66-62caeb9ec0de"
      },
      "source": [
        "from google.colab import drive\n",
        "drive.mount('/content/drive')"
      ],
      "execution_count": 2,
      "outputs": [
        {
          "output_type": "stream",
          "text": [
            "Mounted at /content/drive\n"
          ],
          "name": "stdout"
        }
      ]
    },
    {
      "cell_type": "markdown",
      "metadata": {
        "id": "rCMwaOrxohl3"
      },
      "source": [
        "Data is from https://www.kaggle.com/c/challenges-in-representation-learning-facial-expression-recognition-challenge/data\n",
        "\n",
        "The ```icml_face_data.csv``` dataset which contains a total of 34034 samples. It contains 3 columns. The target label is an integer (0, 6), the seven basic emtions:\n",
        "\n",
        "```\n",
        "['Angry', 'Disgust', 'Fear', 'Happy', 'Sad', 'Surprise', 'Neutral']\n",
        "```\n",
        "\n",
        "The images are stored in the 'pixels' column, as a string of 2304 integer values (0, 255) separated by spaces. These will need be coverted into an array of integer values. Subsequently, they will be needs reshaped into 3-d numpy arrays to be input to the CNN.\n",
        "\n"
      ]
    },
    {
      "cell_type": "code",
      "metadata": {
        "id": "GLi-lS_wbaOh"
      },
      "source": [
        "def loadCleanData(fname):\n",
        "    df = pd.read_csv(fname)\n",
        "    \n",
        "    # regularize capitalization and remove leading space in column headings\n",
        "    fix_cols = {s : s.lower().strip() for s in df.columns.to_list()}\n",
        "    df.rename(columns = fix_cols, inplace=True)\n",
        "    \n",
        "    # convert pixels from strings to lists of integers\n",
        "    df['pixels'] = df['pixels'].apply(lambda x: [int(i) for i in x.split()])\n",
        "    \n",
        "    # Not using the 'usage' column, so can be dropped\n",
        "    df.drop('usage', axis=1, inplace=True)\n",
        "    \n",
        "    return df"
      ],
      "execution_count": 3,
      "outputs": []
    },
    {
      "cell_type": "code",
      "metadata": {
        "id": "Z2RreP2kbaOn",
        "colab": {
          "base_uri": "https://localhost:8080/",
          "height": 191
        },
        "outputId": "0d9cb2b6-614b-4286-a626-375a33c41e24"
      },
      "source": [
        "df = loadCleanData('/content/drive/MyDrive/face express data/icml_face_data.csv')\n",
        "df.head()"
      ],
      "execution_count": 4,
      "outputs": [
        {
          "output_type": "execute_result",
          "data": {
            "text/html": [
              "<div>\n",
              "<style scoped>\n",
              "    .dataframe tbody tr th:only-of-type {\n",
              "        vertical-align: middle;\n",
              "    }\n",
              "\n",
              "    .dataframe tbody tr th {\n",
              "        vertical-align: top;\n",
              "    }\n",
              "\n",
              "    .dataframe thead th {\n",
              "        text-align: right;\n",
              "    }\n",
              "</style>\n",
              "<table border=\"1\" class=\"dataframe\">\n",
              "  <thead>\n",
              "    <tr style=\"text-align: right;\">\n",
              "      <th></th>\n",
              "      <th>emotion</th>\n",
              "      <th>pixels</th>\n",
              "    </tr>\n",
              "  </thead>\n",
              "  <tbody>\n",
              "    <tr>\n",
              "      <th>0</th>\n",
              "      <td>0</td>\n",
              "      <td>[70, 80, 82, 72, 58, 58, 60, 63, 54, 58, 60, 4...</td>\n",
              "    </tr>\n",
              "    <tr>\n",
              "      <th>1</th>\n",
              "      <td>0</td>\n",
              "      <td>[151, 150, 147, 155, 148, 133, 111, 140, 170, ...</td>\n",
              "    </tr>\n",
              "    <tr>\n",
              "      <th>2</th>\n",
              "      <td>2</td>\n",
              "      <td>[231, 212, 156, 164, 174, 138, 161, 173, 182, ...</td>\n",
              "    </tr>\n",
              "    <tr>\n",
              "      <th>3</th>\n",
              "      <td>4</td>\n",
              "      <td>[24, 32, 36, 30, 32, 23, 19, 20, 30, 41, 21, 2...</td>\n",
              "    </tr>\n",
              "    <tr>\n",
              "      <th>4</th>\n",
              "      <td>6</td>\n",
              "      <td>[4, 0, 0, 0, 0, 0, 0, 0, 0, 0, 0, 0, 3, 15, 23...</td>\n",
              "    </tr>\n",
              "  </tbody>\n",
              "</table>\n",
              "</div>"
            ],
            "text/plain": [
              "   emotion                                             pixels\n",
              "0        0  [70, 80, 82, 72, 58, 58, 60, 63, 54, 58, 60, 4...\n",
              "1        0  [151, 150, 147, 155, 148, 133, 111, 140, 170, ...\n",
              "2        2  [231, 212, 156, 164, 174, 138, 161, 173, 182, ...\n",
              "3        4  [24, 32, 36, 30, 32, 23, 19, 20, 30, 41, 21, 2...\n",
              "4        6  [4, 0, 0, 0, 0, 0, 0, 0, 0, 0, 0, 0, 3, 15, 23..."
            ]
          },
          "metadata": {
            "tags": []
          },
          "execution_count": 4
        }
      ]
    },
    {
      "cell_type": "code",
      "metadata": {
        "id": "K90Jkcy28za_",
        "colab": {
          "base_uri": "https://localhost:8080/",
          "height": 191
        },
        "outputId": "8dd15420-8998-4854-e0cc-6815a2557fc6"
      },
      "source": [
        "df_labels = pd.read_csv('https://raw.githubusercontent.com/microsoft/FERPlus/master/fer2013new.csv')\n",
        "df_labels.head()"
      ],
      "execution_count": 5,
      "outputs": [
        {
          "output_type": "execute_result",
          "data": {
            "text/html": [
              "<div>\n",
              "<style scoped>\n",
              "    .dataframe tbody tr th:only-of-type {\n",
              "        vertical-align: middle;\n",
              "    }\n",
              "\n",
              "    .dataframe tbody tr th {\n",
              "        vertical-align: top;\n",
              "    }\n",
              "\n",
              "    .dataframe thead th {\n",
              "        text-align: right;\n",
              "    }\n",
              "</style>\n",
              "<table border=\"1\" class=\"dataframe\">\n",
              "  <thead>\n",
              "    <tr style=\"text-align: right;\">\n",
              "      <th></th>\n",
              "      <th>Usage</th>\n",
              "      <th>Image name</th>\n",
              "      <th>neutral</th>\n",
              "      <th>happiness</th>\n",
              "      <th>surprise</th>\n",
              "      <th>sadness</th>\n",
              "      <th>anger</th>\n",
              "      <th>disgust</th>\n",
              "      <th>fear</th>\n",
              "      <th>contempt</th>\n",
              "      <th>unknown</th>\n",
              "      <th>NF</th>\n",
              "    </tr>\n",
              "  </thead>\n",
              "  <tbody>\n",
              "    <tr>\n",
              "      <th>0</th>\n",
              "      <td>Training</td>\n",
              "      <td>fer0000000.png</td>\n",
              "      <td>4</td>\n",
              "      <td>0</td>\n",
              "      <td>0</td>\n",
              "      <td>1</td>\n",
              "      <td>3</td>\n",
              "      <td>2</td>\n",
              "      <td>0</td>\n",
              "      <td>0</td>\n",
              "      <td>0</td>\n",
              "      <td>0</td>\n",
              "    </tr>\n",
              "    <tr>\n",
              "      <th>1</th>\n",
              "      <td>Training</td>\n",
              "      <td>fer0000001.png</td>\n",
              "      <td>6</td>\n",
              "      <td>0</td>\n",
              "      <td>1</td>\n",
              "      <td>1</td>\n",
              "      <td>0</td>\n",
              "      <td>0</td>\n",
              "      <td>0</td>\n",
              "      <td>0</td>\n",
              "      <td>2</td>\n",
              "      <td>0</td>\n",
              "    </tr>\n",
              "    <tr>\n",
              "      <th>2</th>\n",
              "      <td>Training</td>\n",
              "      <td>fer0000002.png</td>\n",
              "      <td>5</td>\n",
              "      <td>0</td>\n",
              "      <td>0</td>\n",
              "      <td>3</td>\n",
              "      <td>1</td>\n",
              "      <td>0</td>\n",
              "      <td>0</td>\n",
              "      <td>0</td>\n",
              "      <td>1</td>\n",
              "      <td>0</td>\n",
              "    </tr>\n",
              "    <tr>\n",
              "      <th>3</th>\n",
              "      <td>Training</td>\n",
              "      <td>fer0000003.png</td>\n",
              "      <td>4</td>\n",
              "      <td>0</td>\n",
              "      <td>0</td>\n",
              "      <td>4</td>\n",
              "      <td>1</td>\n",
              "      <td>0</td>\n",
              "      <td>0</td>\n",
              "      <td>0</td>\n",
              "      <td>1</td>\n",
              "      <td>0</td>\n",
              "    </tr>\n",
              "    <tr>\n",
              "      <th>4</th>\n",
              "      <td>Training</td>\n",
              "      <td>fer0000004.png</td>\n",
              "      <td>9</td>\n",
              "      <td>0</td>\n",
              "      <td>0</td>\n",
              "      <td>1</td>\n",
              "      <td>0</td>\n",
              "      <td>0</td>\n",
              "      <td>0</td>\n",
              "      <td>0</td>\n",
              "      <td>0</td>\n",
              "      <td>0</td>\n",
              "    </tr>\n",
              "  </tbody>\n",
              "</table>\n",
              "</div>"
            ],
            "text/plain": [
              "      Usage      Image name  neutral  happiness  ...  fear  contempt  unknown  NF\n",
              "0  Training  fer0000000.png        4          0  ...     0         0        0   0\n",
              "1  Training  fer0000001.png        6          0  ...     0         0        2   0\n",
              "2  Training  fer0000002.png        5          0  ...     0         0        1   0\n",
              "3  Training  fer0000003.png        4          0  ...     0         0        1   0\n",
              "4  Training  fer0000004.png        9          0  ...     0         0        0   0\n",
              "\n",
              "[5 rows x 12 columns]"
            ]
          },
          "metadata": {
            "tags": []
          },
          "execution_count": 5
        }
      ]
    },
    {
      "cell_type": "code",
      "metadata": {
        "colab": {
          "base_uri": "https://localhost:8080/",
          "height": 191
        },
        "id": "cV8oA2_nl3oh",
        "outputId": "df0f3b83-0c09-4ab0-fd15-7602a322d111"
      },
      "source": [
        "df_labels = df_labels[['neutral', 'happiness', 'surprise', 'sadness', 'anger', 'disgust', 'fear', 'contempt', 'unknown', 'NF']]\n",
        "fer2013_new = pd.concat([df, df_labels], axis=1)\n",
        "fer2013_new = fer2013_new[fer2013_new['NF'] < 10]\n",
        "\n",
        "fer2013_new.head()"
      ],
      "execution_count": 6,
      "outputs": [
        {
          "output_type": "execute_result",
          "data": {
            "text/html": [
              "<div>\n",
              "<style scoped>\n",
              "    .dataframe tbody tr th:only-of-type {\n",
              "        vertical-align: middle;\n",
              "    }\n",
              "\n",
              "    .dataframe tbody tr th {\n",
              "        vertical-align: top;\n",
              "    }\n",
              "\n",
              "    .dataframe thead th {\n",
              "        text-align: right;\n",
              "    }\n",
              "</style>\n",
              "<table border=\"1\" class=\"dataframe\">\n",
              "  <thead>\n",
              "    <tr style=\"text-align: right;\">\n",
              "      <th></th>\n",
              "      <th>emotion</th>\n",
              "      <th>pixels</th>\n",
              "      <th>neutral</th>\n",
              "      <th>happiness</th>\n",
              "      <th>surprise</th>\n",
              "      <th>sadness</th>\n",
              "      <th>anger</th>\n",
              "      <th>disgust</th>\n",
              "      <th>fear</th>\n",
              "      <th>contempt</th>\n",
              "      <th>unknown</th>\n",
              "      <th>NF</th>\n",
              "    </tr>\n",
              "  </thead>\n",
              "  <tbody>\n",
              "    <tr>\n",
              "      <th>0</th>\n",
              "      <td>0</td>\n",
              "      <td>[70, 80, 82, 72, 58, 58, 60, 63, 54, 58, 60, 4...</td>\n",
              "      <td>4</td>\n",
              "      <td>0</td>\n",
              "      <td>0</td>\n",
              "      <td>1</td>\n",
              "      <td>3</td>\n",
              "      <td>2</td>\n",
              "      <td>0</td>\n",
              "      <td>0</td>\n",
              "      <td>0</td>\n",
              "      <td>0</td>\n",
              "    </tr>\n",
              "    <tr>\n",
              "      <th>1</th>\n",
              "      <td>0</td>\n",
              "      <td>[151, 150, 147, 155, 148, 133, 111, 140, 170, ...</td>\n",
              "      <td>6</td>\n",
              "      <td>0</td>\n",
              "      <td>1</td>\n",
              "      <td>1</td>\n",
              "      <td>0</td>\n",
              "      <td>0</td>\n",
              "      <td>0</td>\n",
              "      <td>0</td>\n",
              "      <td>2</td>\n",
              "      <td>0</td>\n",
              "    </tr>\n",
              "    <tr>\n",
              "      <th>2</th>\n",
              "      <td>2</td>\n",
              "      <td>[231, 212, 156, 164, 174, 138, 161, 173, 182, ...</td>\n",
              "      <td>5</td>\n",
              "      <td>0</td>\n",
              "      <td>0</td>\n",
              "      <td>3</td>\n",
              "      <td>1</td>\n",
              "      <td>0</td>\n",
              "      <td>0</td>\n",
              "      <td>0</td>\n",
              "      <td>1</td>\n",
              "      <td>0</td>\n",
              "    </tr>\n",
              "    <tr>\n",
              "      <th>3</th>\n",
              "      <td>4</td>\n",
              "      <td>[24, 32, 36, 30, 32, 23, 19, 20, 30, 41, 21, 2...</td>\n",
              "      <td>4</td>\n",
              "      <td>0</td>\n",
              "      <td>0</td>\n",
              "      <td>4</td>\n",
              "      <td>1</td>\n",
              "      <td>0</td>\n",
              "      <td>0</td>\n",
              "      <td>0</td>\n",
              "      <td>1</td>\n",
              "      <td>0</td>\n",
              "    </tr>\n",
              "    <tr>\n",
              "      <th>4</th>\n",
              "      <td>6</td>\n",
              "      <td>[4, 0, 0, 0, 0, 0, 0, 0, 0, 0, 0, 0, 3, 15, 23...</td>\n",
              "      <td>9</td>\n",
              "      <td>0</td>\n",
              "      <td>0</td>\n",
              "      <td>1</td>\n",
              "      <td>0</td>\n",
              "      <td>0</td>\n",
              "      <td>0</td>\n",
              "      <td>0</td>\n",
              "      <td>0</td>\n",
              "      <td>0</td>\n",
              "    </tr>\n",
              "  </tbody>\n",
              "</table>\n",
              "</div>"
            ],
            "text/plain": [
              "   emotion                                             pixels  ...  unknown  NF\n",
              "0        0  [70, 80, 82, 72, 58, 58, 60, 63, 54, 58, 60, 4...  ...        0   0\n",
              "1        0  [151, 150, 147, 155, 148, 133, 111, 140, 170, ...  ...        2   0\n",
              "2        2  [231, 212, 156, 164, 174, 138, 161, 173, 182, ...  ...        1   0\n",
              "3        4  [24, 32, 36, 30, 32, 23, 19, 20, 30, 41, 21, 2...  ...        1   0\n",
              "4        6  [4, 0, 0, 0, 0, 0, 0, 0, 0, 0, 0, 0, 3, 15, 23...  ...        0   0\n",
              "\n",
              "[5 rows x 12 columns]"
            ]
          },
          "metadata": {
            "tags": []
          },
          "execution_count": 6
        }
      ]
    },
    {
      "cell_type": "code",
      "metadata": {
        "id": "GhTlm3j8mO8b"
      },
      "source": [
        "# Select all but NF for use\n",
        "y = fer2013_new[['neutral', 'happiness', 'surprise', 'sadness', 'anger', 'disgust', 'fear', 'contempt']].values\n",
        "\n",
        "# Majority rule\n",
        "def makeClasses(votes):\n",
        "  probs = []\n",
        "  for row in range(votes.shape[0]):\n",
        "    # put any contempt votes to disgust\n",
        "    votes[row][5] += votes[row][7]\n",
        "    y = np.argmax(votes[row][:7])\n",
        "    probs.append(y)\n",
        "\n",
        "  return np.array(probs)"
      ],
      "execution_count": 7,
      "outputs": []
    },
    {
      "cell_type": "code",
      "metadata": {
        "id": "XNPOPANPbaOu"
      },
      "source": [
        "classes = ['Neutral', 'Happy', 'Surprise', 'Sad', 'Angry', 'Disgust', 'Fear']"
      ],
      "execution_count": 8,
      "outputs": []
    },
    {
      "cell_type": "code",
      "metadata": {
        "colab": {
          "base_uri": "https://localhost:8080/",
          "height": 335
        },
        "id": "cMqleCUUoctq",
        "outputId": "2b2a7344-b828-46c2-a571-6e32855b84c7"
      },
      "source": [
        "fer2013_new['emotion'] = makeClasses(y)\n",
        "fer2013_new.head(10)"
      ],
      "execution_count": 20,
      "outputs": [
        {
          "output_type": "execute_result",
          "data": {
            "text/html": [
              "<div>\n",
              "<style scoped>\n",
              "    .dataframe tbody tr th:only-of-type {\n",
              "        vertical-align: middle;\n",
              "    }\n",
              "\n",
              "    .dataframe tbody tr th {\n",
              "        vertical-align: top;\n",
              "    }\n",
              "\n",
              "    .dataframe thead th {\n",
              "        text-align: right;\n",
              "    }\n",
              "</style>\n",
              "<table border=\"1\" class=\"dataframe\">\n",
              "  <thead>\n",
              "    <tr style=\"text-align: right;\">\n",
              "      <th></th>\n",
              "      <th>emotion</th>\n",
              "      <th>pixels</th>\n",
              "      <th>neutral</th>\n",
              "      <th>happiness</th>\n",
              "      <th>surprise</th>\n",
              "      <th>sadness</th>\n",
              "      <th>anger</th>\n",
              "      <th>disgust</th>\n",
              "      <th>fear</th>\n",
              "      <th>contempt</th>\n",
              "      <th>unknown</th>\n",
              "      <th>NF</th>\n",
              "      <th>vector</th>\n",
              "    </tr>\n",
              "  </thead>\n",
              "  <tbody>\n",
              "    <tr>\n",
              "      <th>0</th>\n",
              "      <td>0</td>\n",
              "      <td>[70, 80, 82, 72, 58, 58, 60, 63, 54, 58, 60, 4...</td>\n",
              "      <td>4</td>\n",
              "      <td>0</td>\n",
              "      <td>0</td>\n",
              "      <td>1</td>\n",
              "      <td>3</td>\n",
              "      <td>2</td>\n",
              "      <td>0</td>\n",
              "      <td>0</td>\n",
              "      <td>0</td>\n",
              "      <td>0</td>\n",
              "      <td>[-5, 12, -4, 20, -3, 27, -1, 34, 1, 40, 7, 44,...</td>\n",
              "    </tr>\n",
              "    <tr>\n",
              "      <th>1</th>\n",
              "      <td>0</td>\n",
              "      <td>[151, 150, 147, 155, 148, 133, 111, 140, 170, ...</td>\n",
              "      <td>6</td>\n",
              "      <td>0</td>\n",
              "      <td>1</td>\n",
              "      <td>1</td>\n",
              "      <td>0</td>\n",
              "      <td>0</td>\n",
              "      <td>0</td>\n",
              "      <td>0</td>\n",
              "      <td>2</td>\n",
              "      <td>0</td>\n",
              "      <td>[-1, 18, 0, 24, 1, 30, 3, 35, 5, 40, 8, 45, 13...</td>\n",
              "    </tr>\n",
              "    <tr>\n",
              "      <th>2</th>\n",
              "      <td>0</td>\n",
              "      <td>[231, 212, 156, 164, 174, 138, 161, 173, 182, ...</td>\n",
              "      <td>5</td>\n",
              "      <td>0</td>\n",
              "      <td>0</td>\n",
              "      <td>3</td>\n",
              "      <td>1</td>\n",
              "      <td>0</td>\n",
              "      <td>0</td>\n",
              "      <td>0</td>\n",
              "      <td>1</td>\n",
              "      <td>0</td>\n",
              "      <td>[0, 9, 0, 16, 2, 22, 3, 29, 4, 36, 7, 42, 12, ...</td>\n",
              "    </tr>\n",
              "    <tr>\n",
              "      <th>3</th>\n",
              "      <td>0</td>\n",
              "      <td>[24, 32, 36, 30, 32, 23, 19, 20, 30, 41, 21, 2...</td>\n",
              "      <td>4</td>\n",
              "      <td>0</td>\n",
              "      <td>0</td>\n",
              "      <td>4</td>\n",
              "      <td>1</td>\n",
              "      <td>0</td>\n",
              "      <td>0</td>\n",
              "      <td>0</td>\n",
              "      <td>1</td>\n",
              "      <td>0</td>\n",
              "      <td>[4, 10, 4, 16, 5, 21, 5, 27, 6, 33, 9, 38, 12,...</td>\n",
              "    </tr>\n",
              "    <tr>\n",
              "      <th>4</th>\n",
              "      <td>0</td>\n",
              "      <td>[4, 0, 0, 0, 0, 0, 0, 0, 0, 0, 0, 0, 3, 15, 23...</td>\n",
              "      <td>9</td>\n",
              "      <td>0</td>\n",
              "      <td>0</td>\n",
              "      <td>1</td>\n",
              "      <td>0</td>\n",
              "      <td>0</td>\n",
              "      <td>0</td>\n",
              "      <td>0</td>\n",
              "      <td>0</td>\n",
              "      <td>0</td>\n",
              "      <td>[-3, 14, -2, 20, -1, 27, 0, 33, 3, 39, 6, 44, ...</td>\n",
              "    </tr>\n",
              "    <tr>\n",
              "      <th>5</th>\n",
              "      <td>0</td>\n",
              "      <td>[55, 55, 55, 55, 55, 54, 60, 68, 54, 85, 151, ...</td>\n",
              "      <td>6</td>\n",
              "      <td>0</td>\n",
              "      <td>0</td>\n",
              "      <td>1</td>\n",
              "      <td>0</td>\n",
              "      <td>0</td>\n",
              "      <td>1</td>\n",
              "      <td>1</td>\n",
              "      <td>1</td>\n",
              "      <td>0</td>\n",
              "      <td>[-1, 14, -1, 21, 0, 28, 0, 34, 1, 40, 4, 45, 9...</td>\n",
              "    </tr>\n",
              "    <tr>\n",
              "      <th>6</th>\n",
              "      <td>3</td>\n",
              "      <td>[20, 17, 19, 21, 25, 38, 42, 42, 46, 54, 56, 6...</td>\n",
              "      <td>2</td>\n",
              "      <td>0</td>\n",
              "      <td>0</td>\n",
              "      <td>8</td>\n",
              "      <td>0</td>\n",
              "      <td>0</td>\n",
              "      <td>0</td>\n",
              "      <td>0</td>\n",
              "      <td>0</td>\n",
              "      <td>0</td>\n",
              "      <td>[1, 15, 1, 22, 2, 29, 3, 34, 5, 40, 8, 44, 12,...</td>\n",
              "    </tr>\n",
              "    <tr>\n",
              "      <th>7</th>\n",
              "      <td>1</td>\n",
              "      <td>[77, 78, 79, 79, 78, 75, 60, 55, 47, 48, 58, 7...</td>\n",
              "      <td>0</td>\n",
              "      <td>10</td>\n",
              "      <td>0</td>\n",
              "      <td>0</td>\n",
              "      <td>0</td>\n",
              "      <td>0</td>\n",
              "      <td>0</td>\n",
              "      <td>0</td>\n",
              "      <td>0</td>\n",
              "      <td>0</td>\n",
              "      <td>[5, 13, 4, 18, 3, 23, 4, 28, 6, 34, 8, 39, 12,...</td>\n",
              "    </tr>\n",
              "    <tr>\n",
              "      <th>8</th>\n",
              "      <td>1</td>\n",
              "      <td>[85, 84, 90, 121, 101, 102, 133, 153, 153, 169...</td>\n",
              "      <td>0</td>\n",
              "      <td>10</td>\n",
              "      <td>0</td>\n",
              "      <td>0</td>\n",
              "      <td>0</td>\n",
              "      <td>0</td>\n",
              "      <td>0</td>\n",
              "      <td>0</td>\n",
              "      <td>0</td>\n",
              "      <td>0</td>\n",
              "      <td>[-1, 11, 0, 18, 1, 24, 2, 31, 5, 37, 8, 42, 13...</td>\n",
              "    </tr>\n",
              "    <tr>\n",
              "      <th>9</th>\n",
              "      <td>2</td>\n",
              "      <td>[255, 254, 255, 254, 254, 179, 122, 107, 95, 1...</td>\n",
              "      <td>0</td>\n",
              "      <td>0</td>\n",
              "      <td>6</td>\n",
              "      <td>0</td>\n",
              "      <td>0</td>\n",
              "      <td>0</td>\n",
              "      <td>4</td>\n",
              "      <td>0</td>\n",
              "      <td>0</td>\n",
              "      <td>0</td>\n",
              "      <td>[-1, 14, 0, 21, 1, 28, 3, 34, 5, 40, 8, 46, 13...</td>\n",
              "    </tr>\n",
              "  </tbody>\n",
              "</table>\n",
              "</div>"
            ],
            "text/plain": [
              "   emotion  ...                                             vector\n",
              "0        0  ...  [-5, 12, -4, 20, -3, 27, -1, 34, 1, 40, 7, 44,...\n",
              "1        0  ...  [-1, 18, 0, 24, 1, 30, 3, 35, 5, 40, 8, 45, 13...\n",
              "2        0  ...  [0, 9, 0, 16, 2, 22, 3, 29, 4, 36, 7, 42, 12, ...\n",
              "3        0  ...  [4, 10, 4, 16, 5, 21, 5, 27, 6, 33, 9, 38, 12,...\n",
              "4        0  ...  [-3, 14, -2, 20, -1, 27, 0, 33, 3, 39, 6, 44, ...\n",
              "5        0  ...  [-1, 14, -1, 21, 0, 28, 0, 34, 1, 40, 4, 45, 9...\n",
              "6        3  ...  [1, 15, 1, 22, 2, 29, 3, 34, 5, 40, 8, 44, 12,...\n",
              "7        1  ...  [5, 13, 4, 18, 3, 23, 4, 28, 6, 34, 8, 39, 12,...\n",
              "8        1  ...  [-1, 11, 0, 18, 1, 24, 2, 31, 5, 37, 8, 42, 13...\n",
              "9        2  ...  [-1, 14, 0, 21, 1, 28, 3, 34, 5, 40, 8, 46, 13...\n",
              "\n",
              "[10 rows x 13 columns]"
            ]
          },
          "metadata": {
            "tags": []
          },
          "execution_count": 20
        }
      ]
    },
    {
      "cell_type": "code",
      "metadata": {
        "id": "SbmbXLRuVhEx",
        "colab": {
          "base_uri": "https://localhost:8080/"
        },
        "outputId": "dd3ed10f-4558-413a-e662-f15f1f32d35a"
      },
      "source": [
        "import dlib\n",
        "from imutils import face_utils\n",
        "\n",
        "!wget https://github.com/italojs/facial-landmarks-recognition/blob/master/shape_predictor_68_face_landmarks.dat?raw=true"
      ],
      "execution_count": 9,
      "outputs": [
        {
          "output_type": "stream",
          "text": [
            "--2020-11-22 06:18:58--  https://github.com/italojs/facial-landmarks-recognition/blob/master/shape_predictor_68_face_landmarks.dat?raw=true\n",
            "Resolving github.com (github.com)... 140.82.114.3\n",
            "Connecting to github.com (github.com)|140.82.114.3|:443... connected.\n",
            "HTTP request sent, awaiting response... 302 Found\n",
            "Location: https://github.com/italojs/facial-landmarks-recognition/raw/master/shape_predictor_68_face_landmarks.dat [following]\n",
            "--2020-11-22 06:18:58--  https://github.com/italojs/facial-landmarks-recognition/raw/master/shape_predictor_68_face_landmarks.dat\n",
            "Reusing existing connection to github.com:443.\n",
            "HTTP request sent, awaiting response... 302 Found\n",
            "Location: https://raw.githubusercontent.com/italojs/facial-landmarks-recognition/master/shape_predictor_68_face_landmarks.dat [following]\n",
            "--2020-11-22 06:18:58--  https://raw.githubusercontent.com/italojs/facial-landmarks-recognition/master/shape_predictor_68_face_landmarks.dat\n",
            "Resolving raw.githubusercontent.com (raw.githubusercontent.com)... 151.101.0.133, 151.101.64.133, 151.101.128.133, ...\n",
            "Connecting to raw.githubusercontent.com (raw.githubusercontent.com)|151.101.0.133|:443... connected.\n",
            "HTTP request sent, awaiting response... 200 OK\n",
            "Length: 99693937 (95M) [application/octet-stream]\n",
            "Saving to: ‘shape_predictor_68_face_landmarks.dat?raw=true’\n",
            "\n",
            "shape_predictor_68_ 100%[===================>]  95.08M   108MB/s    in 0.9s    \n",
            "\n",
            "2020-11-22 06:19:00 (108 MB/s) - ‘shape_predictor_68_face_landmarks.dat?raw=true’ saved [99693937/99693937]\n",
            "\n"
          ],
          "name": "stdout"
        }
      ]
    },
    {
      "cell_type": "code",
      "metadata": {
        "id": "MJIXRJJ1yqo3"
      },
      "source": [
        "predictor = dlib.shape_predictor(\"shape_predictor_68_face_landmarks.dat?raw=true\")\n",
        "\n",
        "def align(img):\n",
        "  image = np.array(img, dtype=np.uint8).reshape(48, 48)\n",
        "  fa = face_utils.FaceAligner(predictor, desiredLeftEye=(.23, .23), desiredFaceWidth=48)\n",
        "  rect = dlib.rectangle(0, 0, 48, 48)\n",
        "  aligned_img = fa.align(image, image, rect)\n",
        "  return aligned_img\n"
      ],
      "execution_count": 10,
      "outputs": []
    },
    {
      "cell_type": "code",
      "metadata": {
        "colab": {
          "base_uri": "https://localhost:8080/",
          "height": 283
        },
        "id": "cUxJDCGO064R",
        "outputId": "54d5100c-3ec2-45a4-b43d-0ecc1749cb5e"
      },
      "source": [
        "img = align(df.iloc[8]['pixels'])\n",
        "plt.imshow(img, cmap='gray')"
      ],
      "execution_count": 11,
      "outputs": [
        {
          "output_type": "execute_result",
          "data": {
            "text/plain": [
              "<matplotlib.image.AxesImage at 0x7f159b073be0>"
            ]
          },
          "metadata": {
            "tags": []
          },
          "execution_count": 11
        },
        {
          "output_type": "display_data",
          "data": {
            "image/png": "[encoded data removed]",
            "text/plain": [
              "<Figure size 432x288 with 1 Axes>"
            ]
          },
          "metadata": {
            "tags": [],
            "needs_background": "light"
          }
        }
      ]
    },
    {
      "cell_type": "code",
      "metadata": {
        "id": "kicXt14G2a7Q"
      },
      "source": [
        "predictor = dlib.shape_predictor(\"shape_predictor_68_face_landmarks.dat?raw=true\")\n",
        "\n",
        "def vectorizeFace(image):\n",
        "  img = align(image)\n",
        "  rect = dlib.rectangle(0, 0, 48, 48)\n",
        "  shapes = predictor(img, rect)\n",
        "  vect = list(face_utils.shape_to_np(shapes).reshape(136))\n",
        "  return vect"
      ],
      "execution_count": 12,
      "outputs": []
    },
    {
      "cell_type": "code",
      "metadata": {
        "colab": {
          "base_uri": "https://localhost:8080/",
          "height": 191
        },
        "id": "CHEuGtqPB6FO",
        "outputId": "c7477ff8-3e18-4cdc-db6a-f26bb051d45d"
      },
      "source": [
        "fer2013_new['vector'] = fer2013_new['pixels'].apply(vectorizeFace)\n",
        "fer2013_new.head()"
      ],
      "execution_count": 13,
      "outputs": [
        {
          "output_type": "execute_result",
          "data": {
            "text/html": [
              "<div>\n",
              "<style scoped>\n",
              "    .dataframe tbody tr th:only-of-type {\n",
              "        vertical-align: middle;\n",
              "    }\n",
              "\n",
              "    .dataframe tbody tr th {\n",
              "        vertical-align: top;\n",
              "    }\n",
              "\n",
              "    .dataframe thead th {\n",
              "        text-align: right;\n",
              "    }\n",
              "</style>\n",
              "<table border=\"1\" class=\"dataframe\">\n",
              "  <thead>\n",
              "    <tr style=\"text-align: right;\">\n",
              "      <th></th>\n",
              "      <th>emotion</th>\n",
              "      <th>pixels</th>\n",
              "      <th>neutral</th>\n",
              "      <th>happiness</th>\n",
              "      <th>surprise</th>\n",
              "      <th>sadness</th>\n",
              "      <th>anger</th>\n",
              "      <th>disgust</th>\n",
              "      <th>fear</th>\n",
              "      <th>contempt</th>\n",
              "      <th>unknown</th>\n",
              "      <th>NF</th>\n",
              "      <th>vector</th>\n",
              "    </tr>\n",
              "  </thead>\n",
              "  <tbody>\n",
              "    <tr>\n",
              "      <th>0</th>\n",
              "      <td>0</td>\n",
              "      <td>[70, 80, 82, 72, 58, 58, 60, 63, 54, 58, 60, 4...</td>\n",
              "      <td>4</td>\n",
              "      <td>0</td>\n",
              "      <td>0</td>\n",
              "      <td>1</td>\n",
              "      <td>3</td>\n",
              "      <td>2</td>\n",
              "      <td>0</td>\n",
              "      <td>0</td>\n",
              "      <td>0</td>\n",
              "      <td>0</td>\n",
              "      <td>[-5, 12, -4, 20, -3, 27, -1, 34, 1, 40, 7, 44,...</td>\n",
              "    </tr>\n",
              "    <tr>\n",
              "      <th>1</th>\n",
              "      <td>0</td>\n",
              "      <td>[151, 150, 147, 155, 148, 133, 111, 140, 170, ...</td>\n",
              "      <td>6</td>\n",
              "      <td>0</td>\n",
              "      <td>1</td>\n",
              "      <td>1</td>\n",
              "      <td>0</td>\n",
              "      <td>0</td>\n",
              "      <td>0</td>\n",
              "      <td>0</td>\n",
              "      <td>2</td>\n",
              "      <td>0</td>\n",
              "      <td>[-1, 18, 0, 24, 1, 30, 3, 35, 5, 40, 8, 45, 13...</td>\n",
              "    </tr>\n",
              "    <tr>\n",
              "      <th>2</th>\n",
              "      <td>2</td>\n",
              "      <td>[231, 212, 156, 164, 174, 138, 161, 173, 182, ...</td>\n",
              "      <td>5</td>\n",
              "      <td>0</td>\n",
              "      <td>0</td>\n",
              "      <td>3</td>\n",
              "      <td>1</td>\n",
              "      <td>0</td>\n",
              "      <td>0</td>\n",
              "      <td>0</td>\n",
              "      <td>1</td>\n",
              "      <td>0</td>\n",
              "      <td>[0, 9, 0, 16, 2, 22, 3, 29, 4, 36, 7, 42, 12, ...</td>\n",
              "    </tr>\n",
              "    <tr>\n",
              "      <th>3</th>\n",
              "      <td>4</td>\n",
              "      <td>[24, 32, 36, 30, 32, 23, 19, 20, 30, 41, 21, 2...</td>\n",
              "      <td>4</td>\n",
              "      <td>0</td>\n",
              "      <td>0</td>\n",
              "      <td>4</td>\n",
              "      <td>1</td>\n",
              "      <td>0</td>\n",
              "      <td>0</td>\n",
              "      <td>0</td>\n",
              "      <td>1</td>\n",
              "      <td>0</td>\n",
              "      <td>[4, 10, 4, 16, 5, 21, 5, 27, 6, 33, 9, 38, 12,...</td>\n",
              "    </tr>\n",
              "    <tr>\n",
              "      <th>4</th>\n",
              "      <td>6</td>\n",
              "      <td>[4, 0, 0, 0, 0, 0, 0, 0, 0, 0, 0, 0, 3, 15, 23...</td>\n",
              "      <td>9</td>\n",
              "      <td>0</td>\n",
              "      <td>0</td>\n",
              "      <td>1</td>\n",
              "      <td>0</td>\n",
              "      <td>0</td>\n",
              "      <td>0</td>\n",
              "      <td>0</td>\n",
              "      <td>0</td>\n",
              "      <td>0</td>\n",
              "      <td>[-3, 14, -2, 20, -1, 27, 0, 33, 3, 39, 6, 44, ...</td>\n",
              "    </tr>\n",
              "  </tbody>\n",
              "</table>\n",
              "</div>"
            ],
            "text/plain": [
              "   emotion  ...                                             vector\n",
              "0        0  ...  [-5, 12, -4, 20, -3, 27, -1, 34, 1, 40, 7, 44,...\n",
              "1        0  ...  [-1, 18, 0, 24, 1, 30, 3, 35, 5, 40, 8, 45, 13...\n",
              "2        2  ...  [0, 9, 0, 16, 2, 22, 3, 29, 4, 36, 7, 42, 12, ...\n",
              "3        4  ...  [4, 10, 4, 16, 5, 21, 5, 27, 6, 33, 9, 38, 12,...\n",
              "4        6  ...  [-3, 14, -2, 20, -1, 27, 0, 33, 3, 39, 6, 44, ...\n",
              "\n",
              "[5 rows x 13 columns]"
            ]
          },
          "metadata": {
            "tags": []
          },
          "execution_count": 13
        }
      ]
    },
    {
      "cell_type": "code",
      "metadata": {
        "id": "lwQu8XQoETkY"
      },
      "source": [
        "def visualizeFaceVector(row):\n",
        "  vector = fer2013_new.iloc[row]['vector']\n",
        "  vec = np.array(vector).reshape(len(vector) // 2, 2)\n",
        "  x = [vec[i][0] for i in range(vec.shape[0])]\n",
        "  y = [vec[i][1] for i in range(vec.shape[0])]\n",
        "  img = align(fer2013_new.iloc[row]['pixels'])\n",
        "  plt.figure(figsize=(5,5))\n",
        "  plt.imshow(img, cmap='gray')\n",
        "  plt.scatter(x, y, color='red')\n",
        "  plt.title(classes[fer2013_new.iloc[row]['emotion']])\n",
        "  plt.show()"
      ],
      "execution_count": 21,
      "outputs": []
    },
    {
      "cell_type": "code",
      "metadata": {
        "colab": {
          "base_uri": "https://localhost:8080/",
          "height": 317
        },
        "id": "ejvKGqvmFOlo",
        "outputId": "1eff5105-126d-43a8-fb95-1291935ccc36"
      },
      "source": [
        "visualizeFaceVector(8)"
      ],
      "execution_count": 22,
      "outputs": [
        {
          "output_type": "display_data",
          "data": {
            "image/png": "[encoded data removed]",
            "text/plain": [
              "<Figure size 360x360 with 1 Axes>"
            ]
          },
          "metadata": {
            "tags": [],
            "needs_background": "light"
          }
        }
      ]
    },
    {
      "cell_type": "code",
      "metadata": {
        "id": "9wPMp-3-FmBq"
      },
      "source": [
        "from sklearn.model_selection import train_test_split\n",
        "\n",
        "from tensorflow.keras.layers import Dense, Input\n",
        "from tensorflow.keras.models import Sequential\n",
        "from tensorflow.keras.callbacks import EarlyStopping, ModelCheckpoint, ReduceLROnPlateau\n",
        "from tensorflow.keras.layers.experimental.preprocessing import Normalization\n",
        "from tensorflow.keras.optimizers import Adam, RMSprop, SGD, Adagrad"
      ],
      "execution_count": 40,
      "outputs": []
    },
    {
      "cell_type": "code",
      "metadata": {
        "colab": {
          "base_uri": "https://localhost:8080/"
        },
        "id": "OZ0LP9rHH5nM",
        "outputId": "1182ddf2-2ef4-4417-9413-a399b5f7ec85"
      },
      "source": [
        "x_train, x_test, y_train, y_test = train_test_split(fer2013_new['vector'],\n",
        "                                                    fer2013_new['emotion'],\n",
        "                                                    test_size=0.2,\n",
        "                                                    stratify=fer2013_new['emotion'],\n",
        "                                                    random_state=42)\n",
        "\n",
        "x_train.shape, x_test.shape, y_train.shape, y_test.shape"
      ],
      "execution_count": 25,
      "outputs": [
        {
          "output_type": "execute_result",
          "data": {
            "text/plain": [
              "((28568,), (7143,), (28568,), (7143,))"
            ]
          },
          "metadata": {
            "tags": []
          },
          "execution_count": 25
        }
      ]
    },
    {
      "cell_type": "markdown",
      "metadata": {
        "id": "mdIyl5OinYTL"
      },
      "source": [
        ""
      ]
    },
    {
      "cell_type": "code",
      "metadata": {
        "colab": {
          "base_uri": "https://localhost:8080/"
        },
        "id": "hxYzRj1YH6Jk",
        "outputId": "e3b95b3d-f101-4792-9a45-4f2a6ccf7a5a"
      },
      "source": [
        "# transform lists of vector values into numpy arrays\n",
        "x_train = np.vstack(x_train)\n",
        "x_test = np.vstack(x_test)\n",
        "\n",
        "# Convert the pandas series of target classes to numpy array\n",
        "y_train = np.asarray(y_train)\n",
        "y_test = np.asarray(y_test)\n",
        "\n",
        "x_train.shape, y_train.shape"
      ],
      "execution_count": 26,
      "outputs": [
        {
          "output_type": "execute_result",
          "data": {
            "text/plain": [
              "((28568, 136), (28568,))"
            ]
          },
          "metadata": {
            "tags": []
          },
          "execution_count": 26
        }
      ]
    },
    {
      "cell_type": "code",
      "metadata": {
        "colab": {
          "base_uri": "https://localhost:8080/"
        },
        "id": "uWEOPVXEIesw",
        "outputId": "64cb2d7c-ff6c-4e48-a5b7-32c9eeedeed0"
      },
      "source": [
        "model = Sequential([Input(shape=x_train.shape[1:]),\n",
        "                    Normalization(),\n",
        "                    Dense(512, activation='relu'),\n",
        "                    Dense(256, activation='relu'),\n",
        "                    Dense(128, activation='relu'),\n",
        "                    Dense(64, activation='relu'),\n",
        "                    Dense(7, activation='softmax')])\n",
        "\n",
        "model.compile(optimizer=Adam(lr=.001), loss='sparse_categorical_crossentropy', metrics=['acc'])\n",
        "model.summary()"
      ],
      "execution_count": 54,
      "outputs": [
        {
          "output_type": "stream",
          "text": [
            "Model: \"sequential_9\"\n",
            "_________________________________________________________________\n",
            "Layer (type)                 Output Shape              Param #   \n",
            "=================================================================\n",
            "normalization_9 (Normalizati (None, 136)               273       \n",
            "_________________________________________________________________\n",
            "dense_43 (Dense)             (None, 512)               70144     \n",
            "_________________________________________________________________\n",
            "dense_44 (Dense)             (None, 256)               131328    \n",
            "_________________________________________________________________\n",
            "dense_45 (Dense)             (None, 128)               32896     \n",
            "_________________________________________________________________\n",
            "dense_46 (Dense)             (None, 64)                8256      \n",
            "_________________________________________________________________\n",
            "dense_47 (Dense)             (None, 7)                 455       \n",
            "=================================================================\n",
            "Total params: 243,352\n",
            "Trainable params: 243,079\n",
            "Non-trainable params: 273\n",
            "_________________________________________________________________\n"
          ],
          "name": "stdout"
        }
      ]
    },
    {
      "cell_type": "code",
      "metadata": {
        "colab": {
          "base_uri": "https://localhost:8080/"
        },
        "id": "yk1F6KyOKE5h",
        "outputId": "c3bc8332-65a6-44e1-989b-f758884483f6"
      },
      "source": [
        "stop = EarlyStopping(monitor='val_acc', patience=5, restore_best_weights=True)\n",
        "reduce_lr = ReduceLROnPlateau(monitor='val_loss', factor=0.9, patience=2, min_delta=.001)\n",
        "\n",
        "history = model.fit(x_train, \n",
        "          y_train,\n",
        "          validation_data=(x_test, y_test),\n",
        "          epochs=100, \n",
        "          batch_size=32, \n",
        "          callbacks=[stop, reduce_lr])"
      ],
      "execution_count": 55,
      "outputs": [
        {
          "output_type": "stream",
          "text": [
            "Epoch 1/100\n",
            "893/893 [==============================] - 5s 5ms/step - loss: 1.6766 - acc: 0.4263 - val_loss: 1.5084 - val_acc: 0.4523\n",
            "Epoch 2/100\n",
            "893/893 [==============================] - 4s 5ms/step - loss: 1.4341 - acc: 0.4947 - val_loss: 1.3545 - val_acc: 0.5264\n",
            "Epoch 3/100\n",
            "893/893 [==============================] - 4s 5ms/step - loss: 1.4035 - acc: 0.5071 - val_loss: 1.3659 - val_acc: 0.5185\n",
            "Epoch 4/100\n",
            "893/893 [==============================] - 4s 5ms/step - loss: 1.3820 - acc: 0.5176 - val_loss: 1.3441 - val_acc: 0.5253\n",
            "Epoch 5/100\n",
            "893/893 [==============================] - 4s 5ms/step - loss: 1.3516 - acc: 0.5273 - val_loss: 1.3126 - val_acc: 0.5541\n",
            "Epoch 6/100\n",
            "893/893 [==============================] - 4s 5ms/step - loss: 1.3473 - acc: 0.5276 - val_loss: 1.3302 - val_acc: 0.5352\n",
            "Epoch 7/100\n",
            "893/893 [==============================] - 4s 5ms/step - loss: 1.3444 - acc: 0.5312 - val_loss: 1.3519 - val_acc: 0.5349\n",
            "Epoch 8/100\n",
            "893/893 [==============================] - 4s 5ms/step - loss: 1.3200 - acc: 0.5397 - val_loss: 1.3071 - val_acc: 0.5437\n",
            "Epoch 9/100\n",
            "893/893 [==============================] - 4s 5ms/step - loss: 1.3075 - acc: 0.5435 - val_loss: 1.2838 - val_acc: 0.5551\n",
            "Epoch 10/100\n",
            "893/893 [==============================] - 4s 5ms/step - loss: 1.2909 - acc: 0.5489 - val_loss: 1.2520 - val_acc: 0.5631\n",
            "Epoch 11/100\n",
            "893/893 [==============================] - 4s 5ms/step - loss: 1.2845 - acc: 0.5499 - val_loss: 1.3060 - val_acc: 0.5555\n",
            "Epoch 12/100\n",
            "893/893 [==============================] - 4s 5ms/step - loss: 1.2731 - acc: 0.5531 - val_loss: 1.2310 - val_acc: 0.5723\n",
            "Epoch 13/100\n",
            "893/893 [==============================] - 4s 5ms/step - loss: 1.2591 - acc: 0.5558 - val_loss: 1.3401 - val_acc: 0.5279\n",
            "Epoch 14/100\n",
            "893/893 [==============================] - 4s 5ms/step - loss: 1.2598 - acc: 0.5577 - val_loss: 1.2778 - val_acc: 0.5521\n",
            "Epoch 15/100\n",
            "893/893 [==============================] - 4s 5ms/step - loss: 1.2492 - acc: 0.5600 - val_loss: 1.2356 - val_acc: 0.5674\n",
            "Epoch 16/100\n",
            "893/893 [==============================] - 5s 5ms/step - loss: 1.2366 - acc: 0.5635 - val_loss: 1.2354 - val_acc: 0.5667\n",
            "Epoch 17/100\n",
            "893/893 [==============================] - 5s 5ms/step - loss: 1.2268 - acc: 0.5686 - val_loss: 1.2009 - val_acc: 0.5785\n",
            "Epoch 18/100\n",
            "893/893 [==============================] - 4s 5ms/step - loss: 1.2213 - acc: 0.5680 - val_loss: 1.2124 - val_acc: 0.5738\n",
            "Epoch 19/100\n",
            "893/893 [==============================] - 4s 5ms/step - loss: 1.2163 - acc: 0.5711 - val_loss: 1.2087 - val_acc: 0.5754\n",
            "Epoch 20/100\n",
            "893/893 [==============================] - 4s 5ms/step - loss: 1.2123 - acc: 0.5731 - val_loss: 1.2639 - val_acc: 0.5523\n",
            "Epoch 21/100\n",
            "893/893 [==============================] - 4s 5ms/step - loss: 1.2053 - acc: 0.5770 - val_loss: 1.2132 - val_acc: 0.5716\n",
            "Epoch 22/100\n",
            "893/893 [==============================] - 4s 5ms/step - loss: 1.1940 - acc: 0.5767 - val_loss: 1.2119 - val_acc: 0.5743\n"
          ],
          "name": "stdout"
        }
      ]
    },
    {
      "cell_type": "code",
      "metadata": {
        "colab": {
          "base_uri": "https://localhost:8080/",
          "height": 517
        },
        "id": "KNVFTMABKfeq",
        "outputId": "007d8e97-37d6-4f6b-d788-ff0c51769eaf"
      },
      "source": [
        "plt.plot(history.history['loss'], label='training')\n",
        "plt.plot(history.history['val_loss'], label='validation')\n",
        "plt.legend()\n",
        "plt.show()\n",
        "\n",
        "plt.plot(history.history['acc'], label='training')\n",
        "plt.plot(history.history['val_acc'], label='validation')\n",
        "plt.legend()\n",
        "plt.show()"
      ],
      "execution_count": 56,
      "outputs": [
        {
          "output_type": "display_data",
          "data": {
            "image/png": "[encoded data removed]",
            "text/plain": [
              "<Figure size 432x288 with 1 Axes>"
            ]
          },
          "metadata": {
            "tags": [],
            "needs_background": "light"
          }
        },
        {
          "output_type": "display_data",
          "data": {
            "image/png": "[encoded data removed]",
            "text/plain": [
              "<Figure size 432x288 with 1 Axes>"
            ]
          },
          "metadata": {
            "tags": [],
            "needs_background": "light"
          }
        }
      ]
    },
    {
      "cell_type": "code",
      "metadata": {
        "colab": {
          "base_uri": "https://localhost:8080/"
        },
        "id": "MsbpOgsALmzf",
        "outputId": "ea016d2d-bd13-4a1e-b5f1-deb106523f90"
      },
      "source": [
        "score = model.evaluate(x_test, y_test)[1]\n",
        "print(f'Accuracy on test {round(score * 100, 2)} %')"
      ],
      "execution_count": 57,
      "outputs": [
        {
          "output_type": "stream",
          "text": [
            "224/224 [==============================] - 0s 1ms/step - loss: 1.2009 - acc: 0.5785\n",
            "Accuracy on test 57.85 %\n"
          ],
          "name": "stdout"
        }
      ]
    },
    {
      "cell_type": "code",
      "metadata": {
        "colab": {
          "base_uri": "https://localhost:8080/",
          "height": 265
        },
        "id": "OPnKCS88L0nz",
        "outputId": "fc90fea3-fe98-4fa4-b966-49aa3b25bdd8"
      },
      "source": [
        "from sklearn.metrics import confusion_matrix\n",
        "import seaborn as sns\n",
        "\n",
        "preds = model.predict(x_test)\n",
        "y_pred = [np.argmax(pred) for pred in preds]\n",
        "cm = confusion_matrix(y_test, y_pred)\n",
        "\n",
        "ax = sns.heatmap(cm, annot=True, fmt='d', linewidths=.2, square=True)\n",
        "bottom, top = ax.get_ylim()\n",
        "ax.set_ylim(bottom + 0.5, top - 0.5);"
      ],
      "execution_count": 58,
      "outputs": [
        {
          "output_type": "display_data",
          "data": {
            "image/png": "[encoded data removed]",
            "text/plain": [
              "<Figure size 432x288 with 2 Axes>"
            ]
          },
          "metadata": {
            "tags": [],
            "needs_background": "light"
          }
        }
      ]
    },
    {
      "cell_type": "code",
      "metadata": {
        "colab": {
          "base_uri": "https://localhost:8080/"
        },
        "id": "lbYagGr4M_Vj",
        "outputId": "d46a61e7-abae-419a-fb3e-e50379146f8e"
      },
      "source": [
        "classes"
      ],
      "execution_count": 32,
      "outputs": [
        {
          "output_type": "execute_result",
          "data": {
            "text/plain": [
              "['Neutral', 'Happy', 'Surprise', 'Sad', 'Angry', 'Disgust', 'Fear']"
            ]
          },
          "metadata": {
            "tags": []
          },
          "execution_count": 32
        }
      ]
    },
    {
      "cell_type": "code",
      "metadata": {
        "id": "8aRJUGp3mbPz"
      },
      "source": [
        "def showSample():\n",
        "  index = np.random.randint(0, fer2013_new.shape[0])\n",
        "  vector = np.array(fer2013_new.iloc[index]['vector'])\n",
        "\n",
        "  y_preds = model([vector])\n",
        "  predict = np.argmax(preds[0])\n",
        "  prob = float(y_preds[0][predict])\n",
        "\n",
        "  print(predict == fer2013_new.iloc[index]['emotion'])\n",
        "  print(f'Predicted {classes[predict]}')\n",
        "  print(f'Confidence {round(prob * 100, 2)} %')\n",
        "  print(f'Actual {classes[fer2013_new.iloc[index][\"emotion\"]]}')\n",
        "\n",
        "  vec = np.array(vector).reshape(len(vector) // 2, 2)\n",
        "  x = [vec[i][0] for i in range(vec.shape[0])]\n",
        "  y = [vec[i][1] for i in range(vec.shape[0])]\n",
        "  img = align(fer2013_new.iloc[index]['pixels'])\n",
        "  plt.figure(figsize=(5,5))\n",
        "  plt.imshow(img, cmap='gray')\n",
        "  plt.scatter(x, y, color='red')\n",
        "  plt.show()"
      ],
      "execution_count": 79,
      "outputs": []
    },
    {
      "cell_type": "code",
      "metadata": {
        "colab": {
          "base_uri": "https://localhost:8080/",
          "height": 386
        },
        "id": "1DlH-YgL586k",
        "outputId": "293cb6c3-f09d-4e31-8df4-eb454abe985f"
      },
      "source": [
        "showSample()"
      ],
      "execution_count": 94,
      "outputs": [
        {
          "output_type": "stream",
          "text": [
            "True\n",
            "Predicted Neutral\n",
            "Confidence 28.52 %\n",
            "Actual Neutral\n"
          ],
          "name": "stdout"
        },
        {
          "output_type": "display_data",
          "data": {
            "image/png": "[encoded data removed]",
            "text/plain": [
              "<Figure size 360x360 with 1 Axes>"
            ]
          },
          "metadata": {
            "tags": [],
            "needs_background": "light"
          }
        }
      ]
    },
    {
      "cell_type": "code",
      "metadata": {
        "id": "A_r_o8425-V1"
      },
      "source": [
        ""
      ],
      "execution_count": null,
      "outputs": []
    }
  ]
}