{
  "nbformat": 4,
  "nbformat_minor": 0,
  "metadata": {
    "kernelspec": {
      "display_name": "Python 3",
      "language": "python",
      "name": "python3"
    },
    "language_info": {
      "codemirror_mode": {
        "name": "ipython",
        "version": 3
      },
      "file_extension": ".py",
      "mimetype": "text/x-python",
      "name": "python",
      "nbconvert_exporter": "python",
      "pygments_lexer": "ipython3",
      "version": "3.7.4"
    },
    "colab": {
      "name": "vector_model1.ipynb",
      "provenance": [],
      "collapsed_sections": [],
      "include_colab_link": true
    }
  },
  "cells": [
    {
      "cell_type": "markdown",
      "metadata": {
        "id": "view-in-github",
        "colab_type": "text"
      },
      "source": [
        "<a href=\"https://colab.research.google.com/github/karencfisher/face_express/blob/main/notebooks/vector_model1.ipynb\" target=\"_parent\"><img src=\"https://colab.research.google.com/assets/colab-badge.svg\" alt=\"Open In Colab\"/></a>"
      ]
    },
    {
      "cell_type": "code",
      "metadata": {
        "id": "xy88CA3WbaOM"
      },
      "source": [
        "import pandas as pd\n",
        "import matplotlib.pyplot as plt\n",
        "import numpy as np\n",
        "import plotly.express as px"
      ],
      "execution_count": 3,
      "outputs": []
    },
    {
      "cell_type": "code",
      "metadata": {
        "id": "2R3m8u1pbmca",
        "colab": {
          "base_uri": "https://localhost:8080/"
        },
        "outputId": "a62355fa-ff9a-48bb-e159-e1ee4f38914b"
      },
      "source": [
        "from google.colab import drive\n",
        "drive.mount('/content/drive')"
      ],
      "execution_count": 4,
      "outputs": [
        {
          "output_type": "stream",
          "text": [
            "Mounted at /content/drive\n"
          ],
          "name": "stdout"
        }
      ]
    },
    {
      "cell_type": "markdown",
      "metadata": {
        "id": "rCMwaOrxohl3"
      },
      "source": [
        "Data is from https://www.kaggle.com/c/challenges-in-representation-learning-facial-expression-recognition-challenge/data\n",
        "\n",
        "The ```icml_face_data.csv``` dataset which contains a total of 34034 samples. It contains 3 columns. The target label is an integer (0, 6), the seven basic emtions:\n",
        "\n",
        "```\n",
        "['Angry', 'Disgust', 'Fear', 'Happy', 'Sad', 'Surprise', 'Neutral']\n",
        "```\n",
        "\n",
        "The images are stored in the 'pixels' column, as a string of 2304 integer values (0, 255) separated by spaces. These will need be coverted into an array of integer values. Subsequently, they will be needs reshaped into 3-d numpy arrays to be input to the CNN.\n",
        "\n"
      ]
    },
    {
      "cell_type": "code",
      "metadata": {
        "id": "GLi-lS_wbaOh"
      },
      "source": [
        "def loadCleanData(fname):\n",
        "    df = pd.read_csv(fname)\n",
        "    \n",
        "    # regularize capitalization and remove leading space in column headings\n",
        "    fix_cols = {s : s.lower().strip() for s in df.columns.to_list()}\n",
        "    df.rename(columns = fix_cols, inplace=True)\n",
        "    \n",
        "    # convert pixels from strings to lists of integers\n",
        "    df['pixels'] = df['pixels'].apply(lambda x: [int(i) for i in x.split()])\n",
        "    \n",
        "    # Not using the 'usage' column, so can be dropped\n",
        "    df.drop('usage', axis=1, inplace=True)\n",
        "    \n",
        "    return df"
      ],
      "execution_count": 5,
      "outputs": []
    },
    {
      "cell_type": "code",
      "metadata": {
        "id": "Z2RreP2kbaOn",
        "colab": {
          "base_uri": "https://localhost:8080/",
          "height": 197
        },
        "outputId": "05b855b4-697e-4faa-a406-7b6c676c6fdf"
      },
      "source": [
        "df = loadCleanData('/content/drive/MyDrive/face express data/icml_face_data.csv')\n",
        "df.head()"
      ],
      "execution_count": 6,
      "outputs": [
        {
          "output_type": "execute_result",
          "data": {
            "text/html": [
              "<div>\n",
              "<style scoped>\n",
              "    .dataframe tbody tr th:only-of-type {\n",
              "        vertical-align: middle;\n",
              "    }\n",
              "\n",
              "    .dataframe tbody tr th {\n",
              "        vertical-align: top;\n",
              "    }\n",
              "\n",
              "    .dataframe thead th {\n",
              "        text-align: right;\n",
              "    }\n",
              "</style>\n",
              "<table border=\"1\" class=\"dataframe\">\n",
              "  <thead>\n",
              "    <tr style=\"text-align: right;\">\n",
              "      <th></th>\n",
              "      <th>emotion</th>\n",
              "      <th>pixels</th>\n",
              "    </tr>\n",
              "  </thead>\n",
              "  <tbody>\n",
              "    <tr>\n",
              "      <th>0</th>\n",
              "      <td>0</td>\n",
              "      <td>[70, 80, 82, 72, 58, 58, 60, 63, 54, 58, 60, 4...</td>\n",
              "    </tr>\n",
              "    <tr>\n",
              "      <th>1</th>\n",
              "      <td>0</td>\n",
              "      <td>[151, 150, 147, 155, 148, 133, 111, 140, 170, ...</td>\n",
              "    </tr>\n",
              "    <tr>\n",
              "      <th>2</th>\n",
              "      <td>2</td>\n",
              "      <td>[231, 212, 156, 164, 174, 138, 161, 173, 182, ...</td>\n",
              "    </tr>\n",
              "    <tr>\n",
              "      <th>3</th>\n",
              "      <td>4</td>\n",
              "      <td>[24, 32, 36, 30, 32, 23, 19, 20, 30, 41, 21, 2...</td>\n",
              "    </tr>\n",
              "    <tr>\n",
              "      <th>4</th>\n",
              "      <td>6</td>\n",
              "      <td>[4, 0, 0, 0, 0, 0, 0, 0, 0, 0, 0, 0, 3, 15, 23...</td>\n",
              "    </tr>\n",
              "  </tbody>\n",
              "</table>\n",
              "</div>"
            ],
            "text/plain": [
              "   emotion                                             pixels\n",
              "0        0  [70, 80, 82, 72, 58, 58, 60, 63, 54, 58, 60, 4...\n",
              "1        0  [151, 150, 147, 155, 148, 133, 111, 140, 170, ...\n",
              "2        2  [231, 212, 156, 164, 174, 138, 161, 173, 182, ...\n",
              "3        4  [24, 32, 36, 30, 32, 23, 19, 20, 30, 41, 21, 2...\n",
              "4        6  [4, 0, 0, 0, 0, 0, 0, 0, 0, 0, 0, 0, 3, 15, 23..."
            ]
          },
          "metadata": {
            "tags": []
          },
          "execution_count": 6
        }
      ]
    },
    {
      "cell_type": "code",
      "metadata": {
        "id": "XNPOPANPbaOu"
      },
      "source": [
        "classes = ['Angry', 'Disgust', 'Fear', 'Happy', 'Sad', 'Surprise', 'Neutral']"
      ],
      "execution_count": 7,
      "outputs": []
    },
    {
      "cell_type": "code",
      "metadata": {
        "id": "K90Jkcy28za_"
      },
      "source": [
        "from imutils import face_utils"
      ],
      "execution_count": 8,
      "outputs": []
    },
    {
      "cell_type": "code",
      "metadata": {
        "id": "SbmbXLRuVhEx",
        "colab": {
          "base_uri": "https://localhost:8080/"
        },
        "outputId": "252b94a3-19a4-4bbd-a2c2-dc71a6e7b736"
      },
      "source": [
        "import dlib\n",
        "\n",
        "!wget https://github.com/italojs/facial-landmarks-recognition/blob/master/shape_predictor_68_face_landmarks.dat?raw=true"
      ],
      "execution_count": 9,
      "outputs": [
        {
          "output_type": "stream",
          "text": [
            "--2020-11-20 19:18:15--  https://github.com/italojs/facial-landmarks-recognition/blob/master/shape_predictor_68_face_landmarks.dat?raw=true\n",
            "Resolving github.com (github.com)... 140.82.114.3\n",
            "Connecting to github.com (github.com)|140.82.114.3|:443... connected.\n",
            "HTTP request sent, awaiting response... 302 Found\n",
            "Location: https://github.com/italojs/facial-landmarks-recognition/raw/master/shape_predictor_68_face_landmarks.dat [following]\n",
            "--2020-11-20 19:18:15--  https://github.com/italojs/facial-landmarks-recognition/raw/master/shape_predictor_68_face_landmarks.dat\n",
            "Reusing existing connection to github.com:443.\n",
            "HTTP request sent, awaiting response... 302 Found\n",
            "Location: https://raw.githubusercontent.com/italojs/facial-landmarks-recognition/master/shape_predictor_68_face_landmarks.dat [following]\n",
            "--2020-11-20 19:18:15--  https://raw.githubusercontent.com/italojs/facial-landmarks-recognition/master/shape_predictor_68_face_landmarks.dat\n",
            "Resolving raw.githubusercontent.com (raw.githubusercontent.com)... 151.101.0.133, 151.101.64.133, 151.101.128.133, ...\n",
            "Connecting to raw.githubusercontent.com (raw.githubusercontent.com)|151.101.0.133|:443... connected.\n",
            "HTTP request sent, awaiting response... 200 OK\n",
            "Length: 99693937 (95M) [application/octet-stream]\n",
            "Saving to: ‘shape_predictor_68_face_landmarks.dat?raw=true’\n",
            "\n",
            "shape_predictor_68_ 100%[===================>]  95.08M   123MB/s    in 0.8s    \n",
            "\n",
            "2020-11-20 19:18:18 (123 MB/s) - ‘shape_predictor_68_face_landmarks.dat?raw=true’ saved [99693937/99693937]\n",
            "\n"
          ],
          "name": "stdout"
        }
      ]
    },
    {
      "cell_type": "code",
      "metadata": {
        "id": "kicXt14G2a7Q"
      },
      "source": [
        "predictor = dlib.shape_predictor(\"shape_predictor_68_face_landmarks.dat?raw=true\")\n",
        "\n",
        "def vectorizeFace(image):\n",
        "  n = int(np.sqrt(len(image)))\n",
        "  img = np.array(image, dtype=np.uint8).reshape(n, n)\n",
        "  rect = dlib.rectangle(0, 0, n, n)\n",
        "  shapes = predictor(img, rect)\n",
        "  vect = face_utils.shape_to_np(shapes).reshape(136)\n",
        "  return list(vect)"
      ],
      "execution_count": 10,
      "outputs": []
    },
    {
      "cell_type": "code",
      "metadata": {
        "id": "xLkVg9RpInmC"
      },
      "source": [
        ""
      ],
      "execution_count": null,
      "outputs": []
    },
    {
      "cell_type": "code",
      "metadata": {
        "colab": {
          "base_uri": "https://localhost:8080/",
          "height": 197
        },
        "id": "CHEuGtqPB6FO",
        "outputId": "aeaf3ae3-2dba-42f5-d516-c9b1cfeb4ce7"
      },
      "source": [
        "df['vector'] = df['pixels'].apply(vectorizeFace)\n",
        "df.head()"
      ],
      "execution_count": 11,
      "outputs": [
        {
          "output_type": "execute_result",
          "data": {
            "text/html": [
              "<div>\n",
              "<style scoped>\n",
              "    .dataframe tbody tr th:only-of-type {\n",
              "        vertical-align: middle;\n",
              "    }\n",
              "\n",
              "    .dataframe tbody tr th {\n",
              "        vertical-align: top;\n",
              "    }\n",
              "\n",
              "    .dataframe thead th {\n",
              "        text-align: right;\n",
              "    }\n",
              "</style>\n",
              "<table border=\"1\" class=\"dataframe\">\n",
              "  <thead>\n",
              "    <tr style=\"text-align: right;\">\n",
              "      <th></th>\n",
              "      <th>emotion</th>\n",
              "      <th>pixels</th>\n",
              "      <th>vector</th>\n",
              "    </tr>\n",
              "  </thead>\n",
              "  <tbody>\n",
              "    <tr>\n",
              "      <th>0</th>\n",
              "      <td>0</td>\n",
              "      <td>[70, 80, 82, 72, 58, 58, 60, 63, 54, 58, 60, 4...</td>\n",
              "      <td>[-1, 15, -1, 22, -1, 28, -1, 34, 1, 40, 5, 44,...</td>\n",
              "    </tr>\n",
              "    <tr>\n",
              "      <th>1</th>\n",
              "      <td>0</td>\n",
              "      <td>[151, 150, 147, 155, 148, 133, 111, 140, 170, ...</td>\n",
              "      <td>[3, 25, 5, 30, 6, 34, 8, 37, 11, 41, 13, 45, 1...</td>\n",
              "    </tr>\n",
              "    <tr>\n",
              "      <th>2</th>\n",
              "      <td>2</td>\n",
              "      <td>[231, 212, 156, 164, 174, 138, 161, 173, 182, ...</td>\n",
              "      <td>[7, 11, 6, 16, 5, 20, 5, 25, 5, 30, 5, 35, 8, ...</td>\n",
              "    </tr>\n",
              "    <tr>\n",
              "      <th>3</th>\n",
              "      <td>4</td>\n",
              "      <td>[24, 32, 36, 30, 32, 23, 19, 20, 30, 41, 21, 2...</td>\n",
              "      <td>[1, 19, 1, 24, 2, 28, 3, 34, 5, 39, 8, 43, 12,...</td>\n",
              "    </tr>\n",
              "    <tr>\n",
              "      <th>4</th>\n",
              "      <td>6</td>\n",
              "      <td>[4, 0, 0, 0, 0, 0, 0, 0, 0, 0, 0, 0, 3, 15, 23...</td>\n",
              "      <td>[2, 20, 3, 25, 4, 30, 5, 35, 7, 40, 10, 44, 13...</td>\n",
              "    </tr>\n",
              "  </tbody>\n",
              "</table>\n",
              "</div>"
            ],
            "text/plain": [
              "   emotion  ...                                             vector\n",
              "0        0  ...  [-1, 15, -1, 22, -1, 28, -1, 34, 1, 40, 5, 44,...\n",
              "1        0  ...  [3, 25, 5, 30, 6, 34, 8, 37, 11, 41, 13, 45, 1...\n",
              "2        2  ...  [7, 11, 6, 16, 5, 20, 5, 25, 5, 30, 5, 35, 8, ...\n",
              "3        4  ...  [1, 19, 1, 24, 2, 28, 3, 34, 5, 39, 8, 43, 12,...\n",
              "4        6  ...  [2, 20, 3, 25, 4, 30, 5, 35, 7, 40, 10, 44, 13...\n",
              "\n",
              "[5 rows x 3 columns]"
            ]
          },
          "metadata": {
            "tags": []
          },
          "execution_count": 11
        }
      ]
    },
    {
      "cell_type": "code",
      "metadata": {
        "id": "lwQu8XQoETkY"
      },
      "source": [
        "def visualizeFaceVector(row):\n",
        "  vec = np.array(df.iloc[row]['vector']).reshape(68, 2)\n",
        "  x = [vec[i][0] for i in range(vec.shape[0])]\n",
        "  y = [vec[i][1] for i in range(vec.shape[0])]\n",
        "  img = np.array(df.iloc[row]['pixels']).reshape(48, 48)\n",
        "  plt.figure(figsize=(5,5))\n",
        "  plt.imshow(img, cmap='gray')\n",
        "  plt.scatter(x, y, color='red')\n",
        "  plt.title(classes[df.iloc[row]['emotion']])\n",
        "  plt.show()"
      ],
      "execution_count": 41,
      "outputs": []
    },
    {
      "cell_type": "code",
      "metadata": {
        "colab": {
          "base_uri": "https://localhost:8080/",
          "height": 315
        },
        "id": "ejvKGqvmFOlo",
        "outputId": "5c35a1bf-25ff-4514-fd76-ac02709e6d12"
      },
      "source": [
        "visualizeFaceVector(42)"
      ],
      "execution_count": 42,
      "outputs": [
        {
          "output_type": "display_data",
          "data": {
            "image/png": "[encoded data removed]",
            "text/plain": [
              "<Figure size 360x360 with 1 Axes>"
            ]
          },
          "metadata": {
            "tags": [],
            "needs_background": "light"
          }
        }
      ]
    },
    {
      "cell_type": "code",
      "metadata": {
        "id": "9wPMp-3-FmBq"
      },
      "source": [
        "from sklearn.model_selection import train_test_split\n",
        "\n",
        "from tensorflow.keras.layers import Dense, Input\n",
        "from tensorflow.keras.models import Sequential\n",
        "from tensorflow.keras.callbacks import EarlyStopping, ModelCheckpoint\n",
        "from tensorflow.keras.layers.experimental.preprocessing import Normalization\n",
        "from tensorflow.keras.optimizers import Adam, RMSprop, SGD"
      ],
      "execution_count": 162,
      "outputs": []
    },
    {
      "cell_type": "code",
      "metadata": {
        "colab": {
          "base_uri": "https://localhost:8080/"
        },
        "id": "OZ0LP9rHH5nM",
        "outputId": "e44e1457-3110-42d6-d8a4-e571107f6360"
      },
      "source": [
        "x_train, x_test, y_train, y_test = train_test_split(df['vector'],\n",
        "                                                    df['emotion'],\n",
        "                                                    test_size=0.2,\n",
        "                                                    stratify=df['emotion'],\n",
        "                                                    random_state=42)\n",
        "\n",
        "x_train.shape, x_test.shape, y_train.shape, y_test.shape"
      ],
      "execution_count": 188,
      "outputs": [
        {
          "output_type": "execute_result",
          "data": {
            "text/plain": [
              "((28709,), (7178,), (28709,), (7178,))"
            ]
          },
          "metadata": {
            "tags": []
          },
          "execution_count": 188
        }
      ]
    },
    {
      "cell_type": "markdown",
      "metadata": {
        "id": "mdIyl5OinYTL"
      },
      "source": [
        ""
      ]
    },
    {
      "cell_type": "code",
      "metadata": {
        "colab": {
          "base_uri": "https://localhost:8080/"
        },
        "id": "hxYzRj1YH6Jk",
        "outputId": "7e5be083-59e0-4ce8-b14d-c7161906e3b1"
      },
      "source": [
        "# transform lists of vector values into numpy arrays\n",
        "x_train = np.vstack(x_train)\n",
        "x_test = np.vstack(x_test)\n",
        "\n",
        "# Convert the pandas series of target classes to numpy array\n",
        "y_train = np.asarray(y_train)\n",
        "y_test = np.asarray(y_test)\n",
        "\n",
        "x_train.shape, y_train.shape"
      ],
      "execution_count": 189,
      "outputs": [
        {
          "output_type": "execute_result",
          "data": {
            "text/plain": [
              "((28709, 136), (28709,))"
            ]
          },
          "metadata": {
            "tags": []
          },
          "execution_count": 189
        }
      ]
    },
    {
      "cell_type": "code",
      "metadata": {
        "colab": {
          "base_uri": "https://localhost:8080/"
        },
        "id": "uWEOPVXEIesw",
        "outputId": "81c99c15-3cf6-4943-d156-f8362c6af0f2"
      },
      "source": [
        "model = Sequential([Input(shape=x_train.shape[1:]),\n",
        "                    Normalization(),\n",
        "                    Dense(128, activation='relu'),\n",
        "                    Dense(128, activation='relu'),\n",
        "                    Dense(64, activation='relu'),\n",
        "                    Dense(64, activation='relu'),\n",
        "                    Dense(32, activation='relu'),\n",
        "                    Dense(32, activation='relu'),\n",
        "                    Dense(7, activation='softmax')])\n",
        "\n",
        "model.compile(optimizer=Adam(lr=.001), loss='sparse_categorical_crossentropy', metrics=['acc'])\n",
        "model.summary()"
      ],
      "execution_count": 211,
      "outputs": [
        {
          "output_type": "stream",
          "text": [
            "Model: \"sequential_30\"\n",
            "_________________________________________________________________\n",
            "Layer (type)                 Output Shape              Param #   \n",
            "=================================================================\n",
            "normalization_18 (Normalizat (None, 136)               273       \n",
            "_________________________________________________________________\n",
            "dense_146 (Dense)            (None, 128)               17536     \n",
            "_________________________________________________________________\n",
            "dense_147 (Dense)            (None, 128)               16512     \n",
            "_________________________________________________________________\n",
            "dense_148 (Dense)            (None, 64)                8256      \n",
            "_________________________________________________________________\n",
            "dense_149 (Dense)            (None, 64)                4160      \n",
            "_________________________________________________________________\n",
            "dense_150 (Dense)            (None, 32)                2080      \n",
            "_________________________________________________________________\n",
            "dense_151 (Dense)            (None, 32)                1056      \n",
            "_________________________________________________________________\n",
            "dense_152 (Dense)            (None, 7)                 231       \n",
            "=================================================================\n",
            "Total params: 50,104\n",
            "Trainable params: 49,831\n",
            "Non-trainable params: 273\n",
            "_________________________________________________________________\n"
          ],
          "name": "stdout"
        }
      ]
    },
    {
      "cell_type": "code",
      "metadata": {
        "colab": {
          "base_uri": "https://localhost:8080/"
        },
        "id": "yk1F6KyOKE5h",
        "outputId": "c40a052c-a5d5-443a-d790-dd197dcdad5c"
      },
      "source": [
        "stop = EarlyStopping(monitor='val_acc', patience=5, restore_best_weights=True)\n",
        "\n",
        "history = model.fit(x_train, \n",
        "          y_train,\n",
        "          validation_data=(x_test, y_test),\n",
        "          epochs=100, \n",
        "          batch_size=128, \n",
        "          callbacks=[stop])"
      ],
      "execution_count": 212,
      "outputs": [
        {
          "output_type": "stream",
          "text": [
            "Epoch 1/100\n",
            "225/225 [==============================] - 1s 4ms/step - loss: 1.9192 - acc: 0.2589 - val_loss: 1.7084 - val_acc: 0.2991\n",
            "Epoch 2/100\n",
            "225/225 [==============================] - 1s 3ms/step - loss: 1.6729 - acc: 0.3397 - val_loss: 1.8233 - val_acc: 0.2346\n",
            "Epoch 3/100\n",
            "225/225 [==============================] - 1s 3ms/step - loss: 1.6322 - acc: 0.3599 - val_loss: 1.7053 - val_acc: 0.3272\n",
            "Epoch 4/100\n",
            "225/225 [==============================] - 1s 3ms/step - loss: 1.5877 - acc: 0.3830 - val_loss: 1.5860 - val_acc: 0.3771\n",
            "Epoch 5/100\n",
            "225/225 [==============================] - 1s 3ms/step - loss: 1.5658 - acc: 0.3918 - val_loss: 1.5697 - val_acc: 0.3911\n",
            "Epoch 6/100\n",
            "225/225 [==============================] - 1s 3ms/step - loss: 1.5477 - acc: 0.3981 - val_loss: 1.6194 - val_acc: 0.3710\n",
            "Epoch 7/100\n",
            "225/225 [==============================] - 1s 3ms/step - loss: 1.5325 - acc: 0.4058 - val_loss: 1.5124 - val_acc: 0.4136\n",
            "Epoch 8/100\n",
            "225/225 [==============================] - 1s 3ms/step - loss: 1.5171 - acc: 0.4101 - val_loss: 1.4989 - val_acc: 0.4167\n",
            "Epoch 9/100\n",
            "225/225 [==============================] - 1s 3ms/step - loss: 1.5237 - acc: 0.4110 - val_loss: 1.6587 - val_acc: 0.3558\n",
            "Epoch 10/100\n",
            "225/225 [==============================] - 1s 3ms/step - loss: 1.4967 - acc: 0.4215 - val_loss: 1.6352 - val_acc: 0.3688\n",
            "Epoch 11/100\n",
            "225/225 [==============================] - 1s 3ms/step - loss: 1.5102 - acc: 0.4181 - val_loss: 1.5135 - val_acc: 0.4161\n",
            "Epoch 12/100\n",
            "225/225 [==============================] - 1s 3ms/step - loss: 1.4846 - acc: 0.4292 - val_loss: 1.5029 - val_acc: 0.4218\n",
            "Epoch 13/100\n",
            "225/225 [==============================] - 1s 3ms/step - loss: 1.4854 - acc: 0.4281 - val_loss: 1.4755 - val_acc: 0.4341\n",
            "Epoch 14/100\n",
            "225/225 [==============================] - 1s 3ms/step - loss: 1.4939 - acc: 0.4229 - val_loss: 1.5268 - val_acc: 0.4055\n",
            "Epoch 15/100\n",
            "225/225 [==============================] - 1s 3ms/step - loss: 1.4853 - acc: 0.4275 - val_loss: 1.4768 - val_acc: 0.4398\n",
            "Epoch 16/100\n",
            "225/225 [==============================] - 1s 3ms/step - loss: 1.4675 - acc: 0.4374 - val_loss: 1.5196 - val_acc: 0.4107\n",
            "Epoch 17/100\n",
            "225/225 [==============================] - 1s 3ms/step - loss: 1.4632 - acc: 0.4342 - val_loss: 1.4770 - val_acc: 0.4291\n",
            "Epoch 18/100\n",
            "225/225 [==============================] - 1s 3ms/step - loss: 1.4874 - acc: 0.4257 - val_loss: 1.4535 - val_acc: 0.4466\n",
            "Epoch 19/100\n",
            "225/225 [==============================] - 1s 3ms/step - loss: 1.4759 - acc: 0.4327 - val_loss: 1.4884 - val_acc: 0.4329\n",
            "Epoch 20/100\n",
            "225/225 [==============================] - 1s 3ms/step - loss: 1.4515 - acc: 0.4408 - val_loss: 1.4707 - val_acc: 0.4335\n",
            "Epoch 21/100\n",
            "225/225 [==============================] - 1s 3ms/step - loss: 1.4466 - acc: 0.4401 - val_loss: 1.4452 - val_acc: 0.4377\n",
            "Epoch 22/100\n",
            "225/225 [==============================] - 1s 3ms/step - loss: 1.4387 - acc: 0.4472 - val_loss: 1.4390 - val_acc: 0.4441\n",
            "Epoch 23/100\n",
            "225/225 [==============================] - 1s 3ms/step - loss: 1.4408 - acc: 0.4485 - val_loss: 1.4244 - val_acc: 0.4504\n",
            "Epoch 24/100\n",
            "225/225 [==============================] - 1s 3ms/step - loss: 1.4352 - acc: 0.4465 - val_loss: 1.4549 - val_acc: 0.4394\n",
            "Epoch 25/100\n",
            "225/225 [==============================] - 1s 3ms/step - loss: 1.4516 - acc: 0.4395 - val_loss: 1.4434 - val_acc: 0.4447\n",
            "Epoch 26/100\n",
            "225/225 [==============================] - 1s 3ms/step - loss: 1.4447 - acc: 0.4422 - val_loss: 1.4171 - val_acc: 0.4517\n",
            "Epoch 27/100\n",
            "225/225 [==============================] - 1s 3ms/step - loss: 1.4327 - acc: 0.4485 - val_loss: 1.4696 - val_acc: 0.4313\n",
            "Epoch 28/100\n",
            "225/225 [==============================] - 1s 3ms/step - loss: 1.4272 - acc: 0.4506 - val_loss: 1.4440 - val_acc: 0.4475\n",
            "Epoch 29/100\n",
            "225/225 [==============================] - 1s 3ms/step - loss: 1.4200 - acc: 0.4503 - val_loss: 1.4282 - val_acc: 0.4533\n",
            "Epoch 30/100\n",
            "225/225 [==============================] - 1s 3ms/step - loss: 1.4280 - acc: 0.4474 - val_loss: 1.4291 - val_acc: 0.4508\n",
            "Epoch 31/100\n",
            "225/225 [==============================] - 1s 3ms/step - loss: 1.4206 - acc: 0.4514 - val_loss: 1.4151 - val_acc: 0.4537\n",
            "Epoch 32/100\n",
            "225/225 [==============================] - 1s 3ms/step - loss: 1.4077 - acc: 0.4586 - val_loss: 1.4864 - val_acc: 0.4308\n",
            "Epoch 33/100\n",
            "225/225 [==============================] - 1s 3ms/step - loss: 1.4133 - acc: 0.4505 - val_loss: 1.4328 - val_acc: 0.4479\n",
            "Epoch 34/100\n",
            "225/225 [==============================] - 1s 3ms/step - loss: 1.4152 - acc: 0.4548 - val_loss: 1.3897 - val_acc: 0.4606\n",
            "Epoch 35/100\n",
            "225/225 [==============================] - 1s 3ms/step - loss: 1.4023 - acc: 0.4583 - val_loss: 1.4274 - val_acc: 0.4537\n",
            "Epoch 36/100\n",
            "225/225 [==============================] - 1s 3ms/step - loss: 1.3998 - acc: 0.4595 - val_loss: 1.4351 - val_acc: 0.4487\n",
            "Epoch 37/100\n",
            "225/225 [==============================] - 1s 3ms/step - loss: 1.4150 - acc: 0.4528 - val_loss: 1.4695 - val_acc: 0.4347\n",
            "Epoch 38/100\n",
            "225/225 [==============================] - 1s 3ms/step - loss: 1.4091 - acc: 0.4562 - val_loss: 1.4071 - val_acc: 0.4568\n",
            "Epoch 39/100\n",
            "225/225 [==============================] - 1s 3ms/step - loss: 1.4046 - acc: 0.4568 - val_loss: 1.4357 - val_acc: 0.4436\n"
          ],
          "name": "stdout"
        }
      ]
    },
    {
      "cell_type": "code",
      "metadata": {
        "colab": {
          "base_uri": "https://localhost:8080/",
          "height": 513
        },
        "id": "KNVFTMABKfeq",
        "outputId": "fbc566f4-a6b9-4c9d-a1a5-e62eb277bac8"
      },
      "source": [
        "plt.plot(history.history['loss'], label='training')\n",
        "plt.plot(history.history['val_loss'], label='validation')\n",
        "plt.legend()\n",
        "plt.show()\n",
        "\n",
        "plt.plot(history.history['acc'], label='training')\n",
        "plt.plot(history.history['val_acc'], label='validation')\n",
        "plt.legend()\n",
        "plt.show()"
      ],
      "execution_count": 213,
      "outputs": [
        {
          "output_type": "display_data",
          "data": {
            "image/png": "[encoded data removed]",
            "text/plain": [
              "<Figure size 432x288 with 1 Axes>"
            ]
          },
          "metadata": {
            "tags": [],
            "needs_background": "light"
          }
        },
        {
          "output_type": "display_data",
          "data": {
            "image/png": "[encoded data removed]",
            "text/plain": [
              "<Figure size 432x288 with 1 Axes>"
            ]
          },
          "metadata": {
            "tags": [],
            "needs_background": "light"
          }
        }
      ]
    },
    {
      "cell_type": "code",
      "metadata": {
        "colab": {
          "base_uri": "https://localhost:8080/"
        },
        "id": "MsbpOgsALmzf",
        "outputId": "438db5b7-68f2-439e-98dd-ec88808099a6"
      },
      "source": [
        "score = model.evaluate(x_test, y_test)[1]\n",
        "print(f'Accuracy on test {round(score * 100, 2)} %')"
      ],
      "execution_count": 214,
      "outputs": [
        {
          "output_type": "stream",
          "text": [
            "225/225 [==============================] - 0s 1ms/step - loss: 1.3897 - acc: 0.4606\n",
            "Accuracy on test 46.06 %\n"
          ],
          "name": "stdout"
        }
      ]
    },
    {
      "cell_type": "code",
      "metadata": {
        "colab": {
          "base_uri": "https://localhost:8080/",
          "height": 264
        },
        "id": "OPnKCS88L0nz",
        "outputId": "a9a147ca-0c3e-4e43-944d-97215b364d0d"
      },
      "source": [
        "from sklearn.metrics import confusion_matrix\n",
        "import seaborn as sns\n",
        "\n",
        "preds = model.predict(x_test)\n",
        "y_pred = [np.argmax(pred) for pred in preds]\n",
        "cm = confusion_matrix(y_test, y_pred)\n",
        "\n",
        "ax = sns.heatmap(cm, annot=True, fmt='d', linewidths=.2, square=True)\n",
        "bottom, top = ax.get_ylim()\n",
        "ax.set_ylim(bottom + 0.5, top - 0.5);"
      ],
      "execution_count": 215,
      "outputs": [
        {
          "output_type": "display_data",
          "data": {
            "image/png": "[encoded data removed]",
            "text/plain": [
              "<Figure size 432x288 with 2 Axes>"
            ]
          },
          "metadata": {
            "tags": [],
            "needs_background": "light"
          }
        }
      ]
    },
    {
      "cell_type": "code",
      "metadata": {
        "colab": {
          "base_uri": "https://localhost:8080/"
        },
        "id": "lbYagGr4M_Vj",
        "outputId": "1ccf63ab-b4de-4efd-f827-8eb0cb732147"
      },
      "source": [
        "classes"
      ],
      "execution_count": 153,
      "outputs": [
        {
          "output_type": "execute_result",
          "data": {
            "text/plain": [
              "['Angry', 'Disgust', 'Fear', 'Happy', 'Sad', 'Surprise', 'Neutral']"
            ]
          },
          "metadata": {
            "tags": []
          },
          "execution_count": 153
        }
      ]
    },
    {
      "cell_type": "code",
      "metadata": {
        "id": "8aRJUGp3mbPz"
      },
      "source": [
        ""
      ],
      "execution_count": null,
      "outputs": []
    }
  ]
}