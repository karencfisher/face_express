{
  "nbformat": 4,
  "nbformat_minor": 0,
  "metadata": {
    "kernelspec": {
      "display_name": "Python 3",
      "language": "python",
      "name": "python3"
    },
    "language_info": {
      "codemirror_mode": {
        "name": "ipython",
        "version": 3
      },
      "file_extension": ".py",
      "mimetype": "text/x-python",
      "name": "python",
      "nbconvert_exporter": "python",
      "pygments_lexer": "ipython3",
      "version": "3.7.4"
    },
    "colab": {
      "name": "conv_model3.ipynb",
      "provenance": [],
      "collapsed_sections": [],
      "include_colab_link": true
    },
    "accelerator": "GPU"
  },
  "cells": [
    {
      "cell_type": "markdown",
      "metadata": {
        "id": "view-in-github",
        "colab_type": "text"
      },
      "source": [
        "<a href=\"https://colab.research.google.com/github/karencfisher/face_express/blob/main/notebooks/conv_model3.ipynb\" target=\"_parent\"><img src=\"https://colab.research.google.com/assets/colab-badge.svg\" alt=\"Open In Colab\"/></a>"
      ]
    },
    {
      "cell_type": "code",
      "metadata": {
        "id": "xy88CA3WbaOM"
      },
      "source": [
        "import pandas as pd\n",
        "import matplotlib.pyplot as plt\n",
        "import numpy as np\n",
        "import plotly.express as px"
      ],
      "execution_count": 2,
      "outputs": []
    },
    {
      "cell_type": "code",
      "metadata": {
        "id": "2R3m8u1pbmca",
        "colab": {
          "base_uri": "https://localhost:8080/"
        },
        "outputId": "bda03f98-738b-40f9-980b-9dd1af5eaf59"
      },
      "source": [
        "from google.colab import drive\n",
        "drive.mount('/content/drive')"
      ],
      "execution_count": 3,
      "outputs": [
        {
          "output_type": "stream",
          "text": [
            "Mounted at /content/drive\n"
          ],
          "name": "stdout"
        }
      ]
    },
    {
      "cell_type": "markdown",
      "metadata": {
        "id": "rCMwaOrxohl3"
      },
      "source": [
        "Data is from https://www.kaggle.com/c/challenges-in-representation-learning-facial-expression-recognition-challenge/data\n",
        "\n",
        "The ```icml_face_data.csv``` dataset which contains a total of 34034 samples. It contains 3 columns. The target label is an integer (0, 6), the seven basic emtions:\n",
        "\n",
        "```\n",
        "['Angry', 'Disgust', 'Fear', 'Happy', 'Sad', 'Surprise', 'Neutral']\n",
        "```\n",
        "\n",
        "The images are stored in the 'pixels' column, as a string of 2304 integer values (0, 255) separated by spaces. These will need be coverted into an array of integer values. Subsequently, they will be needs reshaped into 3-d numpy arrays to be input to the CNN.\n",
        "\n"
      ]
    },
    {
      "cell_type": "code",
      "metadata": {
        "id": "GLi-lS_wbaOh"
      },
      "source": [
        "def loadCleanData(fname):\n",
        "    df = pd.read_csv(fname)\n",
        "    \n",
        "    # regularize capitalization and remove leading space in column headings\n",
        "    fix_cols = {s : s.lower().strip() for s in df.columns.to_list()}\n",
        "    df.rename(columns = fix_cols, inplace=True)\n",
        "    \n",
        "    # convert pixels from strings to lists of integers\n",
        "    df['pixels'] = df['pixels'].apply(lambda x: [int(i) for i in x.split()])\n",
        "    \n",
        "    return df"
      ],
      "execution_count": 4,
      "outputs": []
    },
    {
      "cell_type": "code",
      "metadata": {
        "id": "Z2RreP2kbaOn",
        "colab": {
          "base_uri": "https://localhost:8080/",
          "height": 197
        },
        "outputId": "f83d3690-a94c-45cd-a794-cd0b73e664fb"
      },
      "source": [
        "df = loadCleanData('/content/drive/MyDrive/face express data/icml_face_data.csv')\n",
        "df.head()"
      ],
      "execution_count": 5,
      "outputs": [
        {
          "output_type": "execute_result",
          "data": {
            "text/html": [
              "<div>\n",
              "<style scoped>\n",
              "    .dataframe tbody tr th:only-of-type {\n",
              "        vertical-align: middle;\n",
              "    }\n",
              "\n",
              "    .dataframe tbody tr th {\n",
              "        vertical-align: top;\n",
              "    }\n",
              "\n",
              "    .dataframe thead th {\n",
              "        text-align: right;\n",
              "    }\n",
              "</style>\n",
              "<table border=\"1\" class=\"dataframe\">\n",
              "  <thead>\n",
              "    <tr style=\"text-align: right;\">\n",
              "      <th></th>\n",
              "      <th>emotion</th>\n",
              "      <th>usage</th>\n",
              "      <th>pixels</th>\n",
              "    </tr>\n",
              "  </thead>\n",
              "  <tbody>\n",
              "    <tr>\n",
              "      <th>0</th>\n",
              "      <td>0</td>\n",
              "      <td>Training</td>\n",
              "      <td>[70, 80, 82, 72, 58, 58, 60, 63, 54, 58, 60, 4...</td>\n",
              "    </tr>\n",
              "    <tr>\n",
              "      <th>1</th>\n",
              "      <td>0</td>\n",
              "      <td>Training</td>\n",
              "      <td>[151, 150, 147, 155, 148, 133, 111, 140, 170, ...</td>\n",
              "    </tr>\n",
              "    <tr>\n",
              "      <th>2</th>\n",
              "      <td>2</td>\n",
              "      <td>Training</td>\n",
              "      <td>[231, 212, 156, 164, 174, 138, 161, 173, 182, ...</td>\n",
              "    </tr>\n",
              "    <tr>\n",
              "      <th>3</th>\n",
              "      <td>4</td>\n",
              "      <td>Training</td>\n",
              "      <td>[24, 32, 36, 30, 32, 23, 19, 20, 30, 41, 21, 2...</td>\n",
              "    </tr>\n",
              "    <tr>\n",
              "      <th>4</th>\n",
              "      <td>6</td>\n",
              "      <td>Training</td>\n",
              "      <td>[4, 0, 0, 0, 0, 0, 0, 0, 0, 0, 0, 0, 3, 15, 23...</td>\n",
              "    </tr>\n",
              "  </tbody>\n",
              "</table>\n",
              "</div>"
            ],
            "text/plain": [
              "   emotion     usage                                             pixels\n",
              "0        0  Training  [70, 80, 82, 72, 58, 58, 60, 63, 54, 58, 60, 4...\n",
              "1        0  Training  [151, 150, 147, 155, 148, 133, 111, 140, 170, ...\n",
              "2        2  Training  [231, 212, 156, 164, 174, 138, 161, 173, 182, ...\n",
              "3        4  Training  [24, 32, 36, 30, 32, 23, 19, 20, 30, 41, 21, 2...\n",
              "4        6  Training  [4, 0, 0, 0, 0, 0, 0, 0, 0, 0, 0, 0, 3, 15, 23..."
            ]
          },
          "metadata": {
            "tags": []
          },
          "execution_count": 5
        }
      ]
    },
    {
      "cell_type": "code",
      "metadata": {
        "colab": {
          "base_uri": "https://localhost:8080/",
          "height": 197
        },
        "id": "fyj947F4iand",
        "outputId": "cae9cf31-3415-4038-8836-96915f96b8c3"
      },
      "source": [
        "df_labels = pd.read_csv('https://raw.githubusercontent.com/microsoft/FERPlus/master/fer2013new.csv')\n",
        "df_labels.head()"
      ],
      "execution_count": 6,
      "outputs": [
        {
          "output_type": "execute_result",
          "data": {
            "text/html": [
              "<div>\n",
              "<style scoped>\n",
              "    .dataframe tbody tr th:only-of-type {\n",
              "        vertical-align: middle;\n",
              "    }\n",
              "\n",
              "    .dataframe tbody tr th {\n",
              "        vertical-align: top;\n",
              "    }\n",
              "\n",
              "    .dataframe thead th {\n",
              "        text-align: right;\n",
              "    }\n",
              "</style>\n",
              "<table border=\"1\" class=\"dataframe\">\n",
              "  <thead>\n",
              "    <tr style=\"text-align: right;\">\n",
              "      <th></th>\n",
              "      <th>Usage</th>\n",
              "      <th>Image name</th>\n",
              "      <th>neutral</th>\n",
              "      <th>happiness</th>\n",
              "      <th>surprise</th>\n",
              "      <th>sadness</th>\n",
              "      <th>anger</th>\n",
              "      <th>disgust</th>\n",
              "      <th>fear</th>\n",
              "      <th>contempt</th>\n",
              "      <th>unknown</th>\n",
              "      <th>NF</th>\n",
              "    </tr>\n",
              "  </thead>\n",
              "  <tbody>\n",
              "    <tr>\n",
              "      <th>0</th>\n",
              "      <td>Training</td>\n",
              "      <td>fer0000000.png</td>\n",
              "      <td>4</td>\n",
              "      <td>0</td>\n",
              "      <td>0</td>\n",
              "      <td>1</td>\n",
              "      <td>3</td>\n",
              "      <td>2</td>\n",
              "      <td>0</td>\n",
              "      <td>0</td>\n",
              "      <td>0</td>\n",
              "      <td>0</td>\n",
              "    </tr>\n",
              "    <tr>\n",
              "      <th>1</th>\n",
              "      <td>Training</td>\n",
              "      <td>fer0000001.png</td>\n",
              "      <td>6</td>\n",
              "      <td>0</td>\n",
              "      <td>1</td>\n",
              "      <td>1</td>\n",
              "      <td>0</td>\n",
              "      <td>0</td>\n",
              "      <td>0</td>\n",
              "      <td>0</td>\n",
              "      <td>2</td>\n",
              "      <td>0</td>\n",
              "    </tr>\n",
              "    <tr>\n",
              "      <th>2</th>\n",
              "      <td>Training</td>\n",
              "      <td>fer0000002.png</td>\n",
              "      <td>5</td>\n",
              "      <td>0</td>\n",
              "      <td>0</td>\n",
              "      <td>3</td>\n",
              "      <td>1</td>\n",
              "      <td>0</td>\n",
              "      <td>0</td>\n",
              "      <td>0</td>\n",
              "      <td>1</td>\n",
              "      <td>0</td>\n",
              "    </tr>\n",
              "    <tr>\n",
              "      <th>3</th>\n",
              "      <td>Training</td>\n",
              "      <td>fer0000003.png</td>\n",
              "      <td>4</td>\n",
              "      <td>0</td>\n",
              "      <td>0</td>\n",
              "      <td>4</td>\n",
              "      <td>1</td>\n",
              "      <td>0</td>\n",
              "      <td>0</td>\n",
              "      <td>0</td>\n",
              "      <td>1</td>\n",
              "      <td>0</td>\n",
              "    </tr>\n",
              "    <tr>\n",
              "      <th>4</th>\n",
              "      <td>Training</td>\n",
              "      <td>fer0000004.png</td>\n",
              "      <td>9</td>\n",
              "      <td>0</td>\n",
              "      <td>0</td>\n",
              "      <td>1</td>\n",
              "      <td>0</td>\n",
              "      <td>0</td>\n",
              "      <td>0</td>\n",
              "      <td>0</td>\n",
              "      <td>0</td>\n",
              "      <td>0</td>\n",
              "    </tr>\n",
              "  </tbody>\n",
              "</table>\n",
              "</div>"
            ],
            "text/plain": [
              "      Usage      Image name  neutral  happiness  ...  fear  contempt  unknown  NF\n",
              "0  Training  fer0000000.png        4          0  ...     0         0        0   0\n",
              "1  Training  fer0000001.png        6          0  ...     0         0        2   0\n",
              "2  Training  fer0000002.png        5          0  ...     0         0        1   0\n",
              "3  Training  fer0000003.png        4          0  ...     0         0        1   0\n",
              "4  Training  fer0000004.png        9          0  ...     0         0        0   0\n",
              "\n",
              "[5 rows x 12 columns]"
            ]
          },
          "metadata": {
            "tags": []
          },
          "execution_count": 6
        }
      ]
    },
    {
      "cell_type": "code",
      "metadata": {
        "id": "amK16Y2m4CXI"
      },
      "source": [
        "df_labels = df_labels[['neutral', 'happiness', 'surprise', 'sadness', 'anger', 'disgust', 'fear', 'contempt', 'unknown', 'NF']]\n",
        "fer2013_new = pd.concat([df, df_labels], axis=1)"
      ],
      "execution_count": 7,
      "outputs": []
    },
    {
      "cell_type": "code",
      "metadata": {
        "colab": {
          "base_uri": "https://localhost:8080/",
          "height": 197
        },
        "id": "LILqyibcya-Z",
        "outputId": "c9e9eb09-f7ee-40ea-a9e6-45a4974f3bdd"
      },
      "source": [
        "fer2013_new.head()"
      ],
      "execution_count": 8,
      "outputs": [
        {
          "output_type": "execute_result",
          "data": {
            "text/html": [
              "<div>\n",
              "<style scoped>\n",
              "    .dataframe tbody tr th:only-of-type {\n",
              "        vertical-align: middle;\n",
              "    }\n",
              "\n",
              "    .dataframe tbody tr th {\n",
              "        vertical-align: top;\n",
              "    }\n",
              "\n",
              "    .dataframe thead th {\n",
              "        text-align: right;\n",
              "    }\n",
              "</style>\n",
              "<table border=\"1\" class=\"dataframe\">\n",
              "  <thead>\n",
              "    <tr style=\"text-align: right;\">\n",
              "      <th></th>\n",
              "      <th>emotion</th>\n",
              "      <th>usage</th>\n",
              "      <th>pixels</th>\n",
              "      <th>neutral</th>\n",
              "      <th>happiness</th>\n",
              "      <th>surprise</th>\n",
              "      <th>sadness</th>\n",
              "      <th>anger</th>\n",
              "      <th>disgust</th>\n",
              "      <th>fear</th>\n",
              "      <th>contempt</th>\n",
              "      <th>unknown</th>\n",
              "      <th>NF</th>\n",
              "    </tr>\n",
              "  </thead>\n",
              "  <tbody>\n",
              "    <tr>\n",
              "      <th>0</th>\n",
              "      <td>0</td>\n",
              "      <td>Training</td>\n",
              "      <td>[70, 80, 82, 72, 58, 58, 60, 63, 54, 58, 60, 4...</td>\n",
              "      <td>4</td>\n",
              "      <td>0</td>\n",
              "      <td>0</td>\n",
              "      <td>1</td>\n",
              "      <td>3</td>\n",
              "      <td>2</td>\n",
              "      <td>0</td>\n",
              "      <td>0</td>\n",
              "      <td>0</td>\n",
              "      <td>0</td>\n",
              "    </tr>\n",
              "    <tr>\n",
              "      <th>1</th>\n",
              "      <td>0</td>\n",
              "      <td>Training</td>\n",
              "      <td>[151, 150, 147, 155, 148, 133, 111, 140, 170, ...</td>\n",
              "      <td>6</td>\n",
              "      <td>0</td>\n",
              "      <td>1</td>\n",
              "      <td>1</td>\n",
              "      <td>0</td>\n",
              "      <td>0</td>\n",
              "      <td>0</td>\n",
              "      <td>0</td>\n",
              "      <td>2</td>\n",
              "      <td>0</td>\n",
              "    </tr>\n",
              "    <tr>\n",
              "      <th>2</th>\n",
              "      <td>2</td>\n",
              "      <td>Training</td>\n",
              "      <td>[231, 212, 156, 164, 174, 138, 161, 173, 182, ...</td>\n",
              "      <td>5</td>\n",
              "      <td>0</td>\n",
              "      <td>0</td>\n",
              "      <td>3</td>\n",
              "      <td>1</td>\n",
              "      <td>0</td>\n",
              "      <td>0</td>\n",
              "      <td>0</td>\n",
              "      <td>1</td>\n",
              "      <td>0</td>\n",
              "    </tr>\n",
              "    <tr>\n",
              "      <th>3</th>\n",
              "      <td>4</td>\n",
              "      <td>Training</td>\n",
              "      <td>[24, 32, 36, 30, 32, 23, 19, 20, 30, 41, 21, 2...</td>\n",
              "      <td>4</td>\n",
              "      <td>0</td>\n",
              "      <td>0</td>\n",
              "      <td>4</td>\n",
              "      <td>1</td>\n",
              "      <td>0</td>\n",
              "      <td>0</td>\n",
              "      <td>0</td>\n",
              "      <td>1</td>\n",
              "      <td>0</td>\n",
              "    </tr>\n",
              "    <tr>\n",
              "      <th>4</th>\n",
              "      <td>6</td>\n",
              "      <td>Training</td>\n",
              "      <td>[4, 0, 0, 0, 0, 0, 0, 0, 0, 0, 0, 0, 3, 15, 23...</td>\n",
              "      <td>9</td>\n",
              "      <td>0</td>\n",
              "      <td>0</td>\n",
              "      <td>1</td>\n",
              "      <td>0</td>\n",
              "      <td>0</td>\n",
              "      <td>0</td>\n",
              "      <td>0</td>\n",
              "      <td>0</td>\n",
              "      <td>0</td>\n",
              "    </tr>\n",
              "  </tbody>\n",
              "</table>\n",
              "</div>"
            ],
            "text/plain": [
              "   emotion     usage  ... unknown  NF\n",
              "0        0  Training  ...       0   0\n",
              "1        0  Training  ...       2   0\n",
              "2        2  Training  ...       1   0\n",
              "3        4  Training  ...       1   0\n",
              "4        6  Training  ...       0   0\n",
              "\n",
              "[5 rows x 13 columns]"
            ]
          },
          "metadata": {
            "tags": []
          },
          "execution_count": 8
        }
      ]
    },
    {
      "cell_type": "code",
      "metadata": {
        "colab": {
          "base_uri": "https://localhost:8080/"
        },
        "id": "DJU6esx5-5rb",
        "outputId": "4c78186b-af96-4e94-8eef-8c08a25df5ae"
      },
      "source": [
        "fer2013_new = fer2013_new[fer2013_new['NF'] < 10]\n",
        "fer2013_new.shape"
      ],
      "execution_count": 9,
      "outputs": [
        {
          "output_type": "execute_result",
          "data": {
            "text/plain": [
              "(35711, 13)"
            ]
          },
          "metadata": {
            "tags": []
          },
          "execution_count": 9
        }
      ]
    },
    {
      "cell_type": "code",
      "metadata": {
        "id": "fdPojk75UPn7"
      },
      "source": [
        "y = fer2013_new[['neutral', 'happiness', 'surprise', 'sadness', 'anger', 'disgust', 'fear', 'contempt']].values"
      ],
      "execution_count": 10,
      "outputs": []
    },
    {
      "cell_type": "code",
      "metadata": {
        "id": "878--0-7bMOC"
      },
      "source": [
        "def makeClasses(votes):\n",
        "  probs = []\n",
        "  for row in range(votes.shape[0]):\n",
        "    y = np.argmax(votes[row])\n",
        "    probs.append(y)\n",
        "\n",
        "  return np.array(probs)\n"
      ],
      "execution_count": 35,
      "outputs": []
    },
    {
      "cell_type": "code",
      "metadata": {
        "id": "9he-0Tk1baO-"
      },
      "source": [
        "from sklearn.model_selection import train_test_split\n",
        "from sklearn.metrics import accuracy_score\n",
        "from sklearn.dummy import DummyClassifier\n",
        "from sklearn.utils.class_weight import compute_class_weight\n",
        "\n",
        "from tensorflow.keras.layers import Dense, Dropout, Conv2D, MaxPool2D, Flatten, BatchNormalization\n",
        "from tensorflow.keras.models import Sequential\n",
        "from tensorflow.keras.callbacks import EarlyStopping, ModelCheckpoint, ReduceLROnPlateau\n",
        "from keras.regularizers import l2"
      ],
      "execution_count": 12,
      "outputs": []
    },
    {
      "cell_type": "markdown",
      "metadata": {
        "id": "9LIio7bk27iH"
      },
      "source": [
        "Split into training and testing sets."
      ]
    },
    {
      "cell_type": "code",
      "metadata": {
        "id": "fjNHcAfDbaPC",
        "colab": {
          "base_uri": "https://localhost:8080/"
        },
        "outputId": "82176b74-176f-42c5-b127-2d661e2accdd"
      },
      "source": [
        "x_train, x_test, y_train, y_test = train_test_split(fer2013_new['pixels'],\n",
        "                                                    y,\n",
        "                                                    test_size=0.2,\n",
        "                                                    random_state=42)\n",
        "\n",
        "x_train.shape, x_test.shape, y_train.shape, y_test.shape"
      ],
      "execution_count": 36,
      "outputs": [
        {
          "output_type": "execute_result",
          "data": {
            "text/plain": [
              "((28568,), (7143,), (28568, 8), (7143, 8))"
            ]
          },
          "metadata": {
            "tags": []
          },
          "execution_count": 36
        }
      ]
    },
    {
      "cell_type": "markdown",
      "metadata": {
        "id": "IkYz5WhC5FQU"
      },
      "source": [
        "Normalize the image data to in range (0, 1). We will also first have to transform lists of integers to a 2-d numpy array, and then reshape that into the 4-d array (m, h, w, c) as neede by the convolutional layers."
      ]
    },
    {
      "cell_type": "code",
      "metadata": {
        "id": "DIg9c-U5baPM"
      },
      "source": [
        "# transform lists of integers into numpy arrays, and normalize the values\n",
        "x_train = np.vstack(x_train) / 255\n",
        "x_test = np.vstack(x_test) / 255\n",
        "\n",
        "# reshape arrays into (m, h, w, c). As they are square, we can get the height\n",
        "# and width values as a square root of the length the original 1-d array.\n",
        "n = int(np.sqrt(x_train.shape[1]))\n",
        "x_train = x_train.reshape(x_train.shape[0], n, n, 1)\n",
        "x_test = x_test.reshape(x_test.shape[0], n, n, 1)\n",
        "\n",
        "# Convert the pandas series of target classes to numpy array\n",
        "y_train = makeClasses(y_train)\n",
        "y_test = makeClasses(y_test)"
      ],
      "execution_count": 37,
      "outputs": []
    },
    {
      "cell_type": "code",
      "metadata": {
        "id": "HZ_sWxw8baPP",
        "colab": {
          "base_uri": "https://localhost:8080/"
        },
        "outputId": "f50a1d70-5795-42db-c315-c031b8535464"
      },
      "source": [
        "x_train.shape"
      ],
      "execution_count": 38,
      "outputs": [
        {
          "output_type": "execute_result",
          "data": {
            "text/plain": [
              "(28568, 48, 48, 1)"
            ]
          },
          "metadata": {
            "tags": []
          },
          "execution_count": 38
        }
      ]
    },
    {
      "cell_type": "code",
      "metadata": {
        "colab": {
          "base_uri": "https://localhost:8080/"
        },
        "id": "n7Wzh3wKdYFf",
        "outputId": "9f406399-63f9-4412-ae82-53da735acce8"
      },
      "source": [
        "y_train.shape"
      ],
      "execution_count": 39,
      "outputs": [
        {
          "output_type": "execute_result",
          "data": {
            "text/plain": [
              "(28568,)"
            ]
          },
          "metadata": {
            "tags": []
          },
          "execution_count": 39
        }
      ]
    },
    {
      "cell_type": "code",
      "metadata": {
        "colab": {
          "base_uri": "https://localhost:8080/"
        },
        "id": "xUYaCuu8nqQo",
        "outputId": "5cce6cdd-1a2a-4435-8b16-dca7578f9c44"
      },
      "source": [
        "y_train[:20]"
      ],
      "execution_count": 40,
      "outputs": [
        {
          "output_type": "execute_result",
          "data": {
            "text/plain": [
              "array([0, 0, 1, 1, 1, 3, 6, 6, 2, 1, 2, 0, 3, 0, 3, 0, 2, 3, 0, 3])"
            ]
          },
          "metadata": {
            "tags": []
          },
          "execution_count": 40
        }
      ]
    },
    {
      "cell_type": "code",
      "metadata": {
        "id": "GC3j39FabaPT",
        "colab": {
          "base_uri": "https://localhost:8080/"
        },
        "outputId": "016a60be-d4a8-4df3-8243-ace00b3836b2"
      },
      "source": [
        "model = Sequential([Conv2D(64, (3, 3), input_shape=x_train.shape[1:], activation='relu'),\n",
        "                    BatchNormalization(),\n",
        "                    Conv2D(64, (3, 3), padding='same', activation='relu'),\n",
        "                    BatchNormalization(),\n",
        "                    MaxPool2D((3, 3), strides=(2, 2)),\n",
        "                    Dropout(0.3),\n",
        "                    \n",
        "                    Conv2D(128, (3, 3), padding='same', activation='relu'),\n",
        "                    BatchNormalization(),\n",
        "                    Conv2D(128, (3, 3), padding='same', activation='relu'),\n",
        "                    BatchNormalization(),\n",
        "                    MaxPool2D((3, 3), strides=(2, 2)),\n",
        "                    Dropout(0.3),\n",
        "                    \n",
        "                    Conv2D(256, (3, 3), padding='same', activation='relu'),\n",
        "                    BatchNormalization(),\n",
        "                    Conv2D(256, (3, 3), padding='same', activation='relu'),\n",
        "                    BatchNormalization(),\n",
        "                    MaxPool2D((3, 3), strides=(2, 2)),\n",
        "                    Dropout(0.3),\n",
        "                    \n",
        "                    Conv2D(512, (3, 3), padding='same', activation='relu'),\n",
        "                    BatchNormalization(),\n",
        "                    Conv2D(512, (3, 3), padding='same', activation='relu'),\n",
        "                    BatchNormalization(),\n",
        "                    MaxPool2D((2, 2), strides=(2, 2)),\n",
        "                    Dropout(0.3),\n",
        "                    \n",
        "                    Flatten(),\n",
        "                    Dense(512, activation='relu'),\n",
        "                    Dropout(0.3),\n",
        "                    Dense(256, activation='relu'),\n",
        "                    Dropout(0.3),\n",
        "                    Dense(64, activation='relu'),\n",
        "                    Dropout(0.3),\n",
        "                    Dense(8, activation='softmax')])\n",
        "\n",
        "model.compile(optimizer='adam', loss='sparse_categorical_crossentropy', metrics=['acc'])\n",
        "model.summary()"
      ],
      "execution_count": 86,
      "outputs": [
        {
          "output_type": "stream",
          "text": [
            "Model: \"sequential_7\"\n",
            "_________________________________________________________________\n",
            "Layer (type)                 Output Shape              Param #   \n",
            "=================================================================\n",
            "conv2d_62 (Conv2D)           (None, 46, 46, 64)        640       \n",
            "_________________________________________________________________\n",
            "batch_normalization_32 (Batc (None, 46, 46, 64)        256       \n",
            "_________________________________________________________________\n",
            "conv2d_63 (Conv2D)           (None, 46, 46, 64)        36928     \n",
            "_________________________________________________________________\n",
            "batch_normalization_33 (Batc (None, 46, 46, 64)        256       \n",
            "_________________________________________________________________\n",
            "max_pooling2d_28 (MaxPooling (None, 22, 22, 64)        0         \n",
            "_________________________________________________________________\n",
            "dropout_46 (Dropout)         (None, 22, 22, 64)        0         \n",
            "_________________________________________________________________\n",
            "conv2d_64 (Conv2D)           (None, 22, 22, 128)       73856     \n",
            "_________________________________________________________________\n",
            "batch_normalization_34 (Batc (None, 22, 22, 128)       512       \n",
            "_________________________________________________________________\n",
            "conv2d_65 (Conv2D)           (None, 22, 22, 128)       147584    \n",
            "_________________________________________________________________\n",
            "batch_normalization_35 (Batc (None, 22, 22, 128)       512       \n",
            "_________________________________________________________________\n",
            "max_pooling2d_29 (MaxPooling (None, 10, 10, 128)       0         \n",
            "_________________________________________________________________\n",
            "dropout_47 (Dropout)         (None, 10, 10, 128)       0         \n",
            "_________________________________________________________________\n",
            "conv2d_66 (Conv2D)           (None, 10, 10, 256)       295168    \n",
            "_________________________________________________________________\n",
            "batch_normalization_36 (Batc (None, 10, 10, 256)       1024      \n",
            "_________________________________________________________________\n",
            "conv2d_67 (Conv2D)           (None, 10, 10, 256)       590080    \n",
            "_________________________________________________________________\n",
            "batch_normalization_37 (Batc (None, 10, 10, 256)       1024      \n",
            "_________________________________________________________________\n",
            "max_pooling2d_30 (MaxPooling (None, 4, 4, 256)         0         \n",
            "_________________________________________________________________\n",
            "dropout_48 (Dropout)         (None, 4, 4, 256)         0         \n",
            "_________________________________________________________________\n",
            "conv2d_68 (Conv2D)           (None, 4, 4, 512)         1180160   \n",
            "_________________________________________________________________\n",
            "batch_normalization_38 (Batc (None, 4, 4, 512)         2048      \n",
            "_________________________________________________________________\n",
            "conv2d_69 (Conv2D)           (None, 4, 4, 512)         2359808   \n",
            "_________________________________________________________________\n",
            "batch_normalization_39 (Batc (None, 4, 4, 512)         2048      \n",
            "_________________________________________________________________\n",
            "max_pooling2d_31 (MaxPooling (None, 2, 2, 512)         0         \n",
            "_________________________________________________________________\n",
            "dropout_49 (Dropout)         (None, 2, 2, 512)         0         \n",
            "_________________________________________________________________\n",
            "flatten_7 (Flatten)          (None, 2048)              0         \n",
            "_________________________________________________________________\n",
            "dense_25 (Dense)             (None, 512)               1049088   \n",
            "_________________________________________________________________\n",
            "dropout_50 (Dropout)         (None, 512)               0         \n",
            "_________________________________________________________________\n",
            "dense_26 (Dense)             (None, 256)               131328    \n",
            "_________________________________________________________________\n",
            "dropout_51 (Dropout)         (None, 256)               0         \n",
            "_________________________________________________________________\n",
            "dense_27 (Dense)             (None, 64)                16448     \n",
            "_________________________________________________________________\n",
            "dropout_52 (Dropout)         (None, 64)                0         \n",
            "_________________________________________________________________\n",
            "dense_28 (Dense)             (None, 8)                 520       \n",
            "=================================================================\n",
            "Total params: 5,889,288\n",
            "Trainable params: 5,885,448\n",
            "Non-trainable params: 3,840\n",
            "_________________________________________________________________\n"
          ],
          "name": "stdout"
        }
      ]
    },
    {
      "cell_type": "markdown",
      "metadata": {
        "id": "q22lprlB7EeX"
      },
      "source": [
        "Training the model. Employ also early stopping and model checkpoint"
      ]
    },
    {
      "cell_type": "code",
      "metadata": {
        "id": "-EYeydIkbaPX",
        "colab": {
          "base_uri": "https://localhost:8080/"
        },
        "outputId": "64b12f20-e04a-4a7c-a806-b2e1b688db5a"
      },
      "source": [
        "stop = EarlyStopping(monitor='val_loss', patience=5, restore_best_weights=True)\n",
        "\n",
        "checkpoint = ModelCheckpoint('/content/drive/MyDrive/face express data/weights.h5', \n",
        "                             monitor='val_acc', save_best_only=True, \n",
        "                             save_weights_only=True)\n",
        "\n",
        "reduce_learning_rate = ReduceLROnPlateau(monitor='val_acc', factor=0.9, patience=5)\n",
        "\n",
        "history = model.fit(x_train,\n",
        "          y_train,\n",
        "          validation_data=(x_test, y_test),\n",
        "          epochs=100,\n",
        "          batch_size=128,\n",
        "          callbacks=[stop, checkpoint])"
      ],
      "execution_count": 87,
      "outputs": [
        {
          "output_type": "stream",
          "text": [
            "Epoch 1/100\n",
            "  2/224 [..............................] - ETA: 10s - loss: 4.1516 - acc: 0.2188WARNING:tensorflow:Callbacks method `on_train_batch_end` is slow compared to the batch time (batch time: 0.0303s vs `on_train_batch_end` time: 0.0600s). Check your callbacks.\n",
            "224/224 [==============================] - 17s 78ms/step - loss: 1.6838 - acc: 0.3598 - val_loss: 1.6838 - val_acc: 0.3595\n",
            "Epoch 2/100\n",
            "224/224 [==============================] - 17s 77ms/step - loss: 1.3056 - acc: 0.5599 - val_loss: 1.7880 - val_acc: 0.4676\n",
            "Epoch 3/100\n",
            "224/224 [==============================] - 17s 77ms/step - loss: 1.0811 - acc: 0.6441 - val_loss: 0.9965 - val_acc: 0.6525\n",
            "Epoch 4/100\n",
            "224/224 [==============================] - 17s 75ms/step - loss: 0.9672 - acc: 0.6817 - val_loss: 0.9730 - val_acc: 0.6520\n",
            "Epoch 5/100\n",
            "224/224 [==============================] - 17s 76ms/step - loss: 0.8898 - acc: 0.7060 - val_loss: 0.8401 - val_acc: 0.7059\n",
            "Epoch 6/100\n",
            "224/224 [==============================] - 17s 76ms/step - loss: 0.8239 - acc: 0.7260 - val_loss: 0.8329 - val_acc: 0.7159\n",
            "Epoch 7/100\n",
            "224/224 [==============================] - 17s 76ms/step - loss: 0.7675 - acc: 0.7457 - val_loss: 0.7776 - val_acc: 0.7308\n",
            "Epoch 8/100\n",
            "224/224 [==============================] - 17s 77ms/step - loss: 0.7215 - acc: 0.7626 - val_loss: 0.7523 - val_acc: 0.7427\n",
            "Epoch 9/100\n",
            "224/224 [==============================] - 17s 76ms/step - loss: 0.6837 - acc: 0.7737 - val_loss: 0.7196 - val_acc: 0.7476\n",
            "Epoch 10/100\n",
            "224/224 [==============================] - 17s 74ms/step - loss: 0.6439 - acc: 0.7860 - val_loss: 0.7470 - val_acc: 0.7420\n",
            "Epoch 11/100\n",
            "224/224 [==============================] - 17s 76ms/step - loss: 0.5933 - acc: 0.8050 - val_loss: 0.7467 - val_acc: 0.7529\n",
            "Epoch 12/100\n",
            "224/224 [==============================] - 17s 76ms/step - loss: 0.5621 - acc: 0.8110 - val_loss: 0.6608 - val_acc: 0.7673\n",
            "Epoch 13/100\n",
            "224/224 [==============================] - 17s 76ms/step - loss: 0.5365 - acc: 0.8209 - val_loss: 0.6817 - val_acc: 0.7789\n",
            "Epoch 14/100\n",
            "224/224 [==============================] - 17s 74ms/step - loss: 0.5132 - acc: 0.8296 - val_loss: 0.6645 - val_acc: 0.7753\n",
            "Epoch 15/100\n",
            "224/224 [==============================] - 17s 76ms/step - loss: 0.4823 - acc: 0.8374 - val_loss: 0.6578 - val_acc: 0.7816\n",
            "Epoch 16/100\n",
            "224/224 [==============================] - 17s 76ms/step - loss: 0.4467 - acc: 0.8512 - val_loss: 0.6730 - val_acc: 0.7885\n",
            "Epoch 17/100\n",
            "224/224 [==============================] - 17s 76ms/step - loss: 0.4273 - acc: 0.8573 - val_loss: 0.6387 - val_acc: 0.7948\n",
            "Epoch 18/100\n",
            "224/224 [==============================] - 17s 74ms/step - loss: 0.4045 - acc: 0.8633 - val_loss: 0.7070 - val_acc: 0.7747\n",
            "Epoch 19/100\n",
            "224/224 [==============================] - 17s 74ms/step - loss: 0.3772 - acc: 0.8746 - val_loss: 0.8099 - val_acc: 0.7647\n",
            "Epoch 20/100\n",
            "224/224 [==============================] - 17s 77ms/step - loss: 0.3524 - acc: 0.8828 - val_loss: 0.6291 - val_acc: 0.8111\n",
            "Epoch 21/100\n",
            "224/224 [==============================] - 17s 74ms/step - loss: 0.3398 - acc: 0.8888 - val_loss: 0.7803 - val_acc: 0.7945\n",
            "Epoch 22/100\n",
            "224/224 [==============================] - 17s 74ms/step - loss: 0.3176 - acc: 0.8944 - val_loss: 0.7634 - val_acc: 0.7948\n",
            "Epoch 23/100\n",
            "224/224 [==============================] - 17s 74ms/step - loss: 0.2902 - acc: 0.9040 - val_loss: 0.7346 - val_acc: 0.7901\n",
            "Epoch 24/100\n",
            "224/224 [==============================] - 17s 74ms/step - loss: 0.2769 - acc: 0.9092 - val_loss: 0.7226 - val_acc: 0.8020\n",
            "Epoch 25/100\n",
            "224/224 [==============================] - 17s 74ms/step - loss: 0.2635 - acc: 0.9142 - val_loss: 0.7002 - val_acc: 0.7983\n"
          ],
          "name": "stdout"
        }
      ]
    },
    {
      "cell_type": "code",
      "metadata": {
        "id": "YCWDFVU7baPg",
        "colab": {
          "base_uri": "https://localhost:8080/",
          "height": 544
        },
        "outputId": "0bcb8ab0-531a-4c4a-e285-aa7efb93cb16"
      },
      "source": [
        "plt.plot(history.history['loss'], label='training')\n",
        "plt.plot(history.history['val_loss'], label='validation')\n",
        "plt.legend()\n",
        "plt.title('Loss')\n",
        "plt.show()\n",
        "\n",
        "plt.plot(history.history['acc'], label='training')\n",
        "plt.plot(history.history['val_acc'], label='validation')\n",
        "plt.legend()\n",
        "plt.title('Accuracy')\n",
        "plt.show()"
      ],
      "execution_count": 88,
      "outputs": [
        {
          "output_type": "display_data",
          "data": {
            "image/png": "[encoded data removed]",
            "text/plain": [
              "<Figure size 432x288 with 1 Axes>"
            ]
          },
          "metadata": {
            "tags": [],
            "needs_background": "light"
          }
        },
        {
          "output_type": "display_data",
          "data": {
            "image/png": "[encoded data removed]",
            "text/plain": [
              "<Figure size 432x288 with 1 Axes>"
            ]
          },
          "metadata": {
            "tags": [],
            "needs_background": "light"
          }
        }
      ]
    },
    {
      "cell_type": "code",
      "metadata": {
        "id": "crUyKLz6atyo"
      },
      "source": [
        "model.save('/content/drive/MyDrive/face express data/model2.h5')"
      ],
      "execution_count": 89,
      "outputs": []
    },
    {
      "cell_type": "markdown",
      "metadata": {
        "id": "rTmdL4837Ma2"
      },
      "source": [
        "Alternatively, load a model that has been trained and saved."
      ]
    },
    {
      "cell_type": "code",
      "metadata": {
        "id": "VxRHTsraxHGh"
      },
      "source": [
        "from tensorflow.keras.models import load_model\n",
        "\n",
        "model = load_model('/content/drive/MyDrive/face express data/model2.h5')\n"
      ],
      "execution_count": 90,
      "outputs": []
    },
    {
      "cell_type": "code",
      "metadata": {
        "colab": {
          "base_uri": "https://localhost:8080/"
        },
        "id": "bPfCDz8_ybxd",
        "outputId": "b0ebdc64-5d2a-4d8b-bc8f-1e15b9becf31"
      },
      "source": [
        "preds = model.predict(x_test)\n",
        "y_pred = [np.argmax(pred) for pred in preds]\n",
        "score = accuracy_score(y_test, y_pred)\n",
        "print(f'Accuracy = {round(score * 100, 2)} %')"
      ],
      "execution_count": 91,
      "outputs": [
        {
          "output_type": "stream",
          "text": [
            "Accuracy = 81.11 %\n"
          ],
          "name": "stdout"
        }
      ]
    },
    {
      "cell_type": "code",
      "metadata": {
        "colab": {
          "base_uri": "https://localhost:8080/",
          "height": 264
        },
        "id": "trphuTQdyrqg",
        "outputId": "13040476-d5a2-44e9-b69c-3cd9911ddfba"
      },
      "source": [
        "import seaborn as sns\n",
        "from sklearn.metrics import confusion_matrix\n",
        "\n",
        "cm = confusion_matrix(y_test, y_pred)\n",
        "ax = sns.heatmap(cm, annot=True, fmt='d', linewidths=.2, square=True)\n",
        "bottom, top = ax.get_ylim()\n",
        "ax.set_ylim(bottom + 0.5, top - 0.5);"
      ],
      "execution_count": 95,
      "outputs": [
        {
          "output_type": "display_data",
          "data": {
            "image/png": "[encoded data removed]",
            "text/plain": [
              "<Figure size 432x288 with 2 Axes>"
            ]
          },
          "metadata": {
            "tags": [],
            "needs_background": "light"
          }
        }
      ]
    },
    {
      "cell_type": "markdown",
      "metadata": {
        "id": "B3HB5luc7ba1"
      },
      "source": [
        "Perform inference on a random selected sample from the test dataset"
      ]
    },
    {
      "cell_type": "code",
      "metadata": {
        "id": "4_aYyjpabaPk"
      },
      "source": [
        "classes = ['neutral', 'happiness', 'surprise', 'sadness', 'anger', 'disgust', 'fear', 'contempt']\n",
        "\n",
        "def tryRandomExample():\n",
        "    index = np.random.randint(0, x_test.shape[0])\n",
        "    img = x_test[index]\n",
        "    img = np.expand_dims(img, axis=0)\n",
        "    pred = model.predict(img)\n",
        "    best = np.argmax(pred[0])\n",
        "    \n",
        "    print(classes[best] == classes[y_test[index]])\n",
        "    print(f'Predicted label: {classes[best]}\\nConfidence: {round(pred[0][best] * 100, 2)} %')\n",
        "    print(f'Actual label: {classes[y_test[index]]}')\n",
        "    \n",
        "    plt.imshow(np.squeeze(img[0], axis=-1), cmap='gray')\n",
        "    plt.show()\n",
        "    \n",
        "    df = pd.DataFrame(dict(probs=list(pred[0]), labels=classes))\n",
        "    fig = px.line_polar(df, r='probs', theta='labels', line_close=True)\n",
        "    fig.show()\n",
        "    \n",
        "    "
      ],
      "execution_count": 92,
      "outputs": []
    },
    {
      "cell_type": "code",
      "metadata": {
        "id": "e_uztfdxbaPq",
        "colab": {
          "base_uri": "https://localhost:8080/",
          "height": 863
        },
        "outputId": "3293f981-b86a-4b71-de79-2f29e28236e0"
      },
      "source": [
        "tryRandomExample()"
      ],
      "execution_count": 124,
      "outputs": [
        {
          "output_type": "stream",
          "text": [
            "True\n",
            "Predicted label: happiness\n",
            "Confidence: 100.0 %\n",
            "Actual label: happiness\n"
          ],
          "name": "stdout"
        },
        {
          "output_type": "display_data",
          "data": {
            "image/png": "[encoded data removed]",
            "text/plain": [
              "<Figure size 432x288 with 1 Axes>"
            ]
          },
          "metadata": {
            "tags": [],
            "needs_background": "light"
          }
        },
        {
          "output_type": "display_data",
          "data": {
            "text/html": [
              "<html>\n",
              "<head><meta charset=\"utf-8\" /></head>\n",
              "<body>\n",
              "    <div>\n",
              "            <script src=\"https://cdnjs.cloudflare.com/ajax/libs/mathjax/2.7.5/MathJax.js?config=TeX-AMS-MML_SVG\"></script><script type=\"text/javascript\">if (window.MathJax) {MathJax.Hub.Config({SVG: {font: \"STIX-Web\"}});}</script>\n",
              "                <script type=\"text/javascript\">window.PlotlyConfig = {MathJaxConfig: 'local'};</script>\n",
              "        <script src=\"https://cdn.plot.ly/plotly-latest.min.js\"></script>    \n",
              "            <div id=\"91de87f5-f1a5-4255-a69b-9fe2d0f2b1c3\" class=\"plotly-graph-div\" style=\"height:525px; width:100%;\"></div>\n",
              "            <script type=\"text/javascript\">\n",
              "                \n",
              "                    window.PLOTLYENV=window.PLOTLYENV || {};\n",
              "                    \n",
              "                if (document.getElementById(\"91de87f5-f1a5-4255-a69b-9fe2d0f2b1c3\")) {\n",
              "                    Plotly.newPlot(\n",
              "                        '91de87f5-f1a5-4255-a69b-9fe2d0f2b1c3',\n",
              "                        [{\"hoverlabel\": {\"namelength\": 0}, \"hovertemplate\": \"probs=%{r}<br>labels=%{theta}\", \"legendgroup\": \"\", \"line\": {\"color\": \"#636efa\", \"dash\": \"solid\"}, \"mode\": \"lines\", \"name\": \"\", \"r\": [6.3682338312983765e-15, 1.0, 2.4615191037516244e-17, 2.181269054268853e-12, 1.0086776444138772e-15, 2.0976907339011388e-30, 1.3247754923144022e-21, 1.0756017060532517e-29, 6.3682338312983765e-15], \"showlegend\": false, \"subplot\": \"polar\", \"theta\": [\"neutral\", \"happiness\", \"surprise\", \"sadness\", \"anger\", \"disgust\", \"fear\", \"contempt\", \"neutral\"], \"type\": \"scatterpolar\"}],\n",
              "                        {\"legend\": {\"tracegroupgap\": 0}, \"margin\": {\"t\": 60}, \"polar\": {\"angularaxis\": {\"direction\": \"clockwise\", \"rotation\": 90}, \"domain\": {\"x\": [0.0, 1.0], \"y\": [0.0, 1.0]}}, \"template\": {\"data\": {\"bar\": [{\"error_x\": {\"color\": \"#2a3f5f\"}, \"error_y\": {\"color\": \"#2a3f5f\"}, \"marker\": {\"line\": {\"color\": \"#E5ECF6\", \"width\": 0.5}}, \"type\": \"bar\"}], \"barpolar\": [{\"marker\": {\"line\": {\"color\": \"#E5ECF6\", \"width\": 0.5}}, \"type\": \"barpolar\"}], \"carpet\": [{\"aaxis\": {\"endlinecolor\": \"#2a3f5f\", \"gridcolor\": \"white\", \"linecolor\": \"white\", \"minorgridcolor\": \"white\", \"startlinecolor\": \"#2a3f5f\"}, \"baxis\": {\"endlinecolor\": \"#2a3f5f\", \"gridcolor\": \"white\", \"linecolor\": \"white\", \"minorgridcolor\": \"white\", \"startlinecolor\": \"#2a3f5f\"}, \"type\": \"carpet\"}], \"choropleth\": [{\"colorbar\": {\"outlinewidth\": 0, \"ticks\": \"\"}, \"type\": \"choropleth\"}], \"contour\": [{\"colorbar\": {\"outlinewidth\": 0, \"ticks\": \"\"}, \"colorscale\": [[0.0, \"#0d0887\"], [0.1111111111111111, \"#46039f\"], [0.2222222222222222, \"#7201a8\"], [0.3333333333333333, \"#9c179e\"], [0.4444444444444444, \"#bd3786\"], [0.5555555555555556, \"#d8576b\"], [0.6666666666666666, \"#ed7953\"], [0.7777777777777778, \"#fb9f3a\"], [0.8888888888888888, \"#fdca26\"], [1.0, \"#f0f921\"]], \"type\": \"contour\"}], \"contourcarpet\": [{\"colorbar\": {\"outlinewidth\": 0, \"ticks\": \"\"}, \"type\": \"contourcarpet\"}], \"heatmap\": [{\"colorbar\": {\"outlinewidth\": 0, \"ticks\": \"\"}, \"colorscale\": [[0.0, \"#0d0887\"], [0.1111111111111111, \"#46039f\"], [0.2222222222222222, \"#7201a8\"], [0.3333333333333333, \"#9c179e\"], [0.4444444444444444, \"#bd3786\"], [0.5555555555555556, \"#d8576b\"], [0.6666666666666666, \"#ed7953\"], [0.7777777777777778, \"#fb9f3a\"], [0.8888888888888888, \"#fdca26\"], [1.0, \"#f0f921\"]], \"type\": \"heatmap\"}], \"heatmapgl\": [{\"colorbar\": {\"outlinewidth\": 0, \"ticks\": \"\"}, \"colorscale\": [[0.0, \"#0d0887\"], [0.1111111111111111, \"#46039f\"], [0.2222222222222222, \"#7201a8\"], [0.3333333333333333, \"#9c179e\"], [0.4444444444444444, \"#bd3786\"], [0.5555555555555556, \"#d8576b\"], [0.6666666666666666, \"#ed7953\"], [0.7777777777777778, \"#fb9f3a\"], [0.8888888888888888, \"#fdca26\"], [1.0, \"#f0f921\"]], \"type\": \"heatmapgl\"}], \"histogram\": [{\"marker\": {\"colorbar\": {\"outlinewidth\": 0, \"ticks\": \"\"}}, \"type\": \"histogram\"}], \"histogram2d\": [{\"colorbar\": {\"outlinewidth\": 0, \"ticks\": \"\"}, \"colorscale\": [[0.0, \"#0d0887\"], [0.1111111111111111, \"#46039f\"], [0.2222222222222222, \"#7201a8\"], [0.3333333333333333, \"#9c179e\"], [0.4444444444444444, \"#bd3786\"], [0.5555555555555556, \"#d8576b\"], [0.6666666666666666, \"#ed7953\"], [0.7777777777777778, \"#fb9f3a\"], [0.8888888888888888, \"#fdca26\"], [1.0, \"#f0f921\"]], \"type\": \"histogram2d\"}], \"histogram2dcontour\": [{\"colorbar\": {\"outlinewidth\": 0, \"ticks\": \"\"}, \"colorscale\": [[0.0, \"#0d0887\"], [0.1111111111111111, \"#46039f\"], [0.2222222222222222, \"#7201a8\"], [0.3333333333333333, \"#9c179e\"], [0.4444444444444444, \"#bd3786\"], [0.5555555555555556, \"#d8576b\"], [0.6666666666666666, \"#ed7953\"], [0.7777777777777778, \"#fb9f3a\"], [0.8888888888888888, \"#fdca26\"], [1.0, \"#f0f921\"]], \"type\": \"histogram2dcontour\"}], \"mesh3d\": [{\"colorbar\": {\"outlinewidth\": 0, \"ticks\": \"\"}, \"type\": \"mesh3d\"}], \"parcoords\": [{\"line\": {\"colorbar\": {\"outlinewidth\": 0, \"ticks\": \"\"}}, \"type\": \"parcoords\"}], \"pie\": [{\"automargin\": true, \"type\": \"pie\"}], \"scatter\": [{\"marker\": {\"colorbar\": {\"outlinewidth\": 0, \"ticks\": \"\"}}, \"type\": \"scatter\"}], \"scatter3d\": [{\"line\": {\"colorbar\": {\"outlinewidth\": 0, \"ticks\": \"\"}}, \"marker\": {\"colorbar\": {\"outlinewidth\": 0, \"ticks\": \"\"}}, \"type\": \"scatter3d\"}], \"scattercarpet\": [{\"marker\": {\"colorbar\": {\"outlinewidth\": 0, \"ticks\": \"\"}}, \"type\": \"scattercarpet\"}], \"scattergeo\": [{\"marker\": {\"colorbar\": {\"outlinewidth\": 0, \"ticks\": \"\"}}, \"type\": \"scattergeo\"}], \"scattergl\": [{\"marker\": {\"colorbar\": {\"outlinewidth\": 0, \"ticks\": \"\"}}, \"type\": \"scattergl\"}], \"scattermapbox\": [{\"marker\": {\"colorbar\": {\"outlinewidth\": 0, \"ticks\": \"\"}}, \"type\": \"scattermapbox\"}], \"scatterpolar\": [{\"marker\": {\"colorbar\": {\"outlinewidth\": 0, \"ticks\": \"\"}}, \"type\": \"scatterpolar\"}], \"scatterpolargl\": [{\"marker\": {\"colorbar\": {\"outlinewidth\": 0, \"ticks\": \"\"}}, \"type\": \"scatterpolargl\"}], \"scatterternary\": [{\"marker\": {\"colorbar\": {\"outlinewidth\": 0, \"ticks\": \"\"}}, \"type\": \"scatterternary\"}], \"surface\": [{\"colorbar\": {\"outlinewidth\": 0, \"ticks\": \"\"}, \"colorscale\": [[0.0, \"#0d0887\"], [0.1111111111111111, \"#46039f\"], [0.2222222222222222, \"#7201a8\"], [0.3333333333333333, \"#9c179e\"], [0.4444444444444444, \"#bd3786\"], [0.5555555555555556, \"#d8576b\"], [0.6666666666666666, \"#ed7953\"], [0.7777777777777778, \"#fb9f3a\"], [0.8888888888888888, \"#fdca26\"], [1.0, \"#f0f921\"]], \"type\": \"surface\"}], \"table\": [{\"cells\": {\"fill\": {\"color\": \"#EBF0F8\"}, \"line\": {\"color\": \"white\"}}, \"header\": {\"fill\": {\"color\": \"#C8D4E3\"}, \"line\": {\"color\": \"white\"}}, \"type\": \"table\"}]}, \"layout\": {\"annotationdefaults\": {\"arrowcolor\": \"#2a3f5f\", \"arrowhead\": 0, \"arrowwidth\": 1}, \"coloraxis\": {\"colorbar\": {\"outlinewidth\": 0, \"ticks\": \"\"}}, \"colorscale\": {\"diverging\": [[0, \"#8e0152\"], [0.1, \"#c51b7d\"], [0.2, \"#de77ae\"], [0.3, \"#f1b6da\"], [0.4, \"#fde0ef\"], [0.5, \"#f7f7f7\"], [0.6, \"#e6f5d0\"], [0.7, \"#b8e186\"], [0.8, \"#7fbc41\"], [0.9, \"#4d9221\"], [1, \"#276419\"]], \"sequential\": [[0.0, \"#0d0887\"], [0.1111111111111111, \"#46039f\"], [0.2222222222222222, \"#7201a8\"], [0.3333333333333333, \"#9c179e\"], [0.4444444444444444, \"#bd3786\"], [0.5555555555555556, \"#d8576b\"], [0.6666666666666666, \"#ed7953\"], [0.7777777777777778, \"#fb9f3a\"], [0.8888888888888888, \"#fdca26\"], [1.0, \"#f0f921\"]], \"sequentialminus\": [[0.0, \"#0d0887\"], [0.1111111111111111, \"#46039f\"], [0.2222222222222222, \"#7201a8\"], [0.3333333333333333, \"#9c179e\"], [0.4444444444444444, \"#bd3786\"], [0.5555555555555556, \"#d8576b\"], [0.6666666666666666, \"#ed7953\"], [0.7777777777777778, \"#fb9f3a\"], [0.8888888888888888, \"#fdca26\"], [1.0, \"#f0f921\"]]}, \"colorway\": [\"#636efa\", \"#EF553B\", \"#00cc96\", \"#ab63fa\", \"#FFA15A\", \"#19d3f3\", \"#FF6692\", \"#B6E880\", \"#FF97FF\", \"#FECB52\"], \"font\": {\"color\": \"#2a3f5f\"}, \"geo\": {\"bgcolor\": \"white\", \"lakecolor\": \"white\", \"landcolor\": \"#E5ECF6\", \"showlakes\": true, \"showland\": true, \"subunitcolor\": \"white\"}, \"hoverlabel\": {\"align\": \"left\"}, \"hovermode\": \"closest\", \"mapbox\": {\"style\": \"light\"}, \"paper_bgcolor\": \"white\", \"plot_bgcolor\": \"#E5ECF6\", \"polar\": {\"angularaxis\": {\"gridcolor\": \"white\", \"linecolor\": \"white\", \"ticks\": \"\"}, \"bgcolor\": \"#E5ECF6\", \"radialaxis\": {\"gridcolor\": \"white\", \"linecolor\": \"white\", \"ticks\": \"\"}}, \"scene\": {\"xaxis\": {\"backgroundcolor\": \"#E5ECF6\", \"gridcolor\": \"white\", \"gridwidth\": 2, \"linecolor\": \"white\", \"showbackground\": true, \"ticks\": \"\", \"zerolinecolor\": \"white\"}, \"yaxis\": {\"backgroundcolor\": \"#E5ECF6\", \"gridcolor\": \"white\", \"gridwidth\": 2, \"linecolor\": \"white\", \"showbackground\": true, \"ticks\": \"\", \"zerolinecolor\": \"white\"}, \"zaxis\": {\"backgroundcolor\": \"#E5ECF6\", \"gridcolor\": \"white\", \"gridwidth\": 2, \"linecolor\": \"white\", \"showbackground\": true, \"ticks\": \"\", \"zerolinecolor\": \"white\"}}, \"shapedefaults\": {\"line\": {\"color\": \"#2a3f5f\"}}, \"ternary\": {\"aaxis\": {\"gridcolor\": \"white\", \"linecolor\": \"white\", \"ticks\": \"\"}, \"baxis\": {\"gridcolor\": \"white\", \"linecolor\": \"white\", \"ticks\": \"\"}, \"bgcolor\": \"#E5ECF6\", \"caxis\": {\"gridcolor\": \"white\", \"linecolor\": \"white\", \"ticks\": \"\"}}, \"title\": {\"x\": 0.05}, \"xaxis\": {\"automargin\": true, \"gridcolor\": \"white\", \"linecolor\": \"white\", \"ticks\": \"\", \"title\": {\"standoff\": 15}, \"zerolinecolor\": \"white\", \"zerolinewidth\": 2}, \"yaxis\": {\"automargin\": true, \"gridcolor\": \"white\", \"linecolor\": \"white\", \"ticks\": \"\", \"title\": {\"standoff\": 15}, \"zerolinecolor\": \"white\", \"zerolinewidth\": 2}}}},\n",
              "                        {\"responsive\": true}\n",
              "                    ).then(function(){\n",
              "                            \n",
              "var gd = document.getElementById('91de87f5-f1a5-4255-a69b-9fe2d0f2b1c3');\n",
              "var x = new MutationObserver(function (mutations, observer) {{\n",
              "        var display = window.getComputedStyle(gd).display;\n",
              "        if (!display || display === 'none') {{\n",
              "            console.log([gd, 'removed!']);\n",
              "            Plotly.purge(gd);\n",
              "            observer.disconnect();\n",
              "        }}\n",
              "}});\n",
              "\n",
              "// Listen for the removal of the full notebook cells\n",
              "var notebookContainer = gd.closest('#notebook-container');\n",
              "if (notebookContainer) {{\n",
              "    x.observe(notebookContainer, {childList: true});\n",
              "}}\n",
              "\n",
              "// Listen for the clearing of the current output cell\n",
              "var outputEl = gd.closest('.output');\n",
              "if (outputEl) {{\n",
              "    x.observe(outputEl, {childList: true});\n",
              "}}\n",
              "\n",
              "                        })\n",
              "                };\n",
              "                \n",
              "            </script>\n",
              "        </div>\n",
              "</body>\n",
              "</html>"
            ]
          },
          "metadata": {
            "tags": []
          }
        }
      ]
    },
    {
      "cell_type": "code",
      "metadata": {
        "id": "SbmbXLRuVhEx"
      },
      "source": [
        ""
      ],
      "execution_count": null,
      "outputs": []
    }
  ]
}