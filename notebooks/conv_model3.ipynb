{
  "nbformat": 4,
  "nbformat_minor": 0,
  "metadata": {
    "kernelspec": {
      "display_name": "Python 3",
      "language": "python",
      "name": "python3"
    },
    "language_info": {
      "codemirror_mode": {
        "name": "ipython",
        "version": 3
      },
      "file_extension": ".py",
      "mimetype": "text/x-python",
      "name": "python",
      "nbconvert_exporter": "python",
      "pygments_lexer": "ipython3",
      "version": "3.7.4"
    },
    "colab": {
      "name": "conv_model3.ipynb",
      "provenance": [],
      "collapsed_sections": [],
      "include_colab_link": true
    },
    "accelerator": "GPU"
  },
  "cells": [
    {
      "cell_type": "markdown",
      "metadata": {
        "id": "view-in-github",
        "colab_type": "text"
      },
      "source": [
        "<a href=\"https://colab.research.google.com/github/karencfisher/face_express/blob/main/notebooks/conv_model3.ipynb\" target=\"_parent\"><img src=\"https://colab.research.google.com/assets/colab-badge.svg\" alt=\"Open In Colab\"/></a>"
      ]
    },
    {
      "cell_type": "code",
      "metadata": {
        "id": "xy88CA3WbaOM"
      },
      "source": [
        "import pandas as pd\n",
        "import matplotlib.pyplot as plt\n",
        "import numpy as np\n",
        "import plotly.express as px"
      ],
      "execution_count": 1,
      "outputs": []
    },
    {
      "cell_type": "code",
      "metadata": {
        "id": "2R3m8u1pbmca",
        "colab": {
          "base_uri": "https://localhost:8080/"
        },
        "outputId": "22662933-5cfa-4078-980c-9a14d13e686f"
      },
      "source": [
        "from google.colab import drive\n",
        "drive.mount('/content/drive')"
      ],
      "execution_count": 2,
      "outputs": [
        {
          "output_type": "stream",
          "text": [
            "Mounted at /content/drive\n"
          ],
          "name": "stdout"
        }
      ]
    },
    {
      "cell_type": "markdown",
      "metadata": {
        "id": "rCMwaOrxohl3"
      },
      "source": [
        "The initial dataset is from https://www.kaggle.com/c/challenges-in-representation-learning-facial-expression-recognition-challenge/data\n",
        "\n",
        "The ```icml_face_data.csv``` (AKA ```fer2013```) dataset which contains a total of 34034 samples. It contains 3 columns. The target label is an integer (0, 6), the eight basic emtions:\n",
        "\n",
        "```\n",
        "['Angry', 'Disgust', 'Fear', 'Happy', 'Sad', 'Surprise', 'Neutral']\n",
        "```\n",
        "\n",
        "The labels are updated to 8 basic categories based on crowd sourcing by a group of researchers at Microsoft Research perceiving that the original fer2013 dataset had wildly inaccurate labels. As often facial expressions, by even human performance, can be ambiguous, they had 10 labellers vote on 8 basic emotions (omitting 'unkown'):\n",
        "\n",
        "```\n",
        "['neutral', 'happiness', 'surprise', 'sadness', 'anger', 'disgust', 'fear', 'contempt']\n",
        "```\n",
        "\n",
        "They have published a revised dataset ```fer2013_new```, with consistency row-wise between the new and original datasets, which we will incorporate here. We can later map between the two sets of labels to evaluate the differences in performance.\n",
        "\n",
        "We will use the newer labelling here updating the original dataset labels. Assuming that 'disgust' and 'contempt' are close if not exactly synonymous, we can reduce this set of labels to the original 7 classes in the original fer2013 dataset. To do so we credit any 'votes' to 'contempt' to 'disgust'.We can then see if improved labelling improves the model performance.\n",
        "\n",
        "One strategy to then is to use the 'majority rule', as followed here. Given the votes on the 7 classes, we choose the argmax of them as the ground truth for that sample. Other strategies include the ground truth be not a single classification, but rather a probability distribution based on the 'voting.' We may then approximate more nuanced mixtures of the seven basic emotions, as building a color pallete from various mixtures of primary colors. \n",
        "\n",
        "###Preprocessing\n",
        "\n",
        "The images are stored in the 'pixels' column, as a string of 2304 integer values (0, 255) separated by spaces. These will need be coverted into an array of integer values. Subsequently, they will be needs reshaped into 3-d numpy arrays to be input to the CNN.\n",
        "\n",
        "We then concatenate the two datasets column-wise. Combining them together in this way will expedite removing a small percentage of missing values in the newly labelled dataset (approximately 0.5% of the samples).\n",
        "\n"
      ]
    },
    {
      "cell_type": "code",
      "metadata": {
        "id": "GLi-lS_wbaOh"
      },
      "source": [
        "def loadCleanData(fname):\n",
        "    df = pd.read_csv(fname)\n",
        "    \n",
        "    # regularize capitalization and remove leading space in column headings\n",
        "    fix_cols = {s : s.lower().strip() for s in df.columns.to_list()}\n",
        "    df.rename(columns = fix_cols, inplace=True)\n",
        "    \n",
        "    # convert pixels from strings to lists of integers\n",
        "    df['pixels'] = df['pixels'].apply(lambda x: [int(i) for i in x.split()])\n",
        "    \n",
        "    return df"
      ],
      "execution_count": 3,
      "outputs": []
    },
    {
      "cell_type": "code",
      "metadata": {
        "id": "Z2RreP2kbaOn",
        "colab": {
          "base_uri": "https://localhost:8080/",
          "height": 197
        },
        "outputId": "5eb6af55-8f81-4e32-d21b-1d29aa477f06"
      },
      "source": [
        "df = loadCleanData('/content/drive/MyDrive/face express data/icml_face_data.csv')\n",
        "df.head()"
      ],
      "execution_count": 4,
      "outputs": [
        {
          "output_type": "execute_result",
          "data": {
            "text/html": [
              "<div>\n",
              "<style scoped>\n",
              "    .dataframe tbody tr th:only-of-type {\n",
              "        vertical-align: middle;\n",
              "    }\n",
              "\n",
              "    .dataframe tbody tr th {\n",
              "        vertical-align: top;\n",
              "    }\n",
              "\n",
              "    .dataframe thead th {\n",
              "        text-align: right;\n",
              "    }\n",
              "</style>\n",
              "<table border=\"1\" class=\"dataframe\">\n",
              "  <thead>\n",
              "    <tr style=\"text-align: right;\">\n",
              "      <th></th>\n",
              "      <th>emotion</th>\n",
              "      <th>usage</th>\n",
              "      <th>pixels</th>\n",
              "    </tr>\n",
              "  </thead>\n",
              "  <tbody>\n",
              "    <tr>\n",
              "      <th>0</th>\n",
              "      <td>0</td>\n",
              "      <td>Training</td>\n",
              "      <td>[70, 80, 82, 72, 58, 58, 60, 63, 54, 58, 60, 4...</td>\n",
              "    </tr>\n",
              "    <tr>\n",
              "      <th>1</th>\n",
              "      <td>0</td>\n",
              "      <td>Training</td>\n",
              "      <td>[151, 150, 147, 155, 148, 133, 111, 140, 170, ...</td>\n",
              "    </tr>\n",
              "    <tr>\n",
              "      <th>2</th>\n",
              "      <td>2</td>\n",
              "      <td>Training</td>\n",
              "      <td>[231, 212, 156, 164, 174, 138, 161, 173, 182, ...</td>\n",
              "    </tr>\n",
              "    <tr>\n",
              "      <th>3</th>\n",
              "      <td>4</td>\n",
              "      <td>Training</td>\n",
              "      <td>[24, 32, 36, 30, 32, 23, 19, 20, 30, 41, 21, 2...</td>\n",
              "    </tr>\n",
              "    <tr>\n",
              "      <th>4</th>\n",
              "      <td>6</td>\n",
              "      <td>Training</td>\n",
              "      <td>[4, 0, 0, 0, 0, 0, 0, 0, 0, 0, 0, 0, 3, 15, 23...</td>\n",
              "    </tr>\n",
              "  </tbody>\n",
              "</table>\n",
              "</div>"
            ],
            "text/plain": [
              "   emotion     usage                                             pixels\n",
              "0        0  Training  [70, 80, 82, 72, 58, 58, 60, 63, 54, 58, 60, 4...\n",
              "1        0  Training  [151, 150, 147, 155, 148, 133, 111, 140, 170, ...\n",
              "2        2  Training  [231, 212, 156, 164, 174, 138, 161, 173, 182, ...\n",
              "3        4  Training  [24, 32, 36, 30, 32, 23, 19, 20, 30, 41, 21, 2...\n",
              "4        6  Training  [4, 0, 0, 0, 0, 0, 0, 0, 0, 0, 0, 0, 3, 15, 23..."
            ]
          },
          "metadata": {
            "tags": []
          },
          "execution_count": 4
        }
      ]
    },
    {
      "cell_type": "code",
      "metadata": {
        "colab": {
          "base_uri": "https://localhost:8080/",
          "height": 197
        },
        "id": "fyj947F4iand",
        "outputId": "5f2b5219-1051-450a-c92d-cc707bd1bed9"
      },
      "source": [
        "df_labels = pd.read_csv('https://raw.githubusercontent.com/microsoft/FERPlus/master/fer2013new.csv')\n",
        "df_labels.head()"
      ],
      "execution_count": 5,
      "outputs": [
        {
          "output_type": "execute_result",
          "data": {
            "text/html": [
              "<div>\n",
              "<style scoped>\n",
              "    .dataframe tbody tr th:only-of-type {\n",
              "        vertical-align: middle;\n",
              "    }\n",
              "\n",
              "    .dataframe tbody tr th {\n",
              "        vertical-align: top;\n",
              "    }\n",
              "\n",
              "    .dataframe thead th {\n",
              "        text-align: right;\n",
              "    }\n",
              "</style>\n",
              "<table border=\"1\" class=\"dataframe\">\n",
              "  <thead>\n",
              "    <tr style=\"text-align: right;\">\n",
              "      <th></th>\n",
              "      <th>Usage</th>\n",
              "      <th>Image name</th>\n",
              "      <th>neutral</th>\n",
              "      <th>happiness</th>\n",
              "      <th>surprise</th>\n",
              "      <th>sadness</th>\n",
              "      <th>anger</th>\n",
              "      <th>disgust</th>\n",
              "      <th>fear</th>\n",
              "      <th>contempt</th>\n",
              "      <th>unknown</th>\n",
              "      <th>NF</th>\n",
              "    </tr>\n",
              "  </thead>\n",
              "  <tbody>\n",
              "    <tr>\n",
              "      <th>0</th>\n",
              "      <td>Training</td>\n",
              "      <td>fer0000000.png</td>\n",
              "      <td>4</td>\n",
              "      <td>0</td>\n",
              "      <td>0</td>\n",
              "      <td>1</td>\n",
              "      <td>3</td>\n",
              "      <td>2</td>\n",
              "      <td>0</td>\n",
              "      <td>0</td>\n",
              "      <td>0</td>\n",
              "      <td>0</td>\n",
              "    </tr>\n",
              "    <tr>\n",
              "      <th>1</th>\n",
              "      <td>Training</td>\n",
              "      <td>fer0000001.png</td>\n",
              "      <td>6</td>\n",
              "      <td>0</td>\n",
              "      <td>1</td>\n",
              "      <td>1</td>\n",
              "      <td>0</td>\n",
              "      <td>0</td>\n",
              "      <td>0</td>\n",
              "      <td>0</td>\n",
              "      <td>2</td>\n",
              "      <td>0</td>\n",
              "    </tr>\n",
              "    <tr>\n",
              "      <th>2</th>\n",
              "      <td>Training</td>\n",
              "      <td>fer0000002.png</td>\n",
              "      <td>5</td>\n",
              "      <td>0</td>\n",
              "      <td>0</td>\n",
              "      <td>3</td>\n",
              "      <td>1</td>\n",
              "      <td>0</td>\n",
              "      <td>0</td>\n",
              "      <td>0</td>\n",
              "      <td>1</td>\n",
              "      <td>0</td>\n",
              "    </tr>\n",
              "    <tr>\n",
              "      <th>3</th>\n",
              "      <td>Training</td>\n",
              "      <td>fer0000003.png</td>\n",
              "      <td>4</td>\n",
              "      <td>0</td>\n",
              "      <td>0</td>\n",
              "      <td>4</td>\n",
              "      <td>1</td>\n",
              "      <td>0</td>\n",
              "      <td>0</td>\n",
              "      <td>0</td>\n",
              "      <td>1</td>\n",
              "      <td>0</td>\n",
              "    </tr>\n",
              "    <tr>\n",
              "      <th>4</th>\n",
              "      <td>Training</td>\n",
              "      <td>fer0000004.png</td>\n",
              "      <td>9</td>\n",
              "      <td>0</td>\n",
              "      <td>0</td>\n",
              "      <td>1</td>\n",
              "      <td>0</td>\n",
              "      <td>0</td>\n",
              "      <td>0</td>\n",
              "      <td>0</td>\n",
              "      <td>0</td>\n",
              "      <td>0</td>\n",
              "    </tr>\n",
              "  </tbody>\n",
              "</table>\n",
              "</div>"
            ],
            "text/plain": [
              "      Usage      Image name  neutral  happiness  ...  fear  contempt  unknown  NF\n",
              "0  Training  fer0000000.png        4          0  ...     0         0        0   0\n",
              "1  Training  fer0000001.png        6          0  ...     0         0        2   0\n",
              "2  Training  fer0000002.png        5          0  ...     0         0        1   0\n",
              "3  Training  fer0000003.png        4          0  ...     0         0        1   0\n",
              "4  Training  fer0000004.png        9          0  ...     0         0        0   0\n",
              "\n",
              "[5 rows x 12 columns]"
            ]
          },
          "metadata": {
            "tags": []
          },
          "execution_count": 5
        }
      ]
    },
    {
      "cell_type": "code",
      "metadata": {
        "id": "amK16Y2m4CXI"
      },
      "source": [
        "df_labels = df_labels[['neutral', 'happiness', 'surprise', 'sadness', 'anger', 'disgust', 'fear', 'contempt', 'unknown', 'NF']]\n",
        "fer2013_new = pd.concat([df, df_labels], axis=1)"
      ],
      "execution_count": 6,
      "outputs": []
    },
    {
      "cell_type": "markdown",
      "metadata": {
        "id": "XkbXPKxaRpU2"
      },
      "source": [
        "The ```fer2013_new``` label set however has a number of missing values (NF or 'No File' == 10). As these samples (176 examples, 0.5% of the data) were then dropped from the dataset. We then disregard the NF column and 'unknown' columns."
      ]
    },
    {
      "cell_type": "code",
      "metadata": {
        "colab": {
          "base_uri": "https://localhost:8080/",
          "height": 197
        },
        "id": "LILqyibcya-Z",
        "outputId": "b2f528cf-9211-469f-c929-ce87d566d7e0"
      },
      "source": [
        "fer2013_new.head()"
      ],
      "execution_count": 7,
      "outputs": [
        {
          "output_type": "execute_result",
          "data": {
            "text/html": [
              "<div>\n",
              "<style scoped>\n",
              "    .dataframe tbody tr th:only-of-type {\n",
              "        vertical-align: middle;\n",
              "    }\n",
              "\n",
              "    .dataframe tbody tr th {\n",
              "        vertical-align: top;\n",
              "    }\n",
              "\n",
              "    .dataframe thead th {\n",
              "        text-align: right;\n",
              "    }\n",
              "</style>\n",
              "<table border=\"1\" class=\"dataframe\">\n",
              "  <thead>\n",
              "    <tr style=\"text-align: right;\">\n",
              "      <th></th>\n",
              "      <th>emotion</th>\n",
              "      <th>usage</th>\n",
              "      <th>pixels</th>\n",
              "      <th>neutral</th>\n",
              "      <th>happiness</th>\n",
              "      <th>surprise</th>\n",
              "      <th>sadness</th>\n",
              "      <th>anger</th>\n",
              "      <th>disgust</th>\n",
              "      <th>fear</th>\n",
              "      <th>contempt</th>\n",
              "      <th>unknown</th>\n",
              "      <th>NF</th>\n",
              "    </tr>\n",
              "  </thead>\n",
              "  <tbody>\n",
              "    <tr>\n",
              "      <th>0</th>\n",
              "      <td>0</td>\n",
              "      <td>Training</td>\n",
              "      <td>[70, 80, 82, 72, 58, 58, 60, 63, 54, 58, 60, 4...</td>\n",
              "      <td>4</td>\n",
              "      <td>0</td>\n",
              "      <td>0</td>\n",
              "      <td>1</td>\n",
              "      <td>3</td>\n",
              "      <td>2</td>\n",
              "      <td>0</td>\n",
              "      <td>0</td>\n",
              "      <td>0</td>\n",
              "      <td>0</td>\n",
              "    </tr>\n",
              "    <tr>\n",
              "      <th>1</th>\n",
              "      <td>0</td>\n",
              "      <td>Training</td>\n",
              "      <td>[151, 150, 147, 155, 148, 133, 111, 140, 170, ...</td>\n",
              "      <td>6</td>\n",
              "      <td>0</td>\n",
              "      <td>1</td>\n",
              "      <td>1</td>\n",
              "      <td>0</td>\n",
              "      <td>0</td>\n",
              "      <td>0</td>\n",
              "      <td>0</td>\n",
              "      <td>2</td>\n",
              "      <td>0</td>\n",
              "    </tr>\n",
              "    <tr>\n",
              "      <th>2</th>\n",
              "      <td>2</td>\n",
              "      <td>Training</td>\n",
              "      <td>[231, 212, 156, 164, 174, 138, 161, 173, 182, ...</td>\n",
              "      <td>5</td>\n",
              "      <td>0</td>\n",
              "      <td>0</td>\n",
              "      <td>3</td>\n",
              "      <td>1</td>\n",
              "      <td>0</td>\n",
              "      <td>0</td>\n",
              "      <td>0</td>\n",
              "      <td>1</td>\n",
              "      <td>0</td>\n",
              "    </tr>\n",
              "    <tr>\n",
              "      <th>3</th>\n",
              "      <td>4</td>\n",
              "      <td>Training</td>\n",
              "      <td>[24, 32, 36, 30, 32, 23, 19, 20, 30, 41, 21, 2...</td>\n",
              "      <td>4</td>\n",
              "      <td>0</td>\n",
              "      <td>0</td>\n",
              "      <td>4</td>\n",
              "      <td>1</td>\n",
              "      <td>0</td>\n",
              "      <td>0</td>\n",
              "      <td>0</td>\n",
              "      <td>1</td>\n",
              "      <td>0</td>\n",
              "    </tr>\n",
              "    <tr>\n",
              "      <th>4</th>\n",
              "      <td>6</td>\n",
              "      <td>Training</td>\n",
              "      <td>[4, 0, 0, 0, 0, 0, 0, 0, 0, 0, 0, 0, 3, 15, 23...</td>\n",
              "      <td>9</td>\n",
              "      <td>0</td>\n",
              "      <td>0</td>\n",
              "      <td>1</td>\n",
              "      <td>0</td>\n",
              "      <td>0</td>\n",
              "      <td>0</td>\n",
              "      <td>0</td>\n",
              "      <td>0</td>\n",
              "      <td>0</td>\n",
              "    </tr>\n",
              "  </tbody>\n",
              "</table>\n",
              "</div>"
            ],
            "text/plain": [
              "   emotion     usage  ... unknown  NF\n",
              "0        0  Training  ...       0   0\n",
              "1        0  Training  ...       2   0\n",
              "2        2  Training  ...       1   0\n",
              "3        4  Training  ...       1   0\n",
              "4        6  Training  ...       0   0\n",
              "\n",
              "[5 rows x 13 columns]"
            ]
          },
          "metadata": {
            "tags": []
          },
          "execution_count": 7
        }
      ]
    },
    {
      "cell_type": "code",
      "metadata": {
        "colab": {
          "base_uri": "https://localhost:8080/"
        },
        "id": "DJU6esx5-5rb",
        "outputId": "226adb70-216d-490a-a66e-5d119036dec7"
      },
      "source": [
        "fer2013_new = fer2013_new[fer2013_new['NF'] < 10]\n",
        "fer2013_new.shape"
      ],
      "execution_count": 8,
      "outputs": [
        {
          "output_type": "execute_result",
          "data": {
            "text/plain": [
              "(35711, 13)"
            ]
          },
          "metadata": {
            "tags": []
          },
          "execution_count": 8
        }
      ]
    },
    {
      "cell_type": "code",
      "metadata": {
        "id": "fdPojk75UPn7"
      },
      "source": [
        "# Select all but NF for use\n",
        "y = fer2013_new[['neutral', 'happiness', 'surprise', 'sadness', 'anger', 'disgust', 'fear', 'contempt']].values"
      ],
      "execution_count": 49,
      "outputs": []
    },
    {
      "cell_type": "code",
      "metadata": {
        "id": "878--0-7bMOC"
      },
      "source": [
        "# Majority rule\n",
        "def makeClasses(votes):\n",
        "  probs = []\n",
        "  for row in range(votes.shape[0]):\n",
        "    # put any contempt votes to disgust\n",
        "    votes[row][5] += votes[row][7]\n",
        "    y = np.argmax(votes[row][:7])\n",
        "    probs.append(y)\n",
        "\n",
        "  return np.array(probs)\n"
      ],
      "execution_count": 94,
      "outputs": []
    },
    {
      "cell_type": "code",
      "metadata": {
        "id": "9he-0Tk1baO-"
      },
      "source": [
        "from sklearn.model_selection import train_test_split\n",
        "from sklearn.metrics import accuracy_score\n",
        "from sklearn.dummy import DummyClassifier\n",
        "from sklearn.utils.class_weight import compute_class_weight\n",
        "\n",
        "from tensorflow.keras.layers import Dense, Dropout, Conv2D, MaxPool2D, Flatten, BatchNormalization\n",
        "from tensorflow.keras.models import Sequential\n",
        "from tensorflow.keras.callbacks import EarlyStopping, ModelCheckpoint, ReduceLROnPlateau\n",
        "from keras.regularizers import l2"
      ],
      "execution_count": 51,
      "outputs": []
    },
    {
      "cell_type": "markdown",
      "metadata": {
        "id": "9LIio7bk27iH"
      },
      "source": [
        "Split into training and testing sets."
      ]
    },
    {
      "cell_type": "code",
      "metadata": {
        "id": "fjNHcAfDbaPC",
        "colab": {
          "base_uri": "https://localhost:8080/"
        },
        "outputId": "3a92554f-4e9f-4d25-f0ef-3600a9e6911b"
      },
      "source": [
        "x_train, x_test, y_train, y_test = train_test_split(fer2013_new['pixels'],\n",
        "                                                    y,\n",
        "                                                    test_size=0.2,\n",
        "                                                    random_state=42)\n",
        "\n",
        "x_train.shape, x_test.shape, y_train.shape, y_test.shape"
      ],
      "execution_count": 95,
      "outputs": [
        {
          "output_type": "execute_result",
          "data": {
            "text/plain": [
              "((28568,), (7143,), (28568, 8), (7143, 8))"
            ]
          },
          "metadata": {
            "tags": []
          },
          "execution_count": 95
        }
      ]
    },
    {
      "cell_type": "markdown",
      "metadata": {
        "id": "IkYz5WhC5FQU"
      },
      "source": [
        "Normalize the image data to in range (0, 1). We will also first have to transform lists of integers to a 2-d numpy array, and then reshape that into the 4-d array (m, h, w, c) as neede by the convolutional layers."
      ]
    },
    {
      "cell_type": "code",
      "metadata": {
        "id": "DIg9c-U5baPM"
      },
      "source": [
        "# transform lists of integers into numpy arrays, and normalize the values\n",
        "x_train = np.vstack(x_train) / 255\n",
        "x_test = np.vstack(x_test) / 255\n",
        "\n",
        "# reshape arrays into (m, h, w, c). As they are square, we can get the height\n",
        "# and width values as a square root of the length the original 1-d array.\n",
        "n = int(np.sqrt(x_train.shape[1]))\n",
        "x_train = x_train.reshape(x_train.shape[0], n, n, 1)\n",
        "x_test = x_test.reshape(x_test.shape[0], n, n, 1)\n",
        "\n",
        "# Convert the pandas series of target classes to numpy array of majority cases\n",
        "y_train = makeClasses(y_train)\n",
        "y_test = makeClasses(y_test)"
      ],
      "execution_count": 96,
      "outputs": []
    },
    {
      "cell_type": "markdown",
      "metadata": {
        "id": "p-wJ3TklryJJ"
      },
      "source": [
        "###Building the CNN\n",
        "\n",
        "The model here is inspired by the VGGNet architecture. "
      ]
    },
    {
      "cell_type": "code",
      "metadata": {
        "id": "GC3j39FabaPT",
        "colab": {
          "base_uri": "https://localhost:8080/"
        },
        "outputId": "30de38e6-71a4-4113-8023-e27cd9e94504"
      },
      "source": [
        "model = Sequential([Conv2D(64, (3, 3), input_shape=x_train.shape[1:], activation='relu'),\n",
        "                    BatchNormalization(),\n",
        "                    Conv2D(64, (3, 3), padding='same', activation='relu'),\n",
        "                    BatchNormalization(),\n",
        "                    MaxPool2D((3, 3), strides=(2, 2)),\n",
        "                    Dropout(0.3),\n",
        "                    \n",
        "                    Conv2D(128, (3, 3), padding='same', activation='relu'),\n",
        "                    BatchNormalization(),\n",
        "                    Conv2D(128, (3, 3), padding='same', activation='relu'),\n",
        "                    BatchNormalization(),\n",
        "                    MaxPool2D((3, 3), strides=(2, 2)),\n",
        "                    Dropout(0.3),\n",
        "                    \n",
        "                    Conv2D(256, (3, 3), padding='same', activation='relu'),\n",
        "                    BatchNormalization(),\n",
        "                    Conv2D(256, (3, 3), padding='same', activation='relu'),\n",
        "                    BatchNormalization(),\n",
        "                    MaxPool2D((3, 3), strides=(2, 2)),\n",
        "                    Dropout(0.3),\n",
        "                    \n",
        "                    Conv2D(512, (3, 3), padding='same', activation='relu'),\n",
        "                    BatchNormalization(),\n",
        "                    Conv2D(512, (3, 3), padding='same', activation='relu'),\n",
        "                    BatchNormalization(),\n",
        "                    MaxPool2D((2, 2), strides=(2, 2)),\n",
        "                    Dropout(0.3),\n",
        "                    \n",
        "                    Flatten(),\n",
        "                    Dense(1024, activation='relu'),\n",
        "                    Dropout(0.5),\n",
        "                    Dense(256, activation='relu'),\n",
        "                    Dropout(0.5),\n",
        "                    Dense(64, activation='relu'),\n",
        "                    Dropout(0.5),\n",
        "                    Dense(7, activation='softmax')])\n",
        "\n",
        "model.compile(optimizer='adam', loss='sparse_categorical_crossentropy', metrics=['acc'])\n",
        "model.summary()"
      ],
      "execution_count": 98,
      "outputs": [
        {
          "output_type": "stream",
          "text": [
            "Model: \"sequential_7\"\n",
            "_________________________________________________________________\n",
            "Layer (type)                 Output Shape              Param #   \n",
            "=================================================================\n",
            "conv2d_56 (Conv2D)           (None, 46, 46, 64)        640       \n",
            "_________________________________________________________________\n",
            "batch_normalization_56 (Batc (None, 46, 46, 64)        256       \n",
            "_________________________________________________________________\n",
            "conv2d_57 (Conv2D)           (None, 46, 46, 64)        36928     \n",
            "_________________________________________________________________\n",
            "batch_normalization_57 (Batc (None, 46, 46, 64)        256       \n",
            "_________________________________________________________________\n",
            "max_pooling2d_28 (MaxPooling (None, 22, 22, 64)        0         \n",
            "_________________________________________________________________\n",
            "dropout_49 (Dropout)         (None, 22, 22, 64)        0         \n",
            "_________________________________________________________________\n",
            "conv2d_58 (Conv2D)           (None, 22, 22, 128)       73856     \n",
            "_________________________________________________________________\n",
            "batch_normalization_58 (Batc (None, 22, 22, 128)       512       \n",
            "_________________________________________________________________\n",
            "conv2d_59 (Conv2D)           (None, 22, 22, 128)       147584    \n",
            "_________________________________________________________________\n",
            "batch_normalization_59 (Batc (None, 22, 22, 128)       512       \n",
            "_________________________________________________________________\n",
            "max_pooling2d_29 (MaxPooling (None, 10, 10, 128)       0         \n",
            "_________________________________________________________________\n",
            "dropout_50 (Dropout)         (None, 10, 10, 128)       0         \n",
            "_________________________________________________________________\n",
            "conv2d_60 (Conv2D)           (None, 10, 10, 256)       295168    \n",
            "_________________________________________________________________\n",
            "batch_normalization_60 (Batc (None, 10, 10, 256)       1024      \n",
            "_________________________________________________________________\n",
            "conv2d_61 (Conv2D)           (None, 10, 10, 256)       590080    \n",
            "_________________________________________________________________\n",
            "batch_normalization_61 (Batc (None, 10, 10, 256)       1024      \n",
            "_________________________________________________________________\n",
            "max_pooling2d_30 (MaxPooling (None, 4, 4, 256)         0         \n",
            "_________________________________________________________________\n",
            "dropout_51 (Dropout)         (None, 4, 4, 256)         0         \n",
            "_________________________________________________________________\n",
            "conv2d_62 (Conv2D)           (None, 4, 4, 512)         1180160   \n",
            "_________________________________________________________________\n",
            "batch_normalization_62 (Batc (None, 4, 4, 512)         2048      \n",
            "_________________________________________________________________\n",
            "conv2d_63 (Conv2D)           (None, 4, 4, 512)         2359808   \n",
            "_________________________________________________________________\n",
            "batch_normalization_63 (Batc (None, 4, 4, 512)         2048      \n",
            "_________________________________________________________________\n",
            "max_pooling2d_31 (MaxPooling (None, 2, 2, 512)         0         \n",
            "_________________________________________________________________\n",
            "dropout_52 (Dropout)         (None, 2, 2, 512)         0         \n",
            "_________________________________________________________________\n",
            "flatten_7 (Flatten)          (None, 2048)              0         \n",
            "_________________________________________________________________\n",
            "dense_28 (Dense)             (None, 1024)              2098176   \n",
            "_________________________________________________________________\n",
            "dropout_53 (Dropout)         (None, 1024)              0         \n",
            "_________________________________________________________________\n",
            "dense_29 (Dense)             (None, 256)               262400    \n",
            "_________________________________________________________________\n",
            "dropout_54 (Dropout)         (None, 256)               0         \n",
            "_________________________________________________________________\n",
            "dense_30 (Dense)             (None, 64)                16448     \n",
            "_________________________________________________________________\n",
            "dropout_55 (Dropout)         (None, 64)                0         \n",
            "_________________________________________________________________\n",
            "dense_31 (Dense)             (None, 7)                 455       \n",
            "=================================================================\n",
            "Total params: 7,069,383\n",
            "Trainable params: 7,065,543\n",
            "Non-trainable params: 3,840\n",
            "_________________________________________________________________\n"
          ],
          "name": "stdout"
        }
      ]
    },
    {
      "cell_type": "markdown",
      "metadata": {
        "id": "q22lprlB7EeX"
      },
      "source": [
        "###Training the model. \n",
        "\n",
        "Employing also early stopping, model checkpoint, and learning rate adjustment to avoid plateaus in the gradient descent."
      ]
    },
    {
      "cell_type": "code",
      "metadata": {
        "id": "-EYeydIkbaPX",
        "colab": {
          "base_uri": "https://localhost:8080/"
        },
        "outputId": "65369089-7ac6-4af5-c1aa-2f805da09658"
      },
      "source": [
        "stop = EarlyStopping(monitor='val_acc', patience=5, restore_best_weights=True)\n",
        "\n",
        "checkpoint = ModelCheckpoint('/content/drive/MyDrive/face express data/weights.h5', \n",
        "                             monitor='val_acc', save_best_only=True, \n",
        "                             save_weights_only=True)\n",
        "\n",
        "reduce_lr = ReduceLROnPlateau(monitor='val_loss', factor=0.9, patience=5)\n",
        "\n",
        "history = model.fit(x_train,\n",
        "\n",
        "\n",
        "\n",
        "          y_train,\n",
        "          validation_data=(x_test, y_test),\n",
        "          epochs=100,\n",
        "          batch_size=128,\n",
        "          callbacks=[stop, checkpoint, reduce_lr])"
      ],
      "execution_count": 99,
      "outputs": [
        {
          "output_type": "stream",
          "text": [
            "Epoch 1/100\n",
            "  2/224 [..............................] - ETA: 9s - loss: 5.6164 - acc: 0.1133WARNING:tensorflow:Callbacks method `on_train_batch_end` is slow compared to the batch time (batch time: 0.0317s vs `on_train_batch_end` time: 0.0542s). Check your callbacks.\n",
            "224/224 [==============================] - 17s 77ms/step - loss: 1.9073 - acc: 0.2993 - val_loss: 1.6277 - val_acc: 0.3583\n",
            "Epoch 2/100\n",
            "224/224 [==============================] - 17s 74ms/step - loss: 1.6441 - acc: 0.3505 - val_loss: 1.5985 - val_acc: 0.3583\n",
            "Epoch 3/100\n",
            "224/224 [==============================] - 17s 77ms/step - loss: 1.5736 - acc: 0.3862 - val_loss: 1.5586 - val_acc: 0.3944\n",
            "Epoch 4/100\n",
            "224/224 [==============================] - 17s 78ms/step - loss: 1.4651 - acc: 0.4329 - val_loss: 1.3668 - val_acc: 0.4614\n",
            "Epoch 5/100\n",
            "224/224 [==============================] - 17s 76ms/step - loss: 1.2921 - acc: 0.5643 - val_loss: 1.1171 - val_acc: 0.6146\n",
            "Epoch 6/100\n",
            "224/224 [==============================] - 17s 76ms/step - loss: 1.1277 - acc: 0.6330 - val_loss: 1.0962 - val_acc: 0.6251\n",
            "Epoch 7/100\n",
            "224/224 [==============================] - 17s 76ms/step - loss: 1.0264 - acc: 0.6667 - val_loss: 0.9147 - val_acc: 0.6832\n",
            "Epoch 8/100\n",
            "224/224 [==============================] - 17s 74ms/step - loss: 0.9632 - acc: 0.6841 - val_loss: 1.1127 - val_acc: 0.6324\n",
            "Epoch 9/100\n",
            "224/224 [==============================] - 16s 74ms/step - loss: 0.9054 - acc: 0.7028 - val_loss: 0.9710 - val_acc: 0.6487\n",
            "Epoch 10/100\n",
            "224/224 [==============================] - 17s 75ms/step - loss: 0.8609 - acc: 0.7157 - val_loss: 0.8399 - val_acc: 0.7147\n",
            "Epoch 11/100\n",
            "224/224 [==============================] - 16s 73ms/step - loss: 0.8161 - acc: 0.7304 - val_loss: 0.8235 - val_acc: 0.7026\n",
            "Epoch 12/100\n",
            "224/224 [==============================] - 16s 73ms/step - loss: 0.7836 - acc: 0.7403 - val_loss: 0.8022 - val_acc: 0.7131\n",
            "Epoch 13/100\n",
            "224/224 [==============================] - 17s 76ms/step - loss: 0.7505 - acc: 0.7518 - val_loss: 0.7565 - val_acc: 0.7298\n",
            "Epoch 14/100\n",
            "224/224 [==============================] - 16s 73ms/step - loss: 0.7202 - acc: 0.7602 - val_loss: 0.8619 - val_acc: 0.7110\n",
            "Epoch 15/100\n",
            "224/224 [==============================] - 17s 76ms/step - loss: 0.6739 - acc: 0.7785 - val_loss: 0.7445 - val_acc: 0.7403\n",
            "Epoch 16/100\n",
            "224/224 [==============================] - 16s 73ms/step - loss: 0.6542 - acc: 0.7811 - val_loss: 0.8112 - val_acc: 0.7323\n",
            "Epoch 17/100\n",
            "224/224 [==============================] - 16s 73ms/step - loss: 0.6202 - acc: 0.7963 - val_loss: 0.8091 - val_acc: 0.7301\n",
            "Epoch 18/100\n",
            "224/224 [==============================] - 17s 75ms/step - loss: 0.6155 - acc: 0.7940 - val_loss: 0.7617 - val_acc: 0.7612\n",
            "Epoch 19/100\n",
            "224/224 [==============================] - 16s 73ms/step - loss: 0.5635 - acc: 0.8121 - val_loss: 0.7685 - val_acc: 0.7518\n",
            "Epoch 20/100\n",
            "224/224 [==============================] - 17s 75ms/step - loss: 0.5351 - acc: 0.8229 - val_loss: 0.6973 - val_acc: 0.7735\n",
            "Epoch 21/100\n",
            "224/224 [==============================] - 16s 73ms/step - loss: 0.5053 - acc: 0.8337 - val_loss: 0.7013 - val_acc: 0.7645\n",
            "Epoch 22/100\n",
            "224/224 [==============================] - 16s 73ms/step - loss: 0.4854 - acc: 0.8385 - val_loss: 0.7208 - val_acc: 0.7628\n",
            "Epoch 23/100\n",
            "224/224 [==============================] - 17s 75ms/step - loss: 0.4529 - acc: 0.8491 - val_loss: 0.7075 - val_acc: 0.7858\n",
            "Epoch 24/100\n",
            "224/224 [==============================] - 16s 73ms/step - loss: 0.4392 - acc: 0.8546 - val_loss: 0.7202 - val_acc: 0.7791\n",
            "Epoch 25/100\n",
            "224/224 [==============================] - 17s 75ms/step - loss: 0.4190 - acc: 0.8639 - val_loss: 0.7040 - val_acc: 0.7913\n",
            "Epoch 26/100\n",
            "224/224 [==============================] - 16s 73ms/step - loss: 0.3661 - acc: 0.8790 - val_loss: 0.7727 - val_acc: 0.7802\n",
            "Epoch 27/100\n",
            "224/224 [==============================] - 16s 73ms/step - loss: 0.3443 - acc: 0.8883 - val_loss: 0.7634 - val_acc: 0.7911\n",
            "Epoch 28/100\n",
            "224/224 [==============================] - 16s 73ms/step - loss: 0.3355 - acc: 0.8918 - val_loss: 0.7900 - val_acc: 0.7879\n",
            "Epoch 29/100\n",
            "224/224 [==============================] - 16s 73ms/step - loss: 0.3129 - acc: 0.8988 - val_loss: 0.7408 - val_acc: 0.7767\n",
            "Epoch 30/100\n",
            "224/224 [==============================] - 17s 75ms/step - loss: 0.2959 - acc: 0.9048 - val_loss: 0.8131 - val_acc: 0.8050\n",
            "Epoch 31/100\n",
            "224/224 [==============================] - 16s 73ms/step - loss: 0.2653 - acc: 0.9151 - val_loss: 0.8408 - val_acc: 0.7949\n",
            "Epoch 32/100\n",
            "224/224 [==============================] - 16s 73ms/step - loss: 0.2468 - acc: 0.9196 - val_loss: 0.8198 - val_acc: 0.8018\n",
            "Epoch 33/100\n",
            "224/224 [==============================] - 17s 76ms/step - loss: 0.2503 - acc: 0.9204 - val_loss: 0.8787 - val_acc: 0.8053\n",
            "Epoch 34/100\n",
            "224/224 [==============================] - 16s 73ms/step - loss: 0.2242 - acc: 0.9280 - val_loss: 0.9020 - val_acc: 0.8015\n",
            "Epoch 35/100\n",
            "224/224 [==============================] - 17s 75ms/step - loss: 0.2093 - acc: 0.9339 - val_loss: 0.8666 - val_acc: 0.8083\n",
            "Epoch 36/100\n",
            "224/224 [==============================] - 16s 73ms/step - loss: 0.1908 - acc: 0.9399 - val_loss: 0.9318 - val_acc: 0.7977\n",
            "Epoch 37/100\n",
            "224/224 [==============================] - 16s 73ms/step - loss: 0.1801 - acc: 0.9436 - val_loss: 0.9464 - val_acc: 0.8025\n",
            "Epoch 38/100\n",
            "224/224 [==============================] - 16s 73ms/step - loss: 0.1735 - acc: 0.9458 - val_loss: 1.0720 - val_acc: 0.8027\n",
            "Epoch 39/100\n",
            "224/224 [==============================] - 17s 75ms/step - loss: 0.1596 - acc: 0.9501 - val_loss: 1.0207 - val_acc: 0.8092\n",
            "Epoch 40/100\n",
            "224/224 [==============================] - 16s 73ms/step - loss: 0.2224 - acc: 0.9290 - val_loss: 1.0504 - val_acc: 0.8013\n",
            "Epoch 41/100\n",
            "224/224 [==============================] - 16s 73ms/step - loss: 0.1657 - acc: 0.9502 - val_loss: 1.0277 - val_acc: 0.8075\n",
            "Epoch 42/100\n",
            "224/224 [==============================] - 16s 73ms/step - loss: 0.1256 - acc: 0.9600 - val_loss: 1.1992 - val_acc: 0.8018\n",
            "Epoch 43/100\n",
            "224/224 [==============================] - 16s 73ms/step - loss: 0.1213 - acc: 0.9632 - val_loss: 1.0537 - val_acc: 0.8054\n",
            "Epoch 44/100\n",
            "224/224 [==============================] - 16s 74ms/step - loss: 0.1208 - acc: 0.9622 - val_loss: 1.2438 - val_acc: 0.7953\n"
          ],
          "name": "stdout"
        }
      ]
    },
    {
      "cell_type": "code",
      "metadata": {
        "id": "YCWDFVU7baPg",
        "colab": {
          "base_uri": "https://localhost:8080/",
          "height": 544
        },
        "outputId": "cae4ffa8-50a2-40a4-df36-52b8762b4efd"
      },
      "source": [
        "plt.plot(history.history['loss'], label='training')\n",
        "plt.plot(history.history['val_loss'], label='validation')\n",
        "plt.legend()\n",
        "plt.title('Loss')\n",
        "plt.show()\n",
        "\n",
        "plt.plot(history.history['acc'], label='training')\n",
        "plt.plot(history.history['val_acc'], label='validation')\n",
        "plt.legend()\n",
        "plt.title('Accuracy')\n",
        "plt.show()"
      ],
      "execution_count": 100,
      "outputs": [
        {
          "output_type": "display_data",
          "data": {
            "image/png": "[encoded data removed]",
            "text/plain": [
              "<Figure size 432x288 with 1 Axes>"
            ]
          },
          "metadata": {
            "tags": [],
            "needs_background": "light"
          }
        },
        {
          "output_type": "display_data",
          "data": {
            "image/png": "[encoded data removed]",
            "text/plain": [
              "<Figure size 432x288 with 1 Axes>"
            ]
          },
          "metadata": {
            "tags": [],
            "needs_background": "light"
          }
        }
      ]
    },
    {
      "cell_type": "code",
      "metadata": {
        "id": "crUyKLz6atyo"
      },
      "source": [
        "model.save('/content/drive/MyDrive/face express data/model2.h5')"
      ],
      "execution_count": 101,
      "outputs": []
    },
    {
      "cell_type": "markdown",
      "metadata": {
        "id": "rTmdL4837Ma2"
      },
      "source": [
        "Alternatively, load a model that has been trained and saved."
      ]
    },
    {
      "cell_type": "code",
      "metadata": {
        "id": "VxRHTsraxHGh"
      },
      "source": [
        "from tensorflow.keras.models import load_model\n",
        "\n",
        "model = load_model('/content/drive/MyDrive/face express data/model2.h5')\n"
      ],
      "execution_count": 102,
      "outputs": []
    },
    {
      "cell_type": "code",
      "metadata": {
        "colab": {
          "base_uri": "https://localhost:8080/"
        },
        "id": "bPfCDz8_ybxd",
        "outputId": "7dad2013-f5a3-43e7-a377-67ab39fc53e1"
      },
      "source": [
        "preds = model.predict(x_test)\n",
        "y_pred = [np.argmax(pred) for pred in preds]\n",
        "score = accuracy_score(y_test, y_pred)\n",
        "print(f'Accuracy = {round(score * 100, 2)} %')"
      ],
      "execution_count": 103,
      "outputs": [
        {
          "output_type": "stream",
          "text": [
            "Accuracy = 80.92 %\n"
          ],
          "name": "stdout"
        }
      ]
    },
    {
      "cell_type": "code",
      "metadata": {
        "colab": {
          "base_uri": "https://localhost:8080/",
          "height": 264
        },
        "id": "trphuTQdyrqg",
        "outputId": "159fbb6c-60e4-405e-b529-7120b417a41b"
      },
      "source": [
        "import seaborn as sns\n",
        "from sklearn.metrics import confusion_matrix\n",
        "\n",
        "cm = confusion_matrix(y_test, y_pred)\n",
        "ax = sns.heatmap(cm, annot=True, fmt='d', linewidths=.2, square=True)\n",
        "bottom, top = ax.get_ylim()\n",
        "ax.set_ylim(bottom + 0.5, top - 0.5);"
      ],
      "execution_count": 104,
      "outputs": [
        {
          "output_type": "display_data",
          "data": {
            "image/png": "[encoded data removed]",
            "text/plain": [
              "<Figure size 432x288 with 2 Axes>"
            ]
          },
          "metadata": {
            "tags": [],
            "needs_background": "light"
          }
        }
      ]
    },
    {
      "cell_type": "code",
      "metadata": {
        "colab": {
          "base_uri": "https://localhost:8080/",
          "height": 314
        },
        "id": "1XGv81NdMzpX",
        "outputId": "41e3eef8-4977-45de-fa6c-4f99d950ad47"
      },
      "source": [
        "classes = ['Neutral', 'Happy', 'Surprise', 'Sad', 'Angry', 'Disgust', 'Fear']\n",
        "\n",
        "y_count = np.bincount(y_test)\n",
        "labels = {classes[i]: y_count[i] for i in range(len(classes))}\n",
        "print(labels)\n",
        "plt.bar(classes, y_count)\n",
        "plt.xticks(rotation=90);"
      ],
      "execution_count": 108,
      "outputs": [
        {
          "output_type": "stream",
          "text": [
            "{'Neutral': 2559, 'Happy': 1821, 'Surprise': 914, 'Sad': 942, 'Angry': 635, 'Disgust': 114, 'Fear': 158}\n"
          ],
          "name": "stdout"
        },
        {
          "output_type": "display_data",
          "data": {
            "image/png": "[encoded data removed]",
            "text/plain": [
              "<Figure size 432x288 with 1 Axes>"
            ]
          },
          "metadata": {
            "tags": [],
            "needs_background": "light"
          }
        }
      ]
    },
    {
      "cell_type": "markdown",
      "metadata": {
        "id": "B3HB5luc7ba1"
      },
      "source": [
        "Perform inference on a random selected sample from the test dataset"
      ]
    },
    {
      "cell_type": "code",
      "metadata": {
        "id": "4_aYyjpabaPk"
      },
      "source": [
        "def tryRandomExample():\n",
        "    index = np.random.randint(0, x_test.shape[0])\n",
        "    img = x_test[index]\n",
        "    img = np.expand_dims(img, axis=0)\n",
        "    pred = model.predict(img)\n",
        "    best = np.argmax(pred[0])\n",
        "    \n",
        "    print(classes[best] == classes[y_test[index]])\n",
        "    print(f'Predicted label: {classes[best]}\\nConfidence: {round(pred[0][best] * 100, 2)} %')\n",
        "    print(f'Actual label: {classes[y_test[index]]}')\n",
        "    \n",
        "    plt.imshow(np.squeeze(img[0], axis=-1), cmap='gray')\n",
        "    plt.show()\n",
        "    \n",
        "    df = pd.DataFrame(dict(probs=list(pred[0]), labels=classes))\n",
        "    fig = px.line_polar(df, r='probs', theta='labels', line_close=True)\n",
        "    fig.show()\n",
        "    \n",
        "    "
      ],
      "execution_count": 106,
      "outputs": []
    },
    {
      "cell_type": "markdown",
      "metadata": {
        "id": "42cuizDasrWf"
      },
      "source": [
        "### Try the model out\n",
        "\n",
        "As the only reall proof of a model's worth is if it can infer examples. Here we are just randomly selecting from the test dataset. "
      ]
    },
    {
      "cell_type": "code",
      "metadata": {
        "id": "e_uztfdxbaPq",
        "colab": {
          "base_uri": "https://localhost:8080/",
          "height": 863
        },
        "outputId": "64a43a16-a4ed-4f65-b166-a45f1e55508f"
      },
      "source": [
        "tryRandomExample()"
      ],
      "execution_count": 109,
      "outputs": [
        {
          "output_type": "stream",
          "text": [
            "True\n",
            "Predicted label: Happy\n",
            "Confidence: 100.0 %\n",
            "Actual label: Happy\n"
          ],
          "name": "stdout"
        },
        {
          "output_type": "display_data",
          "data": {
            "image/png": "[encoded data removed]",
            "text/plain": [
              "<Figure size 432x288 with 1 Axes>"
            ]
          },
          "metadata": {
            "tags": [],
            "needs_background": "light"
          }
        },
        {
          "output_type": "display_data",
          "data": {
            "text/html": [
              "<html>\n",
              "<head><meta charset=\"utf-8\" /></head>\n",
              "<body>\n",
              "    <div>\n",
              "            <script src=\"https://cdnjs.cloudflare.com/ajax/libs/mathjax/2.7.5/MathJax.js?config=TeX-AMS-MML_SVG\"></script><script type=\"text/javascript\">if (window.MathJax) {MathJax.Hub.Config({SVG: {font: \"STIX-Web\"}});}</script>\n",
              "                <script type=\"text/javascript\">window.PlotlyConfig = {MathJaxConfig: 'local'};</script>\n",
              "        <script src=\"https://cdn.plot.ly/plotly-latest.min.js\"></script>    \n",
              "            <div id=\"974a6c13-55db-4181-8c44-4c463a20dda4\" class=\"plotly-graph-div\" style=\"height:525px; width:100%;\"></div>\n",
              "            <script type=\"text/javascript\">\n",
              "                \n",
              "                    window.PLOTLYENV=window.PLOTLYENV || {};\n",
              "                    \n",
              "                if (document.getElementById(\"974a6c13-55db-4181-8c44-4c463a20dda4\")) {\n",
              "                    Plotly.newPlot(\n",
              "                        '974a6c13-55db-4181-8c44-4c463a20dda4',\n",
              "                        [{\"hoverlabel\": {\"namelength\": 0}, \"hovertemplate\": \"probs=%{r}<br>labels=%{theta}\", \"legendgroup\": \"\", \"line\": {\"color\": \"#636efa\", \"dash\": \"solid\"}, \"mode\": \"lines\", \"name\": \"\", \"r\": [1.6887925423729282e-22, 1.0, 1.5480730649649708e-24, 1.5156547077357775e-23, 4.738827243815023e-23, 4.7191335872337515e-28, 0.0, 1.6887925423729282e-22], \"showlegend\": false, \"subplot\": \"polar\", \"theta\": [\"Neutral\", \"Happy\", \"Surprise\", \"Sad\", \"Angry\", \"Disgust\", \"Fear\", \"Neutral\"], \"type\": \"scatterpolar\"}],\n",
              "                        {\"legend\": {\"tracegroupgap\": 0}, \"margin\": {\"t\": 60}, \"polar\": {\"angularaxis\": {\"direction\": \"clockwise\", \"rotation\": 90}, \"domain\": {\"x\": [0.0, 1.0], \"y\": [0.0, 1.0]}}, \"template\": {\"data\": {\"bar\": [{\"error_x\": {\"color\": \"#2a3f5f\"}, \"error_y\": {\"color\": \"#2a3f5f\"}, \"marker\": {\"line\": {\"color\": \"#E5ECF6\", \"width\": 0.5}}, \"type\": \"bar\"}], \"barpolar\": [{\"marker\": {\"line\": {\"color\": \"#E5ECF6\", \"width\": 0.5}}, \"type\": \"barpolar\"}], \"carpet\": [{\"aaxis\": {\"endlinecolor\": \"#2a3f5f\", \"gridcolor\": \"white\", \"linecolor\": \"white\", \"minorgridcolor\": \"white\", \"startlinecolor\": \"#2a3f5f\"}, \"baxis\": {\"endlinecolor\": \"#2a3f5f\", \"gridcolor\": \"white\", \"linecolor\": \"white\", \"minorgridcolor\": \"white\", \"startlinecolor\": \"#2a3f5f\"}, \"type\": \"carpet\"}], \"choropleth\": [{\"colorbar\": {\"outlinewidth\": 0, \"ticks\": \"\"}, \"type\": \"choropleth\"}], \"contour\": [{\"colorbar\": {\"outlinewidth\": 0, \"ticks\": \"\"}, \"colorscale\": [[0.0, \"#0d0887\"], [0.1111111111111111, \"#46039f\"], [0.2222222222222222, \"#7201a8\"], [0.3333333333333333, \"#9c179e\"], [0.4444444444444444, \"#bd3786\"], [0.5555555555555556, \"#d8576b\"], [0.6666666666666666, \"#ed7953\"], [0.7777777777777778, \"#fb9f3a\"], [0.8888888888888888, \"#fdca26\"], [1.0, \"#f0f921\"]], \"type\": \"contour\"}], \"contourcarpet\": [{\"colorbar\": {\"outlinewidth\": 0, \"ticks\": \"\"}, \"type\": \"contourcarpet\"}], \"heatmap\": [{\"colorbar\": {\"outlinewidth\": 0, \"ticks\": \"\"}, \"colorscale\": [[0.0, \"#0d0887\"], [0.1111111111111111, \"#46039f\"], [0.2222222222222222, \"#7201a8\"], [0.3333333333333333, \"#9c179e\"], [0.4444444444444444, \"#bd3786\"], [0.5555555555555556, \"#d8576b\"], [0.6666666666666666, \"#ed7953\"], [0.7777777777777778, \"#fb9f3a\"], [0.8888888888888888, \"#fdca26\"], [1.0, \"#f0f921\"]], \"type\": \"heatmap\"}], \"heatmapgl\": [{\"colorbar\": {\"outlinewidth\": 0, \"ticks\": \"\"}, \"colorscale\": [[0.0, \"#0d0887\"], [0.1111111111111111, \"#46039f\"], [0.2222222222222222, \"#7201a8\"], [0.3333333333333333, \"#9c179e\"], [0.4444444444444444, \"#bd3786\"], [0.5555555555555556, \"#d8576b\"], [0.6666666666666666, \"#ed7953\"], [0.7777777777777778, \"#fb9f3a\"], [0.8888888888888888, \"#fdca26\"], [1.0, \"#f0f921\"]], \"type\": \"heatmapgl\"}], \"histogram\": [{\"marker\": {\"colorbar\": {\"outlinewidth\": 0, \"ticks\": \"\"}}, \"type\": \"histogram\"}], \"histogram2d\": [{\"colorbar\": {\"outlinewidth\": 0, \"ticks\": \"\"}, \"colorscale\": [[0.0, \"#0d0887\"], [0.1111111111111111, \"#46039f\"], [0.2222222222222222, \"#7201a8\"], [0.3333333333333333, \"#9c179e\"], [0.4444444444444444, \"#bd3786\"], [0.5555555555555556, \"#d8576b\"], [0.6666666666666666, \"#ed7953\"], [0.7777777777777778, \"#fb9f3a\"], [0.8888888888888888, \"#fdca26\"], [1.0, \"#f0f921\"]], \"type\": \"histogram2d\"}], \"histogram2dcontour\": [{\"colorbar\": {\"outlinewidth\": 0, \"ticks\": \"\"}, \"colorscale\": [[0.0, \"#0d0887\"], [0.1111111111111111, \"#46039f\"], [0.2222222222222222, \"#7201a8\"], [0.3333333333333333, \"#9c179e\"], [0.4444444444444444, \"#bd3786\"], [0.5555555555555556, \"#d8576b\"], [0.6666666666666666, \"#ed7953\"], [0.7777777777777778, \"#fb9f3a\"], [0.8888888888888888, \"#fdca26\"], [1.0, \"#f0f921\"]], \"type\": \"histogram2dcontour\"}], \"mesh3d\": [{\"colorbar\": {\"outlinewidth\": 0, \"ticks\": \"\"}, \"type\": \"mesh3d\"}], \"parcoords\": [{\"line\": {\"colorbar\": {\"outlinewidth\": 0, \"ticks\": \"\"}}, \"type\": \"parcoords\"}], \"pie\": [{\"automargin\": true, \"type\": \"pie\"}], \"scatter\": [{\"marker\": {\"colorbar\": {\"outlinewidth\": 0, \"ticks\": \"\"}}, \"type\": \"scatter\"}], \"scatter3d\": [{\"line\": {\"colorbar\": {\"outlinewidth\": 0, \"ticks\": \"\"}}, \"marker\": {\"colorbar\": {\"outlinewidth\": 0, \"ticks\": \"\"}}, \"type\": \"scatter3d\"}], \"scattercarpet\": [{\"marker\": {\"colorbar\": {\"outlinewidth\": 0, \"ticks\": \"\"}}, \"type\": \"scattercarpet\"}], \"scattergeo\": [{\"marker\": {\"colorbar\": {\"outlinewidth\": 0, \"ticks\": \"\"}}, \"type\": \"scattergeo\"}], \"scattergl\": [{\"marker\": {\"colorbar\": {\"outlinewidth\": 0, \"ticks\": \"\"}}, \"type\": \"scattergl\"}], \"scattermapbox\": [{\"marker\": {\"colorbar\": {\"outlinewidth\": 0, \"ticks\": \"\"}}, \"type\": \"scattermapbox\"}], \"scatterpolar\": [{\"marker\": {\"colorbar\": {\"outlinewidth\": 0, \"ticks\": \"\"}}, \"type\": \"scatterpolar\"}], \"scatterpolargl\": [{\"marker\": {\"colorbar\": {\"outlinewidth\": 0, \"ticks\": \"\"}}, \"type\": \"scatterpolargl\"}], \"scatterternary\": [{\"marker\": {\"colorbar\": {\"outlinewidth\": 0, \"ticks\": \"\"}}, \"type\": \"scatterternary\"}], \"surface\": [{\"colorbar\": {\"outlinewidth\": 0, \"ticks\": \"\"}, \"colorscale\": [[0.0, \"#0d0887\"], [0.1111111111111111, \"#46039f\"], [0.2222222222222222, \"#7201a8\"], [0.3333333333333333, \"#9c179e\"], [0.4444444444444444, \"#bd3786\"], [0.5555555555555556, \"#d8576b\"], [0.6666666666666666, \"#ed7953\"], [0.7777777777777778, \"#fb9f3a\"], [0.8888888888888888, \"#fdca26\"], [1.0, \"#f0f921\"]], \"type\": \"surface\"}], \"table\": [{\"cells\": {\"fill\": {\"color\": \"#EBF0F8\"}, \"line\": {\"color\": \"white\"}}, \"header\": {\"fill\": {\"color\": \"#C8D4E3\"}, \"line\": {\"color\": \"white\"}}, \"type\": \"table\"}]}, \"layout\": {\"annotationdefaults\": {\"arrowcolor\": \"#2a3f5f\", \"arrowhead\": 0, \"arrowwidth\": 1}, \"coloraxis\": {\"colorbar\": {\"outlinewidth\": 0, \"ticks\": \"\"}}, \"colorscale\": {\"diverging\": [[0, \"#8e0152\"], [0.1, \"#c51b7d\"], [0.2, \"#de77ae\"], [0.3, \"#f1b6da\"], [0.4, \"#fde0ef\"], [0.5, \"#f7f7f7\"], [0.6, \"#e6f5d0\"], [0.7, \"#b8e186\"], [0.8, \"#7fbc41\"], [0.9, \"#4d9221\"], [1, \"#276419\"]], \"sequential\": [[0.0, \"#0d0887\"], [0.1111111111111111, \"#46039f\"], [0.2222222222222222, \"#7201a8\"], [0.3333333333333333, \"#9c179e\"], [0.4444444444444444, \"#bd3786\"], [0.5555555555555556, \"#d8576b\"], [0.6666666666666666, \"#ed7953\"], [0.7777777777777778, \"#fb9f3a\"], [0.8888888888888888, \"#fdca26\"], [1.0, \"#f0f921\"]], \"sequentialminus\": [[0.0, \"#0d0887\"], [0.1111111111111111, \"#46039f\"], [0.2222222222222222, \"#7201a8\"], [0.3333333333333333, \"#9c179e\"], [0.4444444444444444, \"#bd3786\"], [0.5555555555555556, \"#d8576b\"], [0.6666666666666666, \"#ed7953\"], [0.7777777777777778, \"#fb9f3a\"], [0.8888888888888888, \"#fdca26\"], [1.0, \"#f0f921\"]]}, \"colorway\": [\"#636efa\", \"#EF553B\", \"#00cc96\", \"#ab63fa\", \"#FFA15A\", \"#19d3f3\", \"#FF6692\", \"#B6E880\", \"#FF97FF\", \"#FECB52\"], \"font\": {\"color\": \"#2a3f5f\"}, \"geo\": {\"bgcolor\": \"white\", \"lakecolor\": \"white\", \"landcolor\": \"#E5ECF6\", \"showlakes\": true, \"showland\": true, \"subunitcolor\": \"white\"}, \"hoverlabel\": {\"align\": \"left\"}, \"hovermode\": \"closest\", \"mapbox\": {\"style\": \"light\"}, \"paper_bgcolor\": \"white\", \"plot_bgcolor\": \"#E5ECF6\", \"polar\": {\"angularaxis\": {\"gridcolor\": \"white\", \"linecolor\": \"white\", \"ticks\": \"\"}, \"bgcolor\": \"#E5ECF6\", \"radialaxis\": {\"gridcolor\": \"white\", \"linecolor\": \"white\", \"ticks\": \"\"}}, \"scene\": {\"xaxis\": {\"backgroundcolor\": \"#E5ECF6\", \"gridcolor\": \"white\", \"gridwidth\": 2, \"linecolor\": \"white\", \"showbackground\": true, \"ticks\": \"\", \"zerolinecolor\": \"white\"}, \"yaxis\": {\"backgroundcolor\": \"#E5ECF6\", \"gridcolor\": \"white\", \"gridwidth\": 2, \"linecolor\": \"white\", \"showbackground\": true, \"ticks\": \"\", \"zerolinecolor\": \"white\"}, \"zaxis\": {\"backgroundcolor\": \"#E5ECF6\", \"gridcolor\": \"white\", \"gridwidth\": 2, \"linecolor\": \"white\", \"showbackground\": true, \"ticks\": \"\", \"zerolinecolor\": \"white\"}}, \"shapedefaults\": {\"line\": {\"color\": \"#2a3f5f\"}}, \"ternary\": {\"aaxis\": {\"gridcolor\": \"white\", \"linecolor\": \"white\", \"ticks\": \"\"}, \"baxis\": {\"gridcolor\": \"white\", \"linecolor\": \"white\", \"ticks\": \"\"}, \"bgcolor\": \"#E5ECF6\", \"caxis\": {\"gridcolor\": \"white\", \"linecolor\": \"white\", \"ticks\": \"\"}}, \"title\": {\"x\": 0.05}, \"xaxis\": {\"automargin\": true, \"gridcolor\": \"white\", \"linecolor\": \"white\", \"ticks\": \"\", \"title\": {\"standoff\": 15}, \"zerolinecolor\": \"white\", \"zerolinewidth\": 2}, \"yaxis\": {\"automargin\": true, \"gridcolor\": \"white\", \"linecolor\": \"white\", \"ticks\": \"\", \"title\": {\"standoff\": 15}, \"zerolinecolor\": \"white\", \"zerolinewidth\": 2}}}},\n",
              "                        {\"responsive\": true}\n",
              "                    ).then(function(){\n",
              "                            \n",
              "var gd = document.getElementById('974a6c13-55db-4181-8c44-4c463a20dda4');\n",
              "var x = new MutationObserver(function (mutations, observer) {{\n",
              "        var display = window.getComputedStyle(gd).display;\n",
              "        if (!display || display === 'none') {{\n",
              "            console.log([gd, 'removed!']);\n",
              "            Plotly.purge(gd);\n",
              "            observer.disconnect();\n",
              "        }}\n",
              "}});\n",
              "\n",
              "// Listen for the removal of the full notebook cells\n",
              "var notebookContainer = gd.closest('#notebook-container');\n",
              "if (notebookContainer) {{\n",
              "    x.observe(notebookContainer, {childList: true});\n",
              "}}\n",
              "\n",
              "// Listen for the clearing of the current output cell\n",
              "var outputEl = gd.closest('.output');\n",
              "if (outputEl) {{\n",
              "    x.observe(outputEl, {childList: true});\n",
              "}}\n",
              "\n",
              "                        })\n",
              "                };\n",
              "                \n",
              "            </script>\n",
              "        </div>\n",
              "</body>\n",
              "</html>"
            ]
          },
          "metadata": {
            "tags": []
          }
        }
      ]
    },
    {
      "cell_type": "code",
      "metadata": {
        "id": "SbmbXLRuVhEx"
      },
      "source": [
        ""
      ],
      "execution_count": null,
      "outputs": []
    }
  ]
}