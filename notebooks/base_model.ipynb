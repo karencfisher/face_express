{
 "cells": [
  {
   "cell_type": "code",
   "execution_count": 17,
   "metadata": {},
   "outputs": [],
   "source": [
    "import pandas as pd\n",
    "import matplotlib.pyplot as plt\n",
    "import numpy as np"
   ]
  },
  {
   "cell_type": "code",
   "execution_count": 69,
   "metadata": {},
   "outputs": [],
   "source": [
    "def loadCleanData(fname):\n",
    "    df = pd.read_csv(fname)\n",
    "    \n",
    "    # regularize capitalization and remove leading space in column headings\n",
    "    fix_cols = {s : s.lower().strip() for s in df.columns.to_list()}\n",
    "    df.rename(columns = fix_cols, inplace=True)\n",
    "    \n",
    "    # convert pixels from strings to lists of integers\n",
    "    df['pixels'] = df['pixels'].apply(lambda x: [int(i) for i in x.split()])\n",
    "    \n",
    "    df.drop('usage', axis=1, inplace=True)\n",
    "    \n",
    "    return df"
   ]
  },
  {
   "cell_type": "code",
   "execution_count": 70,
   "metadata": {},
   "outputs": [
    {
     "data": {
      "text/html": [
       "<div>\n",
       "<style scoped>\n",
       "    .dataframe tbody tr th:only-of-type {\n",
       "        vertical-align: middle;\n",
       "    }\n",
       "\n",
       "    .dataframe tbody tr th {\n",
       "        vertical-align: top;\n",
       "    }\n",
       "\n",
       "    .dataframe thead th {\n",
       "        text-align: right;\n",
       "    }\n",
       "</style>\n",
       "<table border=\"1\" class=\"dataframe\">\n",
       "  <thead>\n",
       "    <tr style=\"text-align: right;\">\n",
       "      <th></th>\n",
       "      <th>emotion</th>\n",
       "      <th>pixels</th>\n",
       "    </tr>\n",
       "  </thead>\n",
       "  <tbody>\n",
       "    <tr>\n",
       "      <td>0</td>\n",
       "      <td>0</td>\n",
       "      <td>[70, 80, 82, 72, 58, 58, 60, 63, 54, 58, 60, 4...</td>\n",
       "    </tr>\n",
       "    <tr>\n",
       "      <td>1</td>\n",
       "      <td>0</td>\n",
       "      <td>[151, 150, 147, 155, 148, 133, 111, 140, 170, ...</td>\n",
       "    </tr>\n",
       "    <tr>\n",
       "      <td>2</td>\n",
       "      <td>2</td>\n",
       "      <td>[231, 212, 156, 164, 174, 138, 161, 173, 182, ...</td>\n",
       "    </tr>\n",
       "    <tr>\n",
       "      <td>3</td>\n",
       "      <td>4</td>\n",
       "      <td>[24, 32, 36, 30, 32, 23, 19, 20, 30, 41, 21, 2...</td>\n",
       "    </tr>\n",
       "    <tr>\n",
       "      <td>4</td>\n",
       "      <td>6</td>\n",
       "      <td>[4, 0, 0, 0, 0, 0, 0, 0, 0, 0, 0, 0, 3, 15, 23...</td>\n",
       "    </tr>\n",
       "  </tbody>\n",
       "</table>\n",
       "</div>"
      ],
      "text/plain": [
       "   emotion                                             pixels\n",
       "0        0  [70, 80, 82, 72, 58, 58, 60, 63, 54, 58, 60, 4...\n",
       "1        0  [151, 150, 147, 155, 148, 133, 111, 140, 170, ...\n",
       "2        2  [231, 212, 156, 164, 174, 138, 161, 173, 182, ...\n",
       "3        4  [24, 32, 36, 30, 32, 23, 19, 20, 30, 41, 21, 2...\n",
       "4        6  [4, 0, 0, 0, 0, 0, 0, 0, 0, 0, 0, 0, 3, 15, 23..."
      ]
     },
     "execution_count": 70,
     "metadata": {},
     "output_type": "execute_result"
    }
   ],
   "source": [
    "df = loadCleanData('data/icml_face_data.csv')\n",
    "df.head()"
   ]
  },
  {
   "cell_type": "code",
   "execution_count": 50,
   "metadata": {},
   "outputs": [],
   "source": [
    "classes = ['Angry', 'Disgust', 'Fear', 'Happy', 'Sad', 'Surprise', 'Neutral']"
   ]
  },
  {
   "cell_type": "code",
   "execution_count": 62,
   "metadata": {},
   "outputs": [],
   "source": [
    "def displayImage(df, classes):\n",
    "    index = np.random.randint(0, df.shape[0])\n",
    "    img = np.array(df.iloc[index]['pixels'])\n",
    "    n = int(np.sqrt(len(df.iloc[0]['pixels'])))\n",
    "    img = img.reshape(n, n)\n",
    "    \n",
    "    plt.imshow(img, cmap='gray')\n",
    "    plt.xlabel(classes[df.iloc[index]['emotion']])\n",
    "    plt.show()\n",
    "    "
   ]
  },
  {
   "cell_type": "code",
   "execution_count": 102,
   "metadata": {},
   "outputs": [
    {
     "data": {
      "image/png": "[encoded data removed]",
      "text/plain": [
       "<Figure size 432x288 with 1 Axes>"
      ]
     },
     "metadata": {
      "needs_background": "light"
     },
     "output_type": "display_data"
    }
   ],
   "source": [
    "displayImage(df, classes)"
   ]
  },
  {
   "cell_type": "code",
   "execution_count": 107,
   "metadata": {},
   "outputs": [],
   "source": [
    "from sklearn.model_selection import train_test_split\n",
    "from sklearn.metrics import accuracy_score\n",
    "from sklearn.dummy import DummyClassifier\n",
    "\n",
    "from tensorflow.keras.layers import Dense, Dropout\n",
    "from tensorflow.keras.models import Sequential\n",
    "from tensorflow.keras.callbacks import EarlyStopping"
   ]
  },
  {
   "cell_type": "code",
   "execution_count": 77,
   "metadata": {},
   "outputs": [
    {
     "data": {
      "text/plain": [
       "((28709,), (7178,), (28709,), (7178,))"
      ]
     },
     "execution_count": 77,
     "metadata": {},
     "output_type": "execute_result"
    }
   ],
   "source": [
    "x_train, x_test, y_train, y_test = train_test_split(df['pixels'],\n",
    "                                                    df['emotion'],\n",
    "                                                    test_size=0.2,\n",
    "                                                    random_state=42)\n",
    "\n",
    "x_train.shape, x_test.shape, y_train.shape, y_test.shape"
   ]
  },
  {
   "cell_type": "code",
   "execution_count": 158,
   "metadata": {},
   "outputs": [
    {
     "name": "stdout",
     "output_type": "stream",
     "text": [
      "Total baseline = 16.47 %\n"
     ]
    }
   ],
   "source": [
    "clf = DummyClassifier()\n",
    "clf.fit(x_train, y_train)\n",
    "score = clf.score(x_test, y_test)\n",
    "print(f'Total baseline = {round(score * 100, 2)} %')"
   ]
  },
  {
   "cell_type": "code",
   "execution_count": 94,
   "metadata": {},
   "outputs": [],
   "source": [
    "x_train = np.vstack(x_train) / 255\n",
    "x_test = np.vstack(x_test) / 255\n",
    "\n",
    "y_train = np.asarray(y_train)\n",
    "y_test = np.asarray(y_test)"
   ]
  },
  {
   "cell_type": "code",
   "execution_count": 167,
   "metadata": {},
   "outputs": [
    {
     "name": "stdout",
     "output_type": "stream",
     "text": [
      "Model: \"sequential_4\"\n",
      "_________________________________________________________________\n",
      "Layer (type)                 Output Shape              Param #   \n",
      "=================================================================\n",
      "dense_12 (Dense)             (None, 64)                147520    \n",
      "_________________________________________________________________\n",
      "dense_13 (Dense)             (None, 32)                2080      \n",
      "_________________________________________________________________\n",
      "dense_14 (Dense)             (None, 7)                 231       \n",
      "=================================================================\n",
      "Total params: 149,831\n",
      "Trainable params: 149,831\n",
      "Non-trainable params: 0\n",
      "_________________________________________________________________\n"
     ]
    }
   ],
   "source": [
    "model = Sequential([Dense(64, activation='relu', input_shape=x_train.shape[1:]),\n",
    "                    Dense(32, activation='relu'),\n",
    "                    Dense(7, activation='softmax')])\n",
    "\n",
    "model.compile(optimizer='adam', loss='sparse_categorical_crossentropy', metrics=['acc'])\n",
    "model.summary()"
   ]
  },
  {
   "cell_type": "code",
   "execution_count": 168,
   "metadata": {},
   "outputs": [
    {
     "name": "stdout",
     "output_type": "stream",
     "text": [
      "Train on 28709 samples, validate on 7178 samples\n",
      "Epoch 1/100\n",
      "28709/28709 [==============================] - 384s 13ms/sample - loss: 1.8321 - acc: 0.2357 - val_loss: 1.8100 - val_acc: 0.2459\n",
      "Epoch 2/100\n",
      "28709/28709 [==============================] - 3s 103us/sample - loss: 1.7998 - acc: 0.2516 - val_loss: 1.7874 - val_acc: 0.2459\n",
      "Epoch 3/100\n",
      "28709/28709 [==============================] - 3s 87us/sample - loss: 1.7752 - acc: 0.2598 - val_loss: 1.7610 - val_acc: 0.2793\n",
      "Epoch 4/100\n",
      "28709/28709 [==============================] - 2s 77us/sample - loss: 1.7461 - acc: 0.2834 - val_loss: 1.7267 - val_acc: 0.2843\n",
      "Epoch 5/100\n",
      "28709/28709 [==============================] - 2s 74us/sample - loss: 1.7169 - acc: 0.3051 - val_loss: 1.6997 - val_acc: 0.3153\n",
      "Epoch 6/100\n",
      "28709/28709 [==============================] - 2s 76us/sample - loss: 1.6947 - acc: 0.3232 - val_loss: 1.6846 - val_acc: 0.3278\n",
      "Epoch 7/100\n",
      "28709/28709 [==============================] - 2s 75us/sample - loss: 1.6799 - acc: 0.3364 - val_loss: 1.6754 - val_acc: 0.3363\n",
      "Epoch 8/100\n",
      "28709/28709 [==============================] - 2s 78us/sample - loss: 1.6706 - acc: 0.3435 - val_loss: 1.6681 - val_acc: 0.3416\n",
      "Epoch 9/100\n",
      "28709/28709 [==============================] - 2s 78us/sample - loss: 1.6609 - acc: 0.3479 - val_loss: 1.6594 - val_acc: 0.3475\n",
      "Epoch 10/100\n",
      "28709/28709 [==============================] - 2s 80us/sample - loss: 1.6568 - acc: 0.3494 - val_loss: 1.6635 - val_acc: 0.3383\n",
      "Epoch 11/100\n",
      "28709/28709 [==============================] - 2s 78us/sample - loss: 1.6508 - acc: 0.3526 - val_loss: 1.6563 - val_acc: 0.3463\n",
      "Epoch 12/100\n",
      "28709/28709 [==============================] - 2s 75us/sample - loss: 1.6487 - acc: 0.3540 - val_loss: 1.6495 - val_acc: 0.3529\n",
      "Epoch 13/100\n",
      "28709/28709 [==============================] - 2s 69us/sample - loss: 1.6430 - acc: 0.3573 - val_loss: 1.6525 - val_acc: 0.3540\n",
      "Epoch 14/100\n",
      "28709/28709 [==============================] - 2s 68us/sample - loss: 1.6410 - acc: 0.3583 - val_loss: 1.6448 - val_acc: 0.3566\n",
      "Epoch 15/100\n",
      "28709/28709 [==============================] - 2s 75us/sample - loss: 1.6392 - acc: 0.3590 - val_loss: 1.6474 - val_acc: 0.3505\n",
      "Epoch 16/100\n",
      "28709/28709 [==============================] - 2s 77us/sample - loss: 1.6358 - acc: 0.3599 - val_loss: 1.6443 - val_acc: 0.3557\n",
      "Epoch 17/100\n",
      "28709/28709 [==============================] - 2s 78us/sample - loss: 1.6325 - acc: 0.3628 - val_loss: 1.6397 - val_acc: 0.3615\n",
      "Epoch 18/100\n",
      "28709/28709 [==============================] - 2s 82us/sample - loss: 1.6308 - acc: 0.3640 - val_loss: 1.6470 - val_acc: 0.3540\n",
      "Epoch 19/100\n",
      "28709/28709 [==============================] - 2s 81us/sample - loss: 1.6293 - acc: 0.3655 - val_loss: 1.6398 - val_acc: 0.3608\n",
      "Epoch 20/100\n",
      "28709/28709 [==============================] - 2s 79us/sample - loss: 1.6250 - acc: 0.3684 - val_loss: 1.6364 - val_acc: 0.3562\n",
      "Epoch 21/100\n",
      "28709/28709 [==============================] - 2s 77us/sample - loss: 1.6219 - acc: 0.3694 - val_loss: 1.6353 - val_acc: 0.3571\n",
      "Epoch 22/100\n",
      "28709/28709 [==============================] - 2s 84us/sample - loss: 1.6196 - acc: 0.3710 - val_loss: 1.6326 - val_acc: 0.3618\n",
      "Epoch 23/100\n",
      "28709/28709 [==============================] - 2s 82us/sample - loss: 1.6195 - acc: 0.3720 - val_loss: 1.6353 - val_acc: 0.3580\n",
      "Epoch 24/100\n",
      "28709/28709 [==============================] - 2s 85us/sample - loss: 1.6162 - acc: 0.3715 - val_loss: 1.6283 - val_acc: 0.3665\n",
      "Epoch 25/100\n",
      "28709/28709 [==============================] - 3s 89us/sample - loss: 1.6130 - acc: 0.3726 - val_loss: 1.6426 - val_acc: 0.3571\n",
      "Epoch 26/100\n",
      "28709/28709 [==============================] - 2s 82us/sample - loss: 1.6122 - acc: 0.3746 - val_loss: 1.6272 - val_acc: 0.3647\n",
      "Epoch 27/100\n",
      "28709/28709 [==============================] - 2s 81us/sample - loss: 1.6093 - acc: 0.3755 - val_loss: 1.6309 - val_acc: 0.3675\n",
      "Epoch 28/100\n",
      "28709/28709 [==============================] - 2s 83us/sample - loss: 1.6069 - acc: 0.3755 - val_loss: 1.6262 - val_acc: 0.3706\n",
      "Epoch 29/100\n",
      "28709/28709 [==============================] - 2s 80us/sample - loss: 1.6054 - acc: 0.3779 - val_loss: 1.6231 - val_acc: 0.3690\n",
      "Epoch 30/100\n",
      "28709/28709 [==============================] - 2s 81us/sample - loss: 1.6048 - acc: 0.3756 - val_loss: 1.6248 - val_acc: 0.3658\n",
      "Epoch 31/100\n",
      "28709/28709 [==============================] - 2s 84us/sample - loss: 1.5996 - acc: 0.3784 - val_loss: 1.6186 - val_acc: 0.3716\n",
      "Epoch 32/100\n",
      "28709/28709 [==============================] - 2s 79us/sample - loss: 1.5982 - acc: 0.3804 - val_loss: 1.6160 - val_acc: 0.3717\n",
      "Epoch 33/100\n",
      "28709/28709 [==============================] - 3s 89us/sample - loss: 1.5960 - acc: 0.3801 - val_loss: 1.6172 - val_acc: 0.3736\n",
      "Epoch 34/100\n",
      "28709/28709 [==============================] - 2s 85us/sample - loss: 1.5931 - acc: 0.3814 - val_loss: 1.6147 - val_acc: 0.3681\n",
      "Epoch 35/100\n",
      "28709/28709 [==============================] - 2s 82us/sample - loss: 1.5907 - acc: 0.3822 - val_loss: 1.6132 - val_acc: 0.3713\n",
      "Epoch 36/100\n",
      "28709/28709 [==============================] - 2s 81us/sample - loss: 1.5873 - acc: 0.3828 - val_loss: 1.6135 - val_acc: 0.3700\n",
      "Epoch 37/100\n",
      "28709/28709 [==============================] - 2s 82us/sample - loss: 1.5844 - acc: 0.3863 - val_loss: 1.6098 - val_acc: 0.3739\n",
      "Epoch 38/100\n",
      "28709/28709 [==============================] - 2s 83us/sample - loss: 1.5824 - acc: 0.3851 - val_loss: 1.6056 - val_acc: 0.3788\n",
      "Epoch 39/100\n",
      "28709/28709 [==============================] - 2s 76us/sample - loss: 1.5818 - acc: 0.3866 - val_loss: 1.6197 - val_acc: 0.3651\n",
      "Epoch 40/100\n",
      "28709/28709 [==============================] - 2s 73us/sample - loss: 1.5813 - acc: 0.3875 - val_loss: 1.6028 - val_acc: 0.3752\n",
      "Epoch 41/100\n",
      "28709/28709 [==============================] - 2s 73us/sample - loss: 1.5760 - acc: 0.3877 - val_loss: 1.6047 - val_acc: 0.3717\n",
      "Epoch 42/100\n",
      "28709/28709 [==============================] - 2s 74us/sample - loss: 1.5738 - acc: 0.3906 - val_loss: 1.6049 - val_acc: 0.3699\n",
      "Epoch 43/100\n",
      "28709/28709 [==============================] - 2s 75us/sample - loss: 1.5721 - acc: 0.3917 - val_loss: 1.6005 - val_acc: 0.3724\n",
      "Epoch 44/100\n",
      "28709/28709 [==============================] - 2s 74us/sample - loss: 1.5689 - acc: 0.3917 - val_loss: 1.6010 - val_acc: 0.3759\n",
      "Epoch 45/100\n",
      "28709/28709 [==============================] - 2s 74us/sample - loss: 1.5675 - acc: 0.3937 - val_loss: 1.6018 - val_acc: 0.3742\n",
      "Epoch 46/100\n",
      "28709/28709 [==============================] - 2s 74us/sample - loss: 1.5655 - acc: 0.3933 - val_loss: 1.5959 - val_acc: 0.3787\n",
      "Epoch 47/100\n",
      "28709/28709 [==============================] - 2s 75us/sample - loss: 1.5623 - acc: 0.3949 - val_loss: 1.5984 - val_acc: 0.3778\n",
      "Epoch 48/100\n",
      "28709/28709 [==============================] - 2s 80us/sample - loss: 1.5618 - acc: 0.3949 - val_loss: 1.6001 - val_acc: 0.3787\n",
      "Epoch 49/100\n",
      "28709/28709 [==============================] - 2s 75us/sample - loss: 1.5601 - acc: 0.3962 - val_loss: 1.5916 - val_acc: 0.3798\n",
      "Epoch 50/100\n",
      "28709/28709 [==============================] - 2s 74us/sample - loss: 1.5580 - acc: 0.3955 - val_loss: 1.5904 - val_acc: 0.3760\n",
      "Epoch 51/100\n",
      "28709/28709 [==============================] - 2s 74us/sample - loss: 1.5549 - acc: 0.3970 - val_loss: 1.5884 - val_acc: 0.3778\n",
      "Epoch 52/100\n",
      "28709/28709 [==============================] - 2s 74us/sample - loss: 1.5536 - acc: 0.3969 - val_loss: 1.5970 - val_acc: 0.3679\n",
      "Epoch 53/100\n",
      "28709/28709 [==============================] - 2s 75us/sample - loss: 1.5514 - acc: 0.4013 - val_loss: 1.6036 - val_acc: 0.3683\n",
      "Epoch 54/100\n",
      "28709/28709 [==============================] - 2s 77us/sample - loss: 1.5522 - acc: 0.3987 - val_loss: 1.5829 - val_acc: 0.3855\n",
      "Epoch 55/100\n",
      "28709/28709 [==============================] - 2s 77us/sample - loss: 1.5477 - acc: 0.4005 - val_loss: 1.5867 - val_acc: 0.3821\n",
      "Epoch 56/100\n",
      "28709/28709 [==============================] - 2s 76us/sample - loss: 1.5464 - acc: 0.4023 - val_loss: 1.5847 - val_acc: 0.3766\n",
      "Epoch 57/100\n",
      "28709/28709 [==============================] - 2s 76us/sample - loss: 1.5451 - acc: 0.4029 - val_loss: 1.5795 - val_acc: 0.3866\n",
      "Epoch 58/100\n",
      "28709/28709 [==============================] - 2s 78us/sample - loss: 1.5419 - acc: 0.4044 - val_loss: 1.5809 - val_acc: 0.3848\n"
     ]
    },
    {
     "name": "stdout",
     "output_type": "stream",
     "text": [
      "Epoch 59/100\n",
      "28709/28709 [==============================] - 2s 72us/sample - loss: 1.5399 - acc: 0.4046 - val_loss: 1.5783 - val_acc: 0.3845\n",
      "Epoch 60/100\n",
      "28709/28709 [==============================] - 2s 72us/sample - loss: 1.5387 - acc: 0.4037 - val_loss: 1.5764 - val_acc: 0.3874\n",
      "Epoch 61/100\n",
      "28709/28709 [==============================] - 2s 82us/sample - loss: 1.5361 - acc: 0.4085 - val_loss: 1.5754 - val_acc: 0.3858\n",
      "Epoch 62/100\n",
      "28709/28709 [==============================] - 2s 80us/sample - loss: 1.5344 - acc: 0.4058 - val_loss: 1.5747 - val_acc: 0.3852\n",
      "Epoch 63/100\n",
      "28709/28709 [==============================] - 2s 81us/sample - loss: 1.5334 - acc: 0.4071 - val_loss: 1.5804 - val_acc: 0.3830\n",
      "Epoch 64/100\n",
      "28709/28709 [==============================] - 2s 78us/sample - loss: 1.5325 - acc: 0.4099 - val_loss: 1.5766 - val_acc: 0.3820\n",
      "Epoch 65/100\n",
      "28709/28709 [==============================] - 2s 78us/sample - loss: 1.5302 - acc: 0.4088 - val_loss: 1.5806 - val_acc: 0.3877\n"
     ]
    }
   ],
   "source": [
    "stop = EarlyStopping(monitor='val_loss', patience=3, restore_best_weights=True)\n",
    "\n",
    "history = model.fit(x_train,\n",
    "          y_train,\n",
    "          validation_data=(x_test, y_test),\n",
    "          epochs=100,\n",
    "          batch_size=128,\n",
    "          callbacks=[stop])"
   ]
  },
  {
   "cell_type": "code",
   "execution_count": 169,
   "metadata": {},
   "outputs": [
    {
     "data": {
      "text/plain": [
       "[1.5747044135946922, 0.3852048]"
      ]
     },
     "execution_count": 169,
     "metadata": {},
     "output_type": "execute_result"
    }
   ],
   "source": [
    "model.evaluate(x_test, y_test, verbose=0)"
   ]
  },
  {
   "cell_type": "code",
   "execution_count": 171,
   "metadata": {},
   "outputs": [
    {
     "data": {
      "image/png": "[encoded data removed]",
      "text/plain": [
       "<Figure size 432x288 with 1 Axes>"
      ]
     },
     "metadata": {
      "needs_background": "light"
     },
     "output_type": "display_data"
    },
    {
     "data": {
      "image/png": "[encoded data removed]",
      "text/plain": [
       "<Figure size 432x288 with 1 Axes>"
      ]
     },
     "metadata": {
      "needs_background": "light"
     },
     "output_type": "display_data"
    }
   ],
   "source": [
    "plt.plot(history.history['loss'], label='training')\n",
    "plt.plot(history.history['val_loss'], label='validation')\n",
    "plt.legend()\n",
    "plt.title('Loss')\n",
    "plt.show()\n",
    "\n",
    "plt.plot(history.history['acc'], label='training')\n",
    "plt.plot(history.history['val_acc'], label='validation')\n",
    "plt.legend()\n",
    "plt.title('Accuracy')\n",
    "plt.show()"
   ]
  },
  {
   "cell_type": "code",
   "execution_count": 180,
   "metadata": {},
   "outputs": [],
   "source": [
    "def tryRandomExample():\n",
    "    index = np.random.randint(0, x_test.shape[0])\n",
    "    img = x_test[index]\n",
    "    img = img.reshape(1, -1)\n",
    "    pred = model.predict(img)\n",
    "    best = np.argmax(pred[0])\n",
    "    \n",
    "    n = int(np.sqrt(img.shape[1]))\n",
    "    plt.imshow(img[0].reshape(n, n), cmap='gray')\n",
    "    print(classes[best] == classes[y_test[index]])\n",
    "    print(f'Predicted label: {classes[best]}\\nConfidence: {round(pred[0][best] * 100, 2)} %')\n",
    "    print(f'Actual label: {classes[y_test[index]]}')\n",
    "    \n",
    "    "
   ]
  },
  {
   "cell_type": "code",
   "execution_count": 194,
   "metadata": {},
   "outputs": [
    {
     "name": "stdout",
     "output_type": "stream",
     "text": [
      "True\n",
      "Predicted label: Happy\n",
      "Confidence: 75.79 %\n",
      "Actual label: Happy\n"
     ]
    },
    {
     "data": {
      "image/png": "[encoded data removed]",
      "text/plain": [
       "<Figure size 432x288 with 1 Axes>"
      ]
     },
     "metadata": {
      "needs_background": "light"
     },
     "output_type": "display_data"
    }
   ],
   "source": [
    "tryRandomExample()"
   ]
  },
  {
   "cell_type": "code",
   "execution_count": null,
   "metadata": {},
   "outputs": [],
   "source": []
  }
 ],
 "metadata": {
  "kernelspec": {
   "display_name": "Python 3",
   "language": "python",
   "name": "python3"
  },
  "language_info": {
   "codemirror_mode": {
    "name": "ipython",
    "version": 3
   },
   "file_extension": ".py",
   "mimetype": "text/x-python",
   "name": "python",
   "nbconvert_exporter": "python",
   "pygments_lexer": "ipython3",
   "version": "3.7.4"
  }
 },
 "nbformat": 4,
 "nbformat_minor": 2
}
