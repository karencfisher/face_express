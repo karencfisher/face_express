{
  "nbformat": 4,
  "nbformat_minor": 0,
  "metadata": {
    "kernelspec": {
      "display_name": "Python 3",
      "language": "python",
      "name": "python3"
    },
    "language_info": {
      "codemirror_mode": {
        "name": "ipython",
        "version": 3
      },
      "file_extension": ".py",
      "mimetype": "text/x-python",
      "name": "python",
      "nbconvert_exporter": "python",
      "pygments_lexer": "ipython3",
      "version": "3.7.4"
    },
    "colab": {
      "name": "conv_model2.ipynb",
      "provenance": [],
      "collapsed_sections": [],
      "include_colab_link": true
    },
    "accelerator": "GPU"
  },
  "cells": [
    {
      "cell_type": "markdown",
      "metadata": {
        "id": "view-in-github",
        "colab_type": "text"
      },
      "source": [
        "<a href=\"https://colab.research.google.com/github/karencfisher/face_express/blob/main/notebooks/conv_model2.ipynb\" target=\"_parent\"><img src=\"https://colab.research.google.com/assets/colab-badge.svg\" alt=\"Open In Colab\"/></a>"
      ]
    },
    {
      "cell_type": "code",
      "metadata": {
        "id": "xy88CA3WbaOM"
      },
      "source": [
        "import pandas as pd\n",
        "import matplotlib.pyplot as plt\n",
        "import numpy as np\n",
        "import plotly.express as px"
      ],
      "execution_count": null,
      "outputs": []
    },
    {
      "cell_type": "markdown",
      "metadata": {
        "id": "PbEb88tXCG74"
      },
      "source": [
        "Google drive will be used to save model checkpoints and such."
      ]
    },
    {
      "cell_type": "code",
      "metadata": {
        "id": "2R3m8u1pbmca",
        "colab": {
          "base_uri": "https://localhost:8080/"
        },
        "outputId": "018cb143-677f-42eb-e16e-99c8201a8e4e"
      },
      "source": [
        "from google.colab import drive\n",
        "drive.mount('/content/drive')"
      ],
      "execution_count": null,
      "outputs": [
        {
          "output_type": "stream",
          "text": [
            "Mounted at /content/drive\n"
          ],
          "name": "stdout"
        }
      ]
    },
    {
      "cell_type": "markdown",
      "metadata": {
        "id": "72llM-VzB57v"
      },
      "source": [
        "Download the FER2013 dataset from my github"
      ]
    },
    {
      "cell_type": "code",
      "metadata": {
        "colab": {
          "base_uri": "https://localhost:8080/"
        },
        "id": "v4p3j-BS-Soo",
        "outputId": "ae766583-e9bf-4d15-b428-784ec3bffd2c"
      },
      "source": [
        "!wget https://github.com/karencfisher/face_express/raw/main/data/icml_face_data.csv.zip\n",
        "!unzip icml_face_data.csv.zip"
      ],
      "execution_count": null,
      "outputs": [
        {
          "output_type": "stream",
          "text": [
            "--2020-12-04 22:58:42--  https://github.com/karencfisher/face_express/raw/main/data/icml_face_data.csv.zip\n",
            "Resolving github.com (github.com)... 140.82.113.3\n",
            "Connecting to github.com (github.com)|140.82.113.3|:443... connected.\n",
            "HTTP request sent, awaiting response... 302 Found\n",
            "Location: https://raw.githubusercontent.com/karencfisher/face_express/main/data/icml_face_data.csv.zip [following]\n",
            "--2020-12-04 22:58:43--  https://raw.githubusercontent.com/karencfisher/face_express/main/data/icml_face_data.csv.zip\n",
            "Resolving raw.githubusercontent.com (raw.githubusercontent.com)... 151.101.0.133, 151.101.64.133, 151.101.128.133, ...\n",
            "Connecting to raw.githubusercontent.com (raw.githubusercontent.com)|151.101.0.133|:443... connected.\n",
            "HTTP request sent, awaiting response... 200 OK\n",
            "Length: 101281681 (97M) [application/zip]\n",
            "Saving to: ‘icml_face_data.csv.zip’\n",
            "\n",
            "icml_face_data.csv. 100%[===================>]  96.59M   349MB/s    in 0.3s    \n",
            "\n",
            "2020-12-04 22:58:44 (349 MB/s) - ‘icml_face_data.csv.zip’ saved [101281681/101281681]\n",
            "\n",
            "Archive:  icml_face_data.csv.zip\n",
            "  inflating: icml_face_data.csv      \n"
          ],
          "name": "stdout"
        }
      ]
    },
    {
      "cell_type": "markdown",
      "metadata": {
        "id": "rCMwaOrxohl3"
      },
      "source": [
        "Data is from https://www.kaggle.com/c/challenges-in-representation-learning-facial-expression-recognition-challenge/data\n",
        "\n",
        "The ```icml_face_data.csv``` dataset which contains a total of 34034 samples. It contains 3 columns. The target label is an integer (0, 6), the seven basic emtions:\n",
        "\n",
        "```\n",
        "['Angry', 'Disgust', 'Fear', 'Happy', 'Sad', 'Surprise', 'Neutral']\n",
        "```\n",
        "\n",
        "The images are stored in the 'pixels' column, as a string of 2304 integer values (0, 255) separated by spaces. These will need be coverted into an array of integer values. Subsequently, they will be needs reshaped into 3-d numpy arrays to be input to the CNN.\n",
        "\n"
      ]
    },
    {
      "cell_type": "code",
      "metadata": {
        "id": "GLi-lS_wbaOh"
      },
      "source": [
        "def loadCleanData(fname):\n",
        "    df = pd.read_csv(fname)\n",
        "    \n",
        "    # regularize capitalization and remove leading space in column headings\n",
        "    fix_cols = {s : s.lower().strip() for s in df.columns.to_list()}\n",
        "    df.rename(columns = fix_cols, inplace=True)\n",
        "    \n",
        "    # convert pixels from strings to lists of integers\n",
        "    df['pixels'] = df['pixels'].apply(lambda x: [int(i) for i in x.split()])\n",
        "    \n",
        "    # Not using the 'usage' column, so can be dropped\n",
        "    df.drop('usage', axis=1, inplace=True)\n",
        "    \n",
        "    return df"
      ],
      "execution_count": null,
      "outputs": []
    },
    {
      "cell_type": "code",
      "metadata": {
        "id": "Z2RreP2kbaOn",
        "colab": {
          "base_uri": "https://localhost:8080/",
          "height": 197
        },
        "outputId": "8a129c04-4b3d-4f26-985e-e0afc85cda2a"
      },
      "source": [
        "df = loadCleanData('icml_face_data.csv')\n",
        "df.head()"
      ],
      "execution_count": null,
      "outputs": [
        {
          "output_type": "execute_result",
          "data": {
            "text/html": [
              "<div>\n",
              "<style scoped>\n",
              "    .dataframe tbody tr th:only-of-type {\n",
              "        vertical-align: middle;\n",
              "    }\n",
              "\n",
              "    .dataframe tbody tr th {\n",
              "        vertical-align: top;\n",
              "    }\n",
              "\n",
              "    .dataframe thead th {\n",
              "        text-align: right;\n",
              "    }\n",
              "</style>\n",
              "<table border=\"1\" class=\"dataframe\">\n",
              "  <thead>\n",
              "    <tr style=\"text-align: right;\">\n",
              "      <th></th>\n",
              "      <th>emotion</th>\n",
              "      <th>pixels</th>\n",
              "    </tr>\n",
              "  </thead>\n",
              "  <tbody>\n",
              "    <tr>\n",
              "      <th>0</th>\n",
              "      <td>0</td>\n",
              "      <td>[70, 80, 82, 72, 58, 58, 60, 63, 54, 58, 60, 4...</td>\n",
              "    </tr>\n",
              "    <tr>\n",
              "      <th>1</th>\n",
              "      <td>0</td>\n",
              "      <td>[151, 150, 147, 155, 148, 133, 111, 140, 170, ...</td>\n",
              "    </tr>\n",
              "    <tr>\n",
              "      <th>2</th>\n",
              "      <td>2</td>\n",
              "      <td>[231, 212, 156, 164, 174, 138, 161, 173, 182, ...</td>\n",
              "    </tr>\n",
              "    <tr>\n",
              "      <th>3</th>\n",
              "      <td>4</td>\n",
              "      <td>[24, 32, 36, 30, 32, 23, 19, 20, 30, 41, 21, 2...</td>\n",
              "    </tr>\n",
              "    <tr>\n",
              "      <th>4</th>\n",
              "      <td>6</td>\n",
              "      <td>[4, 0, 0, 0, 0, 0, 0, 0, 0, 0, 0, 0, 3, 15, 23...</td>\n",
              "    </tr>\n",
              "  </tbody>\n",
              "</table>\n",
              "</div>"
            ],
            "text/plain": [
              "   emotion                                             pixels\n",
              "0        0  [70, 80, 82, 72, 58, 58, 60, 63, 54, 58, 60, 4...\n",
              "1        0  [151, 150, 147, 155, 148, 133, 111, 140, 170, ...\n",
              "2        2  [231, 212, 156, 164, 174, 138, 161, 173, 182, ...\n",
              "3        4  [24, 32, 36, 30, 32, 23, 19, 20, 30, 41, 21, 2...\n",
              "4        6  [4, 0, 0, 0, 0, 0, 0, 0, 0, 0, 0, 0, 3, 15, 23..."
            ]
          },
          "metadata": {
            "tags": []
          },
          "execution_count": 10
        }
      ]
    },
    {
      "cell_type": "code",
      "metadata": {
        "id": "XNPOPANPbaOu"
      },
      "source": [
        "classes = ['Angry', 'Disgust', 'Fear', 'Happy', 'Sad', 'Surprise', 'Neutral']"
      ],
      "execution_count": null,
      "outputs": []
    },
    {
      "cell_type": "markdown",
      "metadata": {
        "id": "3SzN3taU2XlZ"
      },
      "source": [
        "There is some imbalance in the target classes. 'Happy' is by far the majority class; 'Disgust' is very under-represented. "
      ]
    },
    {
      "cell_type": "code",
      "metadata": {
        "id": "2fL6voPAbaQC",
        "colab": {
          "base_uri": "https://localhost:8080/",
          "height": 445
        },
        "outputId": "fb931371-9b25-4d9b-95b6-89a41e54a972"
      },
      "source": [
        "fig1 = plt.figure(figsize=(9, 7))\n",
        "plt.bar(classes, df['emotion'].value_counts().sort_index())"
      ],
      "execution_count": null,
      "outputs": [
        {
          "output_type": "execute_result",
          "data": {
            "text/plain": [
              "<BarContainer object of 7 artists>"
            ]
          },
          "metadata": {
            "tags": []
          },
          "execution_count": 7
        },
        {
          "output_type": "display_data",
          "data": {
            "image/png": "[encoded data removed]",
            "text/plain": [
              "<Figure size 648x504 with 1 Axes>"
            ]
          },
          "metadata": {
            "tags": [],
            "needs_background": "light"
          }
        }
      ]
    },
    {
      "cell_type": "code",
      "metadata": {
        "id": "PCnoZab8iW03"
      },
      "source": [
        "fig1.savefig('classes.jpg')"
      ],
      "execution_count": null,
      "outputs": []
    },
    {
      "cell_type": "markdown",
      "metadata": {
        "id": "dKgnPBIN2nrg"
      },
      "source": [
        "Look at a randomly selected example."
      ]
    },
    {
      "cell_type": "code",
      "metadata": {
        "id": "aao0nG5IbaOz"
      },
      "source": [
        "def displayImage(df, classes):\n",
        "    index = np.random.randint(0, df.shape[0])\n",
        "    img = np.array(df.iloc[index]['pixels'])\n",
        "    n = int(np.sqrt(len(df.iloc[0]['pixels'])))\n",
        "    img = img.reshape(n, n)\n",
        "    \n",
        "    fig = plt.figure(figsize=(5, 5))\n",
        "    plt.imshow(img, cmap='gray')\n",
        "    plt.xlabel(classes[df.iloc[index]['emotion']])\n",
        "    plt.show()\n",
        "    return fig\n",
        "    "
      ],
      "execution_count": null,
      "outputs": []
    },
    {
      "cell_type": "code",
      "metadata": {
        "id": "J5AtqEJKbaO6",
        "colab": {
          "base_uri": "https://localhost:8080/",
          "height": 334
        },
        "outputId": "f6a4539f-20d0-46d1-ad6c-ae7b22eaffba"
      },
      "source": [
        "fig = displayImage(df, classes)"
      ],
      "execution_count": null,
      "outputs": [
        {
          "output_type": "display_data",
          "data": {
            "image/png": "[encoded data removed]",
            "text/plain": [
              "<Figure size 360x360 with 1 Axes>"
            ]
          },
          "metadata": {
            "tags": [],
            "needs_background": "light"
          }
        }
      ]
    },
    {
      "cell_type": "code",
      "metadata": {
        "id": "cp0Xt1AQDlfG"
      },
      "source": [
        "fig.savefig('ambiguous.jpg')"
      ],
      "execution_count": null,
      "outputs": []
    },
    {
      "cell_type": "code",
      "metadata": {
        "id": "9he-0Tk1baO-"
      },
      "source": [
        "from sklearn.model_selection import train_test_split\n",
        "from sklearn.metrics import accuracy_score\n",
        "from sklearn.dummy import DummyClassifier\n",
        "from sklearn.utils.class_weight import compute_class_weight\n",
        "\n",
        "from tensorflow.keras.layers import Dense, Dropout, Conv2D, MaxPool2D, Flatten, BatchNormalization\n",
        "from tensorflow.keras.models import Sequential\n",
        "from tensorflow.keras.callbacks import EarlyStopping, ModelCheckpoint, ReduceLROnPlateau\n",
        "from keras.regularizers import l2"
      ],
      "execution_count": null,
      "outputs": []
    },
    {
      "cell_type": "markdown",
      "metadata": {
        "id": "9LIio7bk27iH"
      },
      "source": [
        "Split into training and testing sets."
      ]
    },
    {
      "cell_type": "code",
      "metadata": {
        "id": "fjNHcAfDbaPC",
        "colab": {
          "base_uri": "https://localhost:8080/"
        },
        "outputId": "9ede565a-c031-47ad-9a35-24e59f9ea145"
      },
      "source": [
        "x_train, x_test, y_train, y_test = train_test_split(df['pixels'],\n",
        "                                                    df['emotion'],\n",
        "                                                    test_size=0.2,\n",
        "                                                    random_state=42)\n",
        "\n",
        "x_train.shape, x_test.shape, y_train.shape, y_test.shape"
      ],
      "execution_count": null,
      "outputs": [
        {
          "output_type": "execute_result",
          "data": {
            "text/plain": [
              "((28709,), (7178,), (28709,), (7178,))"
            ]
          },
          "metadata": {
            "tags": []
          },
          "execution_count": 11
        }
      ]
    },
    {
      "cell_type": "markdown",
      "metadata": {
        "id": "pdmHkLVc2_-_"
      },
      "source": [
        "Base model: guessing the classification purely by chance. "
      ]
    },
    {
      "cell_type": "code",
      "metadata": {
        "id": "EHGIjBBEbaPI",
        "colab": {
          "base_uri": "https://localhost:8080/"
        },
        "outputId": "ac1e5d26-815c-4476-f95e-5a77036acea8"
      },
      "source": [
        "clf = DummyClassifier()\n",
        "clf.fit(x_train, y_train)\n",
        "score = clf.score(x_test, y_test)\n",
        "print(f'Total baseline = {round(score * 100, 2)} %')"
      ],
      "execution_count": null,
      "outputs": [
        {
          "output_type": "stream",
          "text": [
            "Total baseline = 17.01 %\n"
          ],
          "name": "stdout"
        },
        {
          "output_type": "stream",
          "text": [
            "/usr/local/lib/python3.6/dist-packages/sklearn/dummy.py:132: FutureWarning:\n",
            "\n",
            "The default value of strategy will change from stratified to prior in 0.24.\n",
            "\n"
          ],
          "name": "stderr"
        }
      ]
    },
    {
      "cell_type": "markdown",
      "metadata": {
        "id": "IkYz5WhC5FQU"
      },
      "source": [
        "Normalize the image data to in range (0, 1). We will also first have to transform lists of integers to a 2-d numpy array, and then reshape that into the 4-d array (m, h, w, c) as neede by the convolutional layers."
      ]
    },
    {
      "cell_type": "code",
      "metadata": {
        "id": "DIg9c-U5baPM"
      },
      "source": [
        "# transform lists of integers into numpy arrays, and normalize the values\n",
        "x_train = np.vstack(x_train) / 255\n",
        "x_test = np.vstack(x_test) / 255\n",
        "\n",
        "# reshape arrays into (m, h, w, c). As they are square, we can get the height\n",
        "# and width values as a square root of the length the original 1-d array.\n",
        "n = int(np.sqrt(x_train.shape[1]))\n",
        "x_train = x_train.reshape(x_train.shape[0], n, n, 1)\n",
        "x_test = x_test.reshape(x_test.shape[0], n, n, 1)\n",
        "\n",
        "# Convert the pandas series of target classes to numpy array\n",
        "y_train = np.asarray(y_train)\n",
        "y_test = np.asarray(y_test)"
      ],
      "execution_count": null,
      "outputs": []
    },
    {
      "cell_type": "code",
      "metadata": {
        "id": "HZ_sWxw8baPP",
        "colab": {
          "base_uri": "https://localhost:8080/"
        },
        "outputId": "63a9796e-fea5-4b4f-d7ec-3688cc101f98"
      },
      "source": [
        "x_train.shape"
      ],
      "execution_count": null,
      "outputs": [
        {
          "output_type": "execute_result",
          "data": {
            "text/plain": [
              "(28709, 48, 48, 1)"
            ]
          },
          "metadata": {
            "tags": []
          },
          "execution_count": 13
        }
      ]
    },
    {
      "cell_type": "markdown",
      "metadata": {
        "id": "99N8_I796PSI"
      },
      "source": [
        "Build the convolutional model. Inspired by VGG Net.\n",
        "\n",
        "https://colab.research.google.com/drive/1XiJ-sa5Kg324mpq_XG_JMWOlfj_DvZFv\n",
        "\n"
      ]
    },
    {
      "cell_type": "code",
      "metadata": {
        "id": "GC3j39FabaPT",
        "colab": {
          "base_uri": "https://localhost:8080/"
        },
        "outputId": "fea80823-fa84-420c-f3fe-c13c7c097f97"
      },
      "source": [
        "model = Sequential([Conv2D(64, (3, 3), input_shape=x_train.shape[1:], activation='relu'),\n",
        "                    BatchNormalization(),\n",
        "                    Conv2D(64, (3, 3), padding='same', activation='relu'),\n",
        "                    BatchNormalization(),\n",
        "                    MaxPool2D((3, 3), strides=(2, 2)),\n",
        "                    Dropout(0.3),\n",
        "                    \n",
        "                    Conv2D(128, (3, 3), padding='same', activation='relu'),\n",
        "                    BatchNormalization(),\n",
        "                    Conv2D(128, (3, 3), padding='same', activation='relu'),\n",
        "                    BatchNormalization(),\n",
        "                    MaxPool2D((3, 3), strides=(2, 2)),\n",
        "                    Dropout(0.3),\n",
        "                    \n",
        "                    Conv2D(256, (3, 3), padding='same', activation='relu'),\n",
        "                    BatchNormalization(),\n",
        "                    Conv2D(256, (3, 3), padding='same', activation='relu'),\n",
        "                    BatchNormalization(),\n",
        "                    MaxPool2D((3, 3), strides=(2, 2)),\n",
        "                    Dropout(0.3),\n",
        "                    \n",
        "                    Conv2D(512, (3, 3), padding='same', activation='relu'),\n",
        "                    BatchNormalization(),\n",
        "                    Conv2D(512, (3, 3), padding='same', activation='relu'),\n",
        "                    BatchNormalization(),\n",
        "                    MaxPool2D((2, 2), strides=(2, 2)),\n",
        "                    Dropout(0.3),\n",
        "                    \n",
        "                    Flatten(),\n",
        "                    Dense(1024, activation='relu'),\n",
        "                    Dropout(0.3),\n",
        "                    Dense(256, activation='relu'),\n",
        "                    Dropout(0.3),\n",
        "                    Dense(64, activation='relu'),\n",
        "                    Dropout(0.3),\n",
        "                    Dense(7, activation='softmax')])\n",
        "\n",
        "model.compile(optimizer='adam', loss='sparse_categorical_crossentropy', metrics=['acc'])\n",
        "model.summary()"
      ],
      "execution_count": null,
      "outputs": [
        {
          "output_type": "stream",
          "text": [
            "Model: \"sequential_1\"\n",
            "_________________________________________________________________\n",
            "Layer (type)                 Output Shape              Param #   \n",
            "=================================================================\n",
            "conv2d_8 (Conv2D)            (None, 46, 46, 64)        640       \n",
            "_________________________________________________________________\n",
            "batch_normalization_8 (Batch (None, 46, 46, 64)        256       \n",
            "_________________________________________________________________\n",
            "conv2d_9 (Conv2D)            (None, 46, 46, 64)        36928     \n",
            "_________________________________________________________________\n",
            "batch_normalization_9 (Batch (None, 46, 46, 64)        256       \n",
            "_________________________________________________________________\n",
            "max_pooling2d_4 (MaxPooling2 (None, 22, 22, 64)        0         \n",
            "_________________________________________________________________\n",
            "dropout_7 (Dropout)          (None, 22, 22, 64)        0         \n",
            "_________________________________________________________________\n",
            "conv2d_10 (Conv2D)           (None, 22, 22, 128)       73856     \n",
            "_________________________________________________________________\n",
            "batch_normalization_10 (Batc (None, 22, 22, 128)       512       \n",
            "_________________________________________________________________\n",
            "conv2d_11 (Conv2D)           (None, 22, 22, 128)       147584    \n",
            "_________________________________________________________________\n",
            "batch_normalization_11 (Batc (None, 22, 22, 128)       512       \n",
            "_________________________________________________________________\n",
            "max_pooling2d_5 (MaxPooling2 (None, 10, 10, 128)       0         \n",
            "_________________________________________________________________\n",
            "dropout_8 (Dropout)          (None, 10, 10, 128)       0         \n",
            "_________________________________________________________________\n",
            "conv2d_12 (Conv2D)           (None, 10, 10, 256)       295168    \n",
            "_________________________________________________________________\n",
            "batch_normalization_12 (Batc (None, 10, 10, 256)       1024      \n",
            "_________________________________________________________________\n",
            "conv2d_13 (Conv2D)           (None, 10, 10, 256)       590080    \n",
            "_________________________________________________________________\n",
            "batch_normalization_13 (Batc (None, 10, 10, 256)       1024      \n",
            "_________________________________________________________________\n",
            "max_pooling2d_6 (MaxPooling2 (None, 4, 4, 256)         0         \n",
            "_________________________________________________________________\n",
            "dropout_9 (Dropout)          (None, 4, 4, 256)         0         \n",
            "_________________________________________________________________\n",
            "conv2d_14 (Conv2D)           (None, 4, 4, 512)         1180160   \n",
            "_________________________________________________________________\n",
            "batch_normalization_14 (Batc (None, 4, 4, 512)         2048      \n",
            "_________________________________________________________________\n",
            "conv2d_15 (Conv2D)           (None, 4, 4, 512)         2359808   \n",
            "_________________________________________________________________\n",
            "batch_normalization_15 (Batc (None, 4, 4, 512)         2048      \n",
            "_________________________________________________________________\n",
            "max_pooling2d_7 (MaxPooling2 (None, 2, 2, 512)         0         \n",
            "_________________________________________________________________\n",
            "dropout_10 (Dropout)         (None, 2, 2, 512)         0         \n",
            "_________________________________________________________________\n",
            "flatten_1 (Flatten)          (None, 2048)              0         \n",
            "_________________________________________________________________\n",
            "dense_4 (Dense)              (None, 1024)              2098176   \n",
            "_________________________________________________________________\n",
            "dropout_11 (Dropout)         (None, 1024)              0         \n",
            "_________________________________________________________________\n",
            "dense_5 (Dense)              (None, 256)               262400    \n",
            "_________________________________________________________________\n",
            "dropout_12 (Dropout)         (None, 256)               0         \n",
            "_________________________________________________________________\n",
            "dense_6 (Dense)              (None, 64)                16448     \n",
            "_________________________________________________________________\n",
            "dropout_13 (Dropout)         (None, 64)                0         \n",
            "_________________________________________________________________\n",
            "dense_7 (Dense)              (None, 7)                 455       \n",
            "=================================================================\n",
            "Total params: 7,069,383\n",
            "Trainable params: 7,065,543\n",
            "Non-trainable params: 3,840\n",
            "_________________________________________________________________\n"
          ],
          "name": "stdout"
        }
      ]
    },
    {
      "cell_type": "markdown",
      "metadata": {
        "id": "tmYbhG-W6bsJ"
      },
      "source": [
        "To address the imbalance in some of the classes, we will try a couple of approaches to calculate the class weights. The second seemed to be more effective."
      ]
    },
    {
      "cell_type": "markdown",
      "metadata": {
        "id": "q22lprlB7EeX"
      },
      "source": [
        "Training the model. Employ also early stopping and model checkpoint"
      ]
    },
    {
      "cell_type": "code",
      "metadata": {
        "id": "-EYeydIkbaPX",
        "colab": {
          "base_uri": "https://localhost:8080/"
        },
        "outputId": "222eb8a2-70da-4535-fad0-e86e86e0df4e"
      },
      "source": [
        "stop = EarlyStopping(monitor='val_acc', patience=5, restore_best_weights=True)\n",
        "\n",
        "checkpoint = ModelCheckpoint('/content/drive/MyDrive/face express data/weights.h5', \n",
        "                             monitor='val_acc', save_best_only=True, \n",
        "                             save_weights_only=True)\n",
        "\n",
        "reduce_lr = ReduceLROnPlateau(monitor='val_loss', factor=0.9, patience=5)\n",
        "\n",
        "history = model.fit(x_train,\n",
        "          y_train,\n",
        "          validation_data=(x_test, y_test),\n",
        "          epochs=100,\n",
        "          batch_size=128,\n",
        "          callbacks=[stop, checkpoint, reduce_lr])"
      ],
      "execution_count": null,
      "outputs": [
        {
          "output_type": "stream",
          "text": [
            "Epoch 1/100\n",
            "  2/225 [..............................] - ETA: 10s - loss: 3.4457 - acc: 0.1602WARNING:tensorflow:Callbacks method `on_train_batch_end` is slow compared to the batch time (batch time: 0.0361s vs `on_train_batch_end` time: 0.0601s). Check your callbacks.\n",
            "225/225 [==============================] - 18s 79ms/step - loss: 1.8848 - acc: 0.2369 - val_loss: 2.0234 - val_acc: 0.2459\n",
            "Epoch 2/100\n",
            "225/225 [==============================] - 17s 76ms/step - loss: 1.6354 - acc: 0.3458 - val_loss: 1.8941 - val_acc: 0.2090\n",
            "Epoch 3/100\n",
            "225/225 [==============================] - 17s 77ms/step - loss: 1.4659 - acc: 0.4255 - val_loss: 1.5368 - val_acc: 0.4042\n",
            "Epoch 4/100\n",
            "225/225 [==============================] - 17s 76ms/step - loss: 1.3603 - acc: 0.4747 - val_loss: 1.3648 - val_acc: 0.4877\n",
            "Epoch 5/100\n",
            "225/225 [==============================] - 17s 74ms/step - loss: 1.2957 - acc: 0.5078 - val_loss: 1.4420 - val_acc: 0.4391\n",
            "Epoch 6/100\n",
            "225/225 [==============================] - 17s 77ms/step - loss: 1.2434 - acc: 0.5284 - val_loss: 1.1842 - val_acc: 0.5467\n",
            "Epoch 7/100\n",
            "225/225 [==============================] - 17s 75ms/step - loss: 1.1976 - acc: 0.5557 - val_loss: 1.3788 - val_acc: 0.4923\n",
            "Epoch 8/100\n",
            "225/225 [==============================] - 17s 77ms/step - loss: 1.1523 - acc: 0.5736 - val_loss: 1.1878 - val_acc: 0.5623\n",
            "Epoch 9/100\n",
            "225/225 [==============================] - 17s 76ms/step - loss: 1.1084 - acc: 0.5886 - val_loss: 1.1904 - val_acc: 0.5644\n",
            "Epoch 10/100\n",
            "225/225 [==============================] - 17s 76ms/step - loss: 1.0728 - acc: 0.6036 - val_loss: 1.1044 - val_acc: 0.5914\n",
            "Epoch 11/100\n",
            "225/225 [==============================] - 17s 74ms/step - loss: 1.0508 - acc: 0.6158 - val_loss: 1.1947 - val_acc: 0.5626\n",
            "Epoch 12/100\n",
            "225/225 [==============================] - 17s 75ms/step - loss: 0.9975 - acc: 0.6354 - val_loss: 1.1280 - val_acc: 0.5903\n",
            "Epoch 13/100\n",
            "225/225 [==============================] - 17s 77ms/step - loss: 0.9589 - acc: 0.6517 - val_loss: 1.1188 - val_acc: 0.5943\n",
            "Epoch 14/100\n",
            "225/225 [==============================] - 17s 76ms/step - loss: 0.9277 - acc: 0.6644 - val_loss: 1.1096 - val_acc: 0.6042\n",
            "Epoch 15/100\n",
            "225/225 [==============================] - 17s 74ms/step - loss: 0.8938 - acc: 0.6756 - val_loss: 1.0831 - val_acc: 0.6009\n",
            "Epoch 16/100\n",
            "225/225 [==============================] - 17s 74ms/step - loss: 0.8530 - acc: 0.6901 - val_loss: 1.1235 - val_acc: 0.6037\n",
            "Epoch 17/100\n",
            "225/225 [==============================] - 17s 76ms/step - loss: 0.8301 - acc: 0.7010 - val_loss: 1.0465 - val_acc: 0.6183\n",
            "Epoch 18/100\n",
            "225/225 [==============================] - 17s 74ms/step - loss: 0.7808 - acc: 0.7167 - val_loss: 1.0944 - val_acc: 0.6183\n",
            "Epoch 19/100\n",
            "225/225 [==============================] - 17s 76ms/step - loss: 0.7494 - acc: 0.7307 - val_loss: 1.1051 - val_acc: 0.6290\n",
            "Epoch 20/100\n",
            "225/225 [==============================] - 17s 76ms/step - loss: 0.7095 - acc: 0.7442 - val_loss: 1.1040 - val_acc: 0.6413\n",
            "Epoch 21/100\n",
            "225/225 [==============================] - 17s 74ms/step - loss: 0.6881 - acc: 0.7530 - val_loss: 1.0918 - val_acc: 0.6410\n",
            "Epoch 22/100\n",
            "225/225 [==============================] - 17s 74ms/step - loss: 0.6366 - acc: 0.7737 - val_loss: 1.1038 - val_acc: 0.6305\n",
            "Epoch 23/100\n",
            "225/225 [==============================] - 17s 76ms/step - loss: 0.5872 - acc: 0.7887 - val_loss: 1.1938 - val_acc: 0.6463\n",
            "Epoch 24/100\n",
            "225/225 [==============================] - 17s 74ms/step - loss: 0.5619 - acc: 0.8011 - val_loss: 1.1746 - val_acc: 0.6436\n",
            "Epoch 25/100\n",
            "225/225 [==============================] - 17s 76ms/step - loss: 0.5316 - acc: 0.8121 - val_loss: 1.1709 - val_acc: 0.6473\n",
            "Epoch 26/100\n",
            "225/225 [==============================] - 17s 76ms/step - loss: 0.4959 - acc: 0.8259 - val_loss: 1.2002 - val_acc: 0.6489\n",
            "Epoch 27/100\n",
            "225/225 [==============================] - 17s 74ms/step - loss: 0.4736 - acc: 0.8339 - val_loss: 1.2277 - val_acc: 0.6471\n",
            "Epoch 28/100\n",
            "225/225 [==============================] - 17s 74ms/step - loss: 0.4274 - acc: 0.8541 - val_loss: 1.3108 - val_acc: 0.6484\n",
            "Epoch 29/100\n",
            "225/225 [==============================] - 17s 74ms/step - loss: 0.3915 - acc: 0.8654 - val_loss: 1.2593 - val_acc: 0.6464\n",
            "Epoch 30/100\n",
            "225/225 [==============================] - 17s 76ms/step - loss: 0.3727 - acc: 0.8708 - val_loss: 1.4003 - val_acc: 0.6588\n",
            "Epoch 31/100\n",
            "225/225 [==============================] - 17s 74ms/step - loss: 0.3437 - acc: 0.8828 - val_loss: 1.4289 - val_acc: 0.6466\n",
            "Epoch 32/100\n",
            "225/225 [==============================] - 17s 76ms/step - loss: 0.3313 - acc: 0.8877 - val_loss: 1.4975 - val_acc: 0.6638\n",
            "Epoch 33/100\n",
            "225/225 [==============================] - 17s 74ms/step - loss: 0.3030 - acc: 0.8979 - val_loss: 1.5231 - val_acc: 0.6591\n",
            "Epoch 34/100\n",
            "225/225 [==============================] - 17s 74ms/step - loss: 0.2807 - acc: 0.9043 - val_loss: 1.6091 - val_acc: 0.6545\n",
            "Epoch 35/100\n",
            "225/225 [==============================] - 17s 74ms/step - loss: 0.2517 - acc: 0.9154 - val_loss: 1.6654 - val_acc: 0.6608\n",
            "Epoch 36/100\n",
            "225/225 [==============================] - 17s 74ms/step - loss: 0.2505 - acc: 0.9153 - val_loss: 1.6727 - val_acc: 0.6519\n",
            "Epoch 37/100\n",
            "225/225 [==============================] - 17s 74ms/step - loss: 0.2286 - acc: 0.9252 - val_loss: 1.7160 - val_acc: 0.6525\n"
          ],
          "name": "stdout"
        }
      ]
    },
    {
      "cell_type": "code",
      "metadata": {
        "id": "YCWDFVU7baPg",
        "colab": {
          "base_uri": "https://localhost:8080/",
          "height": 544
        },
        "outputId": "d00baeb3-5d13-4a04-f9f5-8c04f77bbabb"
      },
      "source": [
        "plt.plot(history.history['loss'], label='training')\n",
        "plt.plot(history.history['val_loss'], label='validation')\n",
        "plt.legend()\n",
        "plt.title('Loss')\n",
        "plt.show()\n",
        "\n",
        "plt.plot(history.history['acc'], label='training')\n",
        "plt.plot(history.history['val_acc'], label='validation')\n",
        "plt.legend()\n",
        "plt.title('Accuracy')\n",
        "plt.show()"
      ],
      "execution_count": null,
      "outputs": [
        {
          "output_type": "display_data",
          "data": {
            "image/png": "[encoded data removed]",
            "text/plain": [
              "<Figure size 432x288 with 1 Axes>"
            ]
          },
          "metadata": {
            "tags": [],
            "needs_background": "light"
          }
        },
        {
          "output_type": "display_data",
          "data": {
            "image/png": "[encoded data removed]",
            "text/plain": [
              "<Figure size 432x288 with 1 Axes>"
            ]
          },
          "metadata": {
            "tags": [],
            "needs_background": "light"
          }
        }
      ]
    },
    {
      "cell_type": "code",
      "metadata": {
        "id": "Nf0ZaS3ibaPu"
      },
      "source": [
        "from sklearn.metrics import confusion_matrix\n"
      ],
      "execution_count": null,
      "outputs": []
    },
    {
      "cell_type": "code",
      "metadata": {
        "id": "RiYDxLt78lA0"
      },
      "source": [
        "import seaborn as sns"
      ],
      "execution_count": null,
      "outputs": []
    },
    {
      "cell_type": "code",
      "metadata": {
        "id": "iNH9a3CdbaP3",
        "colab": {
          "base_uri": "https://localhost:8080/",
          "height": 472
        },
        "outputId": "640a9d2c-c859-4111-a58a-d174cc8eee3c"
      },
      "source": [
        "preds = model.predict(x_test)\n",
        "y_pred = [np.argmax(pred) for pred in preds]\n",
        "cm = confusion_matrix(y_test, y_pred)\n",
        "\n",
        "fig2 = plt.figure(figsize=(8,8))\n",
        "ax = sns.heatmap(cm, annot=True, fmt='d', linewidths=.2, square=True)\n",
        "bottom, top = ax.get_ylim()\n",
        "ax.set_ylim(bottom + 0.5, top - 0.5);\n"
      ],
      "execution_count": null,
      "outputs": [
        {
          "output_type": "display_data",
          "data": {
            "image/png": "[encoded data removed]",
            "text/plain": [
              "<Figure size 576x576 with 2 Axes>"
            ]
          },
          "metadata": {
            "tags": [],
            "needs_background": "light"
          }
        }
      ]
    },
    {
      "cell_type": "code",
      "metadata": {
        "id": "ooZt_jWfjUH8"
      },
      "source": [
        "fig2.savefig('confusion.jpg')"
      ],
      "execution_count": null,
      "outputs": []
    },
    {
      "cell_type": "markdown",
      "metadata": {
        "id": "aelD3hux76km"
      },
      "source": [
        "Looks reasonable, save the model"
      ]
    },
    {
      "cell_type": "code",
      "metadata": {
        "id": "crUyKLz6atyo"
      },
      "source": [
        "model.save('/content/drive/MyDrive/face express data/model.h5')"
      ],
      "execution_count": null,
      "outputs": []
    },
    {
      "cell_type": "markdown",
      "metadata": {
        "id": "rTmdL4837Ma2"
      },
      "source": [
        "Alternatively, load a model that has been trained and saved."
      ]
    },
    {
      "cell_type": "code",
      "metadata": {
        "id": "VxRHTsraxHGh"
      },
      "source": [
        "from tensorflow.keras.models import load_model\n",
        "\n",
        "model = load_model('/content/drive/MyDrive/face express data/model.h5')\n"
      ],
      "execution_count": null,
      "outputs": []
    },
    {
      "cell_type": "code",
      "metadata": {
        "colab": {
          "base_uri": "https://localhost:8080/"
        },
        "id": "bPfCDz8_ybxd",
        "outputId": "e3a17661-9580-47c8-9a08-c8acbff105b5"
      },
      "source": [
        "preds = model.predict(x_test)\n",
        "y_pred = [np.argmax(pred) for pred in preds]\n",
        "score = accuracy_score(y_test, y_pred)\n",
        "print(f'Test accuracy = {round(score * 100, 2)} %')"
      ],
      "execution_count": null,
      "outputs": [
        {
          "output_type": "stream",
          "text": [
            "Test accuracy = 66.38 %\n"
          ],
          "name": "stdout"
        }
      ]
    },
    {
      "cell_type": "markdown",
      "metadata": {
        "id": "B3HB5luc7ba1"
      },
      "source": [
        "Perform inference on a random selected sample from the test dataset"
      ]
    },
    {
      "cell_type": "code",
      "metadata": {
        "id": "4_aYyjpabaPk"
      },
      "source": [
        "def tryRandomExample():\n",
        "    index = np.random.randint(0, x_test.shape[0])\n",
        "    img = x_test[index]\n",
        "    img = np.expand_dims(img, axis=0)\n",
        "    pred = model.predict(img)\n",
        "    best = np.argmax(pred[0])\n",
        "    \n",
        "    print(classes[best] == classes[y_test[index]])\n",
        "    print(f'Predicted label: {classes[best]}\\nConfidence: {round(pred[0][best] * 100, 2)} %')\n",
        "    print(f'Actual label: {classes[y_test[index]]}')\n",
        "    \n",
        "    plt.imshow(np.squeeze(img[0], axis=-1), cmap='gray')\n",
        "    plt.show()\n",
        "    \n",
        "    df = pd.DataFrame(dict(probs=list(pred[0]), labels=classes))\n",
        "    fig = px.line_polar(df, r='probs', theta='labels', line_close=True)\n",
        "    fig.show()\n",
        "    \n",
        "    "
      ],
      "execution_count": null,
      "outputs": []
    },
    {
      "cell_type": "code",
      "metadata": {
        "id": "e_uztfdxbaPq",
        "colab": {
          "base_uri": "https://localhost:8080/",
          "height": 863
        },
        "outputId": "10f3e2cc-7f14-434f-c15f-88b1c82f066c"
      },
      "source": [
        "tryRandomExample()"
      ],
      "execution_count": null,
      "outputs": [
        {
          "output_type": "stream",
          "text": [
            "True\n",
            "Predicted label: Happy\n",
            "Confidence: 100.0 %\n",
            "Actual label: Happy\n"
          ],
          "name": "stdout"
        },
        {
          "output_type": "display_data",
          "data": {
            "image/png": "[encoded data removed]",
            "text/plain": [
              "<Figure size 432x288 with 1 Axes>"
            ]
          },
          "metadata": {
            "tags": [],
            "needs_background": "light"
          }
        },
        {
          "output_type": "display_data",
          "data": {
            "text/html": [
              "<html>\n",
              "<head><meta charset=\"utf-8\" /></head>\n",
              "<body>\n",
              "    <div>\n",
              "            <script src=\"https://cdnjs.cloudflare.com/ajax/libs/mathjax/2.7.5/MathJax.js?config=TeX-AMS-MML_SVG\"></script><script type=\"text/javascript\">if (window.MathJax) {MathJax.Hub.Config({SVG: {font: \"STIX-Web\"}});}</script>\n",
              "                <script type=\"text/javascript\">window.PlotlyConfig = {MathJaxConfig: 'local'};</script>\n",
              "        <script src=\"https://cdn.plot.ly/plotly-latest.min.js\"></script>    \n",
              "            <div id=\"18181347-9a4d-451a-900a-ba490fb507a0\" class=\"plotly-graph-div\" style=\"height:525px; width:100%;\"></div>\n",
              "            <script type=\"text/javascript\">\n",
              "                \n",
              "                    window.PLOTLYENV=window.PLOTLYENV || {};\n",
              "                    \n",
              "                if (document.getElementById(\"18181347-9a4d-451a-900a-ba490fb507a0\")) {\n",
              "                    Plotly.newPlot(\n",
              "                        '18181347-9a4d-451a-900a-ba490fb507a0',\n",
              "                        [{\"hoverlabel\": {\"namelength\": 0}, \"hovertemplate\": \"probs=%{r}<br>labels=%{theta}\", \"legendgroup\": \"\", \"line\": {\"color\": \"#636efa\", \"dash\": \"solid\"}, \"mode\": \"lines\", \"name\": \"\", \"r\": [3.485895383112392e-13, 2.65784955042244e-35, 6.108979153703759e-14, 1.0, 1.0350868823356691e-14, 5.913723151581771e-14, 2.0755818397333314e-08, 3.485895383112392e-13], \"showlegend\": false, \"subplot\": \"polar\", \"theta\": [\"Angry\", \"Disgust\", \"Fear\", \"Happy\", \"Sad\", \"Surprise\", \"Neutral\", \"Angry\"], \"type\": \"scatterpolar\"}],\n",
              "                        {\"legend\": {\"tracegroupgap\": 0}, \"margin\": {\"t\": 60}, \"polar\": {\"angularaxis\": {\"direction\": \"clockwise\", \"rotation\": 90}, \"domain\": {\"x\": [0.0, 1.0], \"y\": [0.0, 1.0]}}, \"template\": {\"data\": {\"bar\": [{\"error_x\": {\"color\": \"#2a3f5f\"}, \"error_y\": {\"color\": \"#2a3f5f\"}, \"marker\": {\"line\": {\"color\": \"#E5ECF6\", \"width\": 0.5}}, \"type\": \"bar\"}], \"barpolar\": [{\"marker\": {\"line\": {\"color\": \"#E5ECF6\", \"width\": 0.5}}, \"type\": \"barpolar\"}], \"carpet\": [{\"aaxis\": {\"endlinecolor\": \"#2a3f5f\", \"gridcolor\": \"white\", \"linecolor\": \"white\", \"minorgridcolor\": \"white\", \"startlinecolor\": \"#2a3f5f\"}, \"baxis\": {\"endlinecolor\": \"#2a3f5f\", \"gridcolor\": \"white\", \"linecolor\": \"white\", \"minorgridcolor\": \"white\", \"startlinecolor\": \"#2a3f5f\"}, \"type\": \"carpet\"}], \"choropleth\": [{\"colorbar\": {\"outlinewidth\": 0, \"ticks\": \"\"}, \"type\": \"choropleth\"}], \"contour\": [{\"colorbar\": {\"outlinewidth\": 0, \"ticks\": \"\"}, \"colorscale\": [[0.0, \"#0d0887\"], [0.1111111111111111, \"#46039f\"], [0.2222222222222222, \"#7201a8\"], [0.3333333333333333, \"#9c179e\"], [0.4444444444444444, \"#bd3786\"], [0.5555555555555556, \"#d8576b\"], [0.6666666666666666, \"#ed7953\"], [0.7777777777777778, \"#fb9f3a\"], [0.8888888888888888, \"#fdca26\"], [1.0, \"#f0f921\"]], \"type\": \"contour\"}], \"contourcarpet\": [{\"colorbar\": {\"outlinewidth\": 0, \"ticks\": \"\"}, \"type\": \"contourcarpet\"}], \"heatmap\": [{\"colorbar\": {\"outlinewidth\": 0, \"ticks\": \"\"}, \"colorscale\": [[0.0, \"#0d0887\"], [0.1111111111111111, \"#46039f\"], [0.2222222222222222, \"#7201a8\"], [0.3333333333333333, \"#9c179e\"], [0.4444444444444444, \"#bd3786\"], [0.5555555555555556, \"#d8576b\"], [0.6666666666666666, \"#ed7953\"], [0.7777777777777778, \"#fb9f3a\"], [0.8888888888888888, \"#fdca26\"], [1.0, \"#f0f921\"]], \"type\": \"heatmap\"}], \"heatmapgl\": [{\"colorbar\": {\"outlinewidth\": 0, \"ticks\": \"\"}, \"colorscale\": [[0.0, \"#0d0887\"], [0.1111111111111111, \"#46039f\"], [0.2222222222222222, \"#7201a8\"], [0.3333333333333333, \"#9c179e\"], [0.4444444444444444, \"#bd3786\"], [0.5555555555555556, \"#d8576b\"], [0.6666666666666666, \"#ed7953\"], [0.7777777777777778, \"#fb9f3a\"], [0.8888888888888888, \"#fdca26\"], [1.0, \"#f0f921\"]], \"type\": \"heatmapgl\"}], \"histogram\": [{\"marker\": {\"colorbar\": {\"outlinewidth\": 0, \"ticks\": \"\"}}, \"type\": \"histogram\"}], \"histogram2d\": [{\"colorbar\": {\"outlinewidth\": 0, \"ticks\": \"\"}, \"colorscale\": [[0.0, \"#0d0887\"], [0.1111111111111111, \"#46039f\"], [0.2222222222222222, \"#7201a8\"], [0.3333333333333333, \"#9c179e\"], [0.4444444444444444, \"#bd3786\"], [0.5555555555555556, \"#d8576b\"], [0.6666666666666666, \"#ed7953\"], [0.7777777777777778, \"#fb9f3a\"], [0.8888888888888888, \"#fdca26\"], [1.0, \"#f0f921\"]], \"type\": \"histogram2d\"}], \"histogram2dcontour\": [{\"colorbar\": {\"outlinewidth\": 0, \"ticks\": \"\"}, \"colorscale\": [[0.0, \"#0d0887\"], [0.1111111111111111, \"#46039f\"], [0.2222222222222222, \"#7201a8\"], [0.3333333333333333, \"#9c179e\"], [0.4444444444444444, \"#bd3786\"], [0.5555555555555556, \"#d8576b\"], [0.6666666666666666, \"#ed7953\"], [0.7777777777777778, \"#fb9f3a\"], [0.8888888888888888, \"#fdca26\"], [1.0, \"#f0f921\"]], \"type\": \"histogram2dcontour\"}], \"mesh3d\": [{\"colorbar\": {\"outlinewidth\": 0, \"ticks\": \"\"}, \"type\": \"mesh3d\"}], \"parcoords\": [{\"line\": {\"colorbar\": {\"outlinewidth\": 0, \"ticks\": \"\"}}, \"type\": \"parcoords\"}], \"pie\": [{\"automargin\": true, \"type\": \"pie\"}], \"scatter\": [{\"marker\": {\"colorbar\": {\"outlinewidth\": 0, \"ticks\": \"\"}}, \"type\": \"scatter\"}], \"scatter3d\": [{\"line\": {\"colorbar\": {\"outlinewidth\": 0, \"ticks\": \"\"}}, \"marker\": {\"colorbar\": {\"outlinewidth\": 0, \"ticks\": \"\"}}, \"type\": \"scatter3d\"}], \"scattercarpet\": [{\"marker\": {\"colorbar\": {\"outlinewidth\": 0, \"ticks\": \"\"}}, \"type\": \"scattercarpet\"}], \"scattergeo\": [{\"marker\": {\"colorbar\": {\"outlinewidth\": 0, \"ticks\": \"\"}}, \"type\": \"scattergeo\"}], \"scattergl\": [{\"marker\": {\"colorbar\": {\"outlinewidth\": 0, \"ticks\": \"\"}}, \"type\": \"scattergl\"}], \"scattermapbox\": [{\"marker\": {\"colorbar\": {\"outlinewidth\": 0, \"ticks\": \"\"}}, \"type\": \"scattermapbox\"}], \"scatterpolar\": [{\"marker\": {\"colorbar\": {\"outlinewidth\": 0, \"ticks\": \"\"}}, \"type\": \"scatterpolar\"}], \"scatterpolargl\": [{\"marker\": {\"colorbar\": {\"outlinewidth\": 0, \"ticks\": \"\"}}, \"type\": \"scatterpolargl\"}], \"scatterternary\": [{\"marker\": {\"colorbar\": {\"outlinewidth\": 0, \"ticks\": \"\"}}, \"type\": \"scatterternary\"}], \"surface\": [{\"colorbar\": {\"outlinewidth\": 0, \"ticks\": \"\"}, \"colorscale\": [[0.0, \"#0d0887\"], [0.1111111111111111, \"#46039f\"], [0.2222222222222222, \"#7201a8\"], [0.3333333333333333, \"#9c179e\"], [0.4444444444444444, \"#bd3786\"], [0.5555555555555556, \"#d8576b\"], [0.6666666666666666, \"#ed7953\"], [0.7777777777777778, \"#fb9f3a\"], [0.8888888888888888, \"#fdca26\"], [1.0, \"#f0f921\"]], \"type\": \"surface\"}], \"table\": [{\"cells\": {\"fill\": {\"color\": \"#EBF0F8\"}, \"line\": {\"color\": \"white\"}}, \"header\": {\"fill\": {\"color\": \"#C8D4E3\"}, \"line\": {\"color\": \"white\"}}, \"type\": \"table\"}]}, \"layout\": {\"annotationdefaults\": {\"arrowcolor\": \"#2a3f5f\", \"arrowhead\": 0, \"arrowwidth\": 1}, \"coloraxis\": {\"colorbar\": {\"outlinewidth\": 0, \"ticks\": \"\"}}, \"colorscale\": {\"diverging\": [[0, \"#8e0152\"], [0.1, \"#c51b7d\"], [0.2, \"#de77ae\"], [0.3, \"#f1b6da\"], [0.4, \"#fde0ef\"], [0.5, \"#f7f7f7\"], [0.6, \"#e6f5d0\"], [0.7, \"#b8e186\"], [0.8, \"#7fbc41\"], [0.9, \"#4d9221\"], [1, \"#276419\"]], \"sequential\": [[0.0, \"#0d0887\"], [0.1111111111111111, \"#46039f\"], [0.2222222222222222, \"#7201a8\"], [0.3333333333333333, \"#9c179e\"], [0.4444444444444444, \"#bd3786\"], [0.5555555555555556, \"#d8576b\"], [0.6666666666666666, \"#ed7953\"], [0.7777777777777778, \"#fb9f3a\"], [0.8888888888888888, \"#fdca26\"], [1.0, \"#f0f921\"]], \"sequentialminus\": [[0.0, \"#0d0887\"], [0.1111111111111111, \"#46039f\"], [0.2222222222222222, \"#7201a8\"], [0.3333333333333333, \"#9c179e\"], [0.4444444444444444, \"#bd3786\"], [0.5555555555555556, \"#d8576b\"], [0.6666666666666666, \"#ed7953\"], [0.7777777777777778, \"#fb9f3a\"], [0.8888888888888888, \"#fdca26\"], [1.0, \"#f0f921\"]]}, \"colorway\": [\"#636efa\", \"#EF553B\", \"#00cc96\", \"#ab63fa\", \"#FFA15A\", \"#19d3f3\", \"#FF6692\", \"#B6E880\", \"#FF97FF\", \"#FECB52\"], \"font\": {\"color\": \"#2a3f5f\"}, \"geo\": {\"bgcolor\": \"white\", \"lakecolor\": \"white\", \"landcolor\": \"#E5ECF6\", \"showlakes\": true, \"showland\": true, \"subunitcolor\": \"white\"}, \"hoverlabel\": {\"align\": \"left\"}, \"hovermode\": \"closest\", \"mapbox\": {\"style\": \"light\"}, \"paper_bgcolor\": \"white\", \"plot_bgcolor\": \"#E5ECF6\", \"polar\": {\"angularaxis\": {\"gridcolor\": \"white\", \"linecolor\": \"white\", \"ticks\": \"\"}, \"bgcolor\": \"#E5ECF6\", \"radialaxis\": {\"gridcolor\": \"white\", \"linecolor\": \"white\", \"ticks\": \"\"}}, \"scene\": {\"xaxis\": {\"backgroundcolor\": \"#E5ECF6\", \"gridcolor\": \"white\", \"gridwidth\": 2, \"linecolor\": \"white\", \"showbackground\": true, \"ticks\": \"\", \"zerolinecolor\": \"white\"}, \"yaxis\": {\"backgroundcolor\": \"#E5ECF6\", \"gridcolor\": \"white\", \"gridwidth\": 2, \"linecolor\": \"white\", \"showbackground\": true, \"ticks\": \"\", \"zerolinecolor\": \"white\"}, \"zaxis\": {\"backgroundcolor\": \"#E5ECF6\", \"gridcolor\": \"white\", \"gridwidth\": 2, \"linecolor\": \"white\", \"showbackground\": true, \"ticks\": \"\", \"zerolinecolor\": \"white\"}}, \"shapedefaults\": {\"line\": {\"color\": \"#2a3f5f\"}}, \"ternary\": {\"aaxis\": {\"gridcolor\": \"white\", \"linecolor\": \"white\", \"ticks\": \"\"}, \"baxis\": {\"gridcolor\": \"white\", \"linecolor\": \"white\", \"ticks\": \"\"}, \"bgcolor\": \"#E5ECF6\", \"caxis\": {\"gridcolor\": \"white\", \"linecolor\": \"white\", \"ticks\": \"\"}}, \"title\": {\"x\": 0.05}, \"xaxis\": {\"automargin\": true, \"gridcolor\": \"white\", \"linecolor\": \"white\", \"ticks\": \"\", \"title\": {\"standoff\": 15}, \"zerolinecolor\": \"white\", \"zerolinewidth\": 2}, \"yaxis\": {\"automargin\": true, \"gridcolor\": \"white\", \"linecolor\": \"white\", \"ticks\": \"\", \"title\": {\"standoff\": 15}, \"zerolinecolor\": \"white\", \"zerolinewidth\": 2}}}},\n",
              "                        {\"responsive\": true}\n",
              "                    ).then(function(){\n",
              "                            \n",
              "var gd = document.getElementById('18181347-9a4d-451a-900a-ba490fb507a0');\n",
              "var x = new MutationObserver(function (mutations, observer) {{\n",
              "        var display = window.getComputedStyle(gd).display;\n",
              "        if (!display || display === 'none') {{\n",
              "            console.log([gd, 'removed!']);\n",
              "            Plotly.purge(gd);\n",
              "            observer.disconnect();\n",
              "        }}\n",
              "}});\n",
              "\n",
              "// Listen for the removal of the full notebook cells\n",
              "var notebookContainer = gd.closest('#notebook-container');\n",
              "if (notebookContainer) {{\n",
              "    x.observe(notebookContainer, {childList: true});\n",
              "}}\n",
              "\n",
              "// Listen for the clearing of the current output cell\n",
              "var outputEl = gd.closest('.output');\n",
              "if (outputEl) {{\n",
              "    x.observe(outputEl, {childList: true});\n",
              "}}\n",
              "\n",
              "                        })\n",
              "                };\n",
              "                \n",
              "            </script>\n",
              "        </div>\n",
              "</body>\n",
              "</html>"
            ]
          },
          "metadata": {
            "tags": []
          }
        }
      ]
    },
    {
      "cell_type": "code",
      "metadata": {
        "id": "SbmbXLRuVhEx"
      },
      "source": [
        ""
      ],
      "execution_count": null,
      "outputs": []
    }
  ]
}