{
  "nbformat": 4,
  "nbformat_minor": 0,
  "metadata": {
    "kernelspec": {
      "display_name": "Python 3",
      "language": "python",
      "name": "python3"
    },
    "language_info": {
      "codemirror_mode": {
        "name": "ipython",
        "version": 3
      },
      "file_extension": ".py",
      "mimetype": "text/x-python",
      "name": "python",
      "nbconvert_exporter": "python",
      "pygments_lexer": "ipython3",
      "version": "3.7.4"
    },
    "colab": {
      "name": "conv_model2.ipynb",
      "provenance": [],
      "collapsed_sections": [],
      "include_colab_link": true
    },
    "accelerator": "GPU"
  },
  "cells": [
    {
      "cell_type": "markdown",
      "metadata": {
        "id": "view-in-github",
        "colab_type": "text"
      },
      "source": [
        "<a href=\"https://colab.research.google.com/github/karencfisher/face_express/blob/main/notebooks/conv_model2.ipynb\" target=\"_parent\"><img src=\"https://colab.research.google.com/assets/colab-badge.svg\" alt=\"Open In Colab\"/></a>"
      ]
    },
    {
      "cell_type": "code",
      "metadata": {
        "id": "xy88CA3WbaOM"
      },
      "source": [
        "import pandas as pd\n",
        "import matplotlib.pyplot as plt\n",
        "import numpy as np\n",
        "import plotly.express as px"
      ],
      "execution_count": 1,
      "outputs": []
    },
    {
      "cell_type": "code",
      "metadata": {
        "id": "2R3m8u1pbmca",
        "colab": {
          "base_uri": "https://localhost:8080/"
        },
        "outputId": "0f864237-7f1f-4c45-946f-9cd8410ba977"
      },
      "source": [
        "from google.colab import drive\n",
        "drive.mount('/content/drive')"
      ],
      "execution_count": 2,
      "outputs": [
        {
          "output_type": "stream",
          "text": [
            "Mounted at /content/drive\n"
          ],
          "name": "stdout"
        }
      ]
    },
    {
      "cell_type": "markdown",
      "metadata": {
        "id": "rCMwaOrxohl3"
      },
      "source": [
        "Data is from https://www.kaggle.com/c/challenges-in-representation-learning-facial-expression-recognition-challenge/data\n",
        "\n",
        "The ```icml_face_data.csv``` dataset which contains a total of 34034 samples. It contains 3 columns. The target label is an integer (0, 6), the seven basic emtions:\n",
        "\n",
        "```\n",
        "['Angry', 'Disgust', 'Fear', 'Happy', 'Sad', 'Surprise', 'Neutral']\n",
        "```\n",
        "\n",
        "The images are stored in the 'pixels' column, as a string of 2304 integer values (0, 255) separated by spaces. These will need be coverted into an array of integer values. Subsequently, they will be needs reshaped into 3-d numpy arrays to be input to the CNN.\n",
        "\n"
      ]
    },
    {
      "cell_type": "code",
      "metadata": {
        "id": "GLi-lS_wbaOh"
      },
      "source": [
        "def loadCleanData(fname):\n",
        "    df = pd.read_csv(fname)\n",
        "    \n",
        "    # regularize capitalization and remove leading space in column headings\n",
        "    fix_cols = {s : s.lower().strip() for s in df.columns.to_list()}\n",
        "    df.rename(columns = fix_cols, inplace=True)\n",
        "    \n",
        "    # convert pixels from strings to lists of integers\n",
        "    df['pixels'] = df['pixels'].apply(lambda x: [int(i) for i in x.split()])\n",
        "    \n",
        "    # Not using the 'usage' column, so can be dropped\n",
        "    df.drop('usage', axis=1, inplace=True)\n",
        "    \n",
        "    return df"
      ],
      "execution_count": 3,
      "outputs": []
    },
    {
      "cell_type": "code",
      "metadata": {
        "id": "Z2RreP2kbaOn",
        "colab": {
          "base_uri": "https://localhost:8080/",
          "height": 197
        },
        "outputId": "fa9e2129-4506-477c-d6ac-dea4f0cb145e"
      },
      "source": [
        "df = loadCleanData('/content/drive/MyDrive/face express data/icml_face_data.csv')\n",
        "df.head()"
      ],
      "execution_count": 4,
      "outputs": [
        {
          "output_type": "execute_result",
          "data": {
            "text/html": [
              "<div>\n",
              "<style scoped>\n",
              "    .dataframe tbody tr th:only-of-type {\n",
              "        vertical-align: middle;\n",
              "    }\n",
              "\n",
              "    .dataframe tbody tr th {\n",
              "        vertical-align: top;\n",
              "    }\n",
              "\n",
              "    .dataframe thead th {\n",
              "        text-align: right;\n",
              "    }\n",
              "</style>\n",
              "<table border=\"1\" class=\"dataframe\">\n",
              "  <thead>\n",
              "    <tr style=\"text-align: right;\">\n",
              "      <th></th>\n",
              "      <th>emotion</th>\n",
              "      <th>pixels</th>\n",
              "    </tr>\n",
              "  </thead>\n",
              "  <tbody>\n",
              "    <tr>\n",
              "      <th>0</th>\n",
              "      <td>0</td>\n",
              "      <td>[70, 80, 82, 72, 58, 58, 60, 63, 54, 58, 60, 4...</td>\n",
              "    </tr>\n",
              "    <tr>\n",
              "      <th>1</th>\n",
              "      <td>0</td>\n",
              "      <td>[151, 150, 147, 155, 148, 133, 111, 140, 170, ...</td>\n",
              "    </tr>\n",
              "    <tr>\n",
              "      <th>2</th>\n",
              "      <td>2</td>\n",
              "      <td>[231, 212, 156, 164, 174, 138, 161, 173, 182, ...</td>\n",
              "    </tr>\n",
              "    <tr>\n",
              "      <th>3</th>\n",
              "      <td>4</td>\n",
              "      <td>[24, 32, 36, 30, 32, 23, 19, 20, 30, 41, 21, 2...</td>\n",
              "    </tr>\n",
              "    <tr>\n",
              "      <th>4</th>\n",
              "      <td>6</td>\n",
              "      <td>[4, 0, 0, 0, 0, 0, 0, 0, 0, 0, 0, 0, 3, 15, 23...</td>\n",
              "    </tr>\n",
              "  </tbody>\n",
              "</table>\n",
              "</div>"
            ],
            "text/plain": [
              "   emotion                                             pixels\n",
              "0        0  [70, 80, 82, 72, 58, 58, 60, 63, 54, 58, 60, 4...\n",
              "1        0  [151, 150, 147, 155, 148, 133, 111, 140, 170, ...\n",
              "2        2  [231, 212, 156, 164, 174, 138, 161, 173, 182, ...\n",
              "3        4  [24, 32, 36, 30, 32, 23, 19, 20, 30, 41, 21, 2...\n",
              "4        6  [4, 0, 0, 0, 0, 0, 0, 0, 0, 0, 0, 0, 3, 15, 23..."
            ]
          },
          "metadata": {
            "tags": []
          },
          "execution_count": 4
        }
      ]
    },
    {
      "cell_type": "code",
      "metadata": {
        "id": "XNPOPANPbaOu"
      },
      "source": [
        "classes = ['Angry', 'Disgust', 'Fear', 'Happy', 'Sad', 'Surprise', 'Neutral']"
      ],
      "execution_count": 5,
      "outputs": []
    },
    {
      "cell_type": "markdown",
      "metadata": {
        "id": "3SzN3taU2XlZ"
      },
      "source": [
        "There is some imbalance in the target classes. 'Happy' is by far the majority class; 'Disgust' is very under-represented. "
      ]
    },
    {
      "cell_type": "code",
      "metadata": {
        "id": "2fL6voPAbaQC",
        "colab": {
          "base_uri": "https://localhost:8080/",
          "height": 264
        },
        "outputId": "7e64cf7d-93c7-43ae-ee42-bb8419fc482c"
      },
      "source": [
        "plt.bar(classes, df['emotion'].value_counts().sort_index());"
      ],
      "execution_count": 6,
      "outputs": [
        {
          "output_type": "display_data",
          "data": {
            "image/png": "[encoded data removed]",
            "text/plain": [
              "<Figure size 432x288 with 1 Axes>"
            ]
          },
          "metadata": {
            "tags": [],
            "needs_background": "light"
          }
        }
      ]
    },
    {
      "cell_type": "markdown",
      "metadata": {
        "id": "dKgnPBIN2nrg"
      },
      "source": [
        "Look at a randomly selected example."
      ]
    },
    {
      "cell_type": "code",
      "metadata": {
        "id": "aao0nG5IbaOz"
      },
      "source": [
        "def displayImage(df, classes):\n",
        "    index = np.random.randint(0, df.shape[0])\n",
        "    img = np.array(df.iloc[index]['pixels'])\n",
        "    n = int(np.sqrt(len(df.iloc[0]['pixels'])))\n",
        "    img = img.reshape(n, n)\n",
        "    \n",
        "    plt.imshow(img, cmap='gray')\n",
        "    plt.xlabel(classes[df.iloc[index]['emotion']])\n",
        "    plt.show()\n",
        "    "
      ],
      "execution_count": 7,
      "outputs": []
    },
    {
      "cell_type": "code",
      "metadata": {
        "id": "J5AtqEJKbaO6",
        "colab": {
          "base_uri": "https://localhost:8080/",
          "height": 281
        },
        "outputId": "c0e68836-8d61-4695-b94b-daa16f58eeed"
      },
      "source": [
        "displayImage(df, classes)"
      ],
      "execution_count": 8,
      "outputs": [
        {
          "output_type": "display_data",
          "data": {
            "image/png": "[encoded data removed]",
            "text/plain": [
              "<Figure size 432x288 with 1 Axes>"
            ]
          },
          "metadata": {
            "tags": [],
            "needs_background": "light"
          }
        }
      ]
    },
    {
      "cell_type": "code",
      "metadata": {
        "id": "9he-0Tk1baO-"
      },
      "source": [
        "from sklearn.model_selection import train_test_split\n",
        "from sklearn.metrics import accuracy_score\n",
        "from sklearn.dummy import DummyClassifier\n",
        "from sklearn.utils.class_weight import compute_class_weight\n",
        "\n",
        "from tensorflow.keras.layers import Dense, Dropout, Conv2D, MaxPool2D, Flatten, BatchNormalization\n",
        "from tensorflow.keras.models import Sequential\n",
        "from tensorflow.keras.callbacks import EarlyStopping, ModelCheckpoint, ReduceLROnPlateau\n",
        "from keras.regularizers import l2"
      ],
      "execution_count": 17,
      "outputs": []
    },
    {
      "cell_type": "markdown",
      "metadata": {
        "id": "9LIio7bk27iH"
      },
      "source": [
        "Split into training and testing sets."
      ]
    },
    {
      "cell_type": "code",
      "metadata": {
        "id": "fjNHcAfDbaPC",
        "colab": {
          "base_uri": "https://localhost:8080/"
        },
        "outputId": "bcab81bb-1363-487c-bb3e-c1ba08efdf9f"
      },
      "source": [
        "x_train, x_test, y_train, y_test = train_test_split(df['pixels'],\n",
        "                                                    df['emotion'],\n",
        "                                                    test_size=0.2,\n",
        "                                                    random_state=42)\n",
        "\n",
        "x_train.shape, x_test.shape, y_train.shape, y_test.shape"
      ],
      "execution_count": 10,
      "outputs": [
        {
          "output_type": "execute_result",
          "data": {
            "text/plain": [
              "((28709,), (7178,), (28709,), (7178,))"
            ]
          },
          "metadata": {
            "tags": []
          },
          "execution_count": 10
        }
      ]
    },
    {
      "cell_type": "markdown",
      "metadata": {
        "id": "pdmHkLVc2_-_"
      },
      "source": [
        "Base model: guessing the classification purely by chance. "
      ]
    },
    {
      "cell_type": "code",
      "metadata": {
        "id": "EHGIjBBEbaPI",
        "colab": {
          "base_uri": "https://localhost:8080/"
        },
        "outputId": "2aeab02a-8cc4-4bac-c695-3a20a47abe1f"
      },
      "source": [
        "clf = DummyClassifier()\n",
        "clf.fit(x_train, y_train)\n",
        "score = clf.score(x_test, y_test)\n",
        "print(f'Total baseline = {round(score * 100, 2)} %')"
      ],
      "execution_count": 11,
      "outputs": [
        {
          "output_type": "stream",
          "text": [
            "Total baseline = 17.61 %\n"
          ],
          "name": "stdout"
        },
        {
          "output_type": "stream",
          "text": [
            "/usr/local/lib/python3.6/dist-packages/sklearn/dummy.py:132: FutureWarning:\n",
            "\n",
            "The default value of strategy will change from stratified to prior in 0.24.\n",
            "\n"
          ],
          "name": "stderr"
        }
      ]
    },
    {
      "cell_type": "markdown",
      "metadata": {
        "id": "IkYz5WhC5FQU"
      },
      "source": [
        "Normalize the image data to in range (0, 1). We will also first have to transform lists of integers to a 2-d numpy array, and then reshape that into the 4-d array (m, h, w, c) as neede by the convolutional layers."
      ]
    },
    {
      "cell_type": "code",
      "metadata": {
        "id": "DIg9c-U5baPM"
      },
      "source": [
        "# transform lists of integers into numpy arrays, and normalize the values\n",
        "x_train = np.vstack(x_train) / 255\n",
        "x_test = np.vstack(x_test) / 255\n",
        "\n",
        "# reshape arrays into (m, h, w, c). As they are square, we can get the height\n",
        "# and width values as a square root of the length the original 1-d array.\n",
        "n = int(np.sqrt(x_train.shape[1]))\n",
        "x_train = x_train.reshape(x_train.shape[0], n, n, 1)\n",
        "x_test = x_test.reshape(x_test.shape[0], n, n, 1)\n",
        "\n",
        "# Convert the pandas series of target classes to numpy array\n",
        "y_train = np.asarray(y_train)\n",
        "y_test = np.asarray(y_test)"
      ],
      "execution_count": 12,
      "outputs": []
    },
    {
      "cell_type": "code",
      "metadata": {
        "id": "HZ_sWxw8baPP",
        "colab": {
          "base_uri": "https://localhost:8080/"
        },
        "outputId": "d5273447-320a-4942-9899-1568e812c7ce"
      },
      "source": [
        "x_train.shape"
      ],
      "execution_count": 13,
      "outputs": [
        {
          "output_type": "execute_result",
          "data": {
            "text/plain": [
              "(28709, 48, 48, 1)"
            ]
          },
          "metadata": {
            "tags": []
          },
          "execution_count": 13
        }
      ]
    },
    {
      "cell_type": "markdown",
      "metadata": {
        "id": "99N8_I796PSI"
      },
      "source": [
        "Build the convolutional model. Inspired by VGG Net.\n",
        "\n",
        "https://colab.research.google.com/drive/1XiJ-sa5Kg324mpq_XG_JMWOlfj_DvZFv\n",
        "\n"
      ]
    },
    {
      "cell_type": "code",
      "metadata": {
        "id": "GC3j39FabaPT",
        "colab": {
          "base_uri": "https://localhost:8080/"
        },
        "outputId": "793a52ff-f358-4632-84fa-60328cfc6e6b"
      },
      "source": [
        "model = Sequential([Conv2D(64, (3, 3), input_shape=x_train.shape[1:], activation='relu'),\n",
        "                    BatchNormalization(),\n",
        "                    Conv2D(64, (3, 3), padding='same', activation='relu'),\n",
        "                    BatchNormalization(),\n",
        "                    MaxPool2D((3, 3), strides=(2, 2)),\n",
        "                    Dropout(0.3),\n",
        "                    \n",
        "                    Conv2D(128, (3, 3), padding='same', activation='relu'),\n",
        "                    BatchNormalization(),\n",
        "                    Conv2D(128, (3, 3), padding='same', activation='relu'),\n",
        "                    BatchNormalization(),\n",
        "                    MaxPool2D((3, 3), strides=(2, 2)),\n",
        "                    Dropout(0.3),\n",
        "                    \n",
        "                    Conv2D(256, (3, 3), padding='same', activation='relu'),\n",
        "                    BatchNormalization(),\n",
        "                    Conv2D(256, (3, 3), padding='same', activation='relu'),\n",
        "                    BatchNormalization(),\n",
        "                    MaxPool2D((3, 3), strides=(2, 2)),\n",
        "                    Dropout(0.3),\n",
        "                    \n",
        "                    Conv2D(512, (3, 3), padding='same', activation='relu'),\n",
        "                    BatchNormalization(),\n",
        "                    Conv2D(512, (3, 3), padding='same', activation='relu'),\n",
        "                    BatchNormalization(),\n",
        "                    MaxPool2D((2, 2), strides=(2, 2)),\n",
        "                    Dropout(0.3),\n",
        "                    \n",
        "                    Flatten(),\n",
        "                    Dense(512, activation='relu'),\n",
        "                    Dropout(0.3),\n",
        "                    Dense(256, activation='relu'),\n",
        "                    Dropout(0.3),\n",
        "                    Dense(64, activation='relu'),\n",
        "                    Dropout(0.3),\n",
        "                    Dense(7, activation='softmax')])\n",
        "\n",
        "model.compile(optimizer='adam', loss='sparse_categorical_crossentropy', metrics=['acc'])\n",
        "model.summary()"
      ],
      "execution_count": 52,
      "outputs": [
        {
          "output_type": "stream",
          "text": [
            "Model: \"sequential_6\"\n",
            "_________________________________________________________________\n",
            "Layer (type)                 Output Shape              Param #   \n",
            "=================================================================\n",
            "conv2d_51 (Conv2D)           (None, 46, 46, 64)        640       \n",
            "_________________________________________________________________\n",
            "batch_normalization_48 (Batc (None, 46, 46, 64)        256       \n",
            "_________________________________________________________________\n",
            "conv2d_52 (Conv2D)           (None, 46, 46, 64)        36928     \n",
            "_________________________________________________________________\n",
            "batch_normalization_49 (Batc (None, 46, 46, 64)        256       \n",
            "_________________________________________________________________\n",
            "max_pooling2d_24 (MaxPooling (None, 22, 22, 64)        0         \n",
            "_________________________________________________________________\n",
            "dropout_42 (Dropout)         (None, 22, 22, 64)        0         \n",
            "_________________________________________________________________\n",
            "conv2d_53 (Conv2D)           (None, 22, 22, 128)       73856     \n",
            "_________________________________________________________________\n",
            "batch_normalization_50 (Batc (None, 22, 22, 128)       512       \n",
            "_________________________________________________________________\n",
            "conv2d_54 (Conv2D)           (None, 22, 22, 128)       147584    \n",
            "_________________________________________________________________\n",
            "batch_normalization_51 (Batc (None, 22, 22, 128)       512       \n",
            "_________________________________________________________________\n",
            "max_pooling2d_25 (MaxPooling (None, 10, 10, 128)       0         \n",
            "_________________________________________________________________\n",
            "dropout_43 (Dropout)         (None, 10, 10, 128)       0         \n",
            "_________________________________________________________________\n",
            "conv2d_55 (Conv2D)           (None, 10, 10, 256)       295168    \n",
            "_________________________________________________________________\n",
            "batch_normalization_52 (Batc (None, 10, 10, 256)       1024      \n",
            "_________________________________________________________________\n",
            "conv2d_56 (Conv2D)           (None, 10, 10, 256)       590080    \n",
            "_________________________________________________________________\n",
            "batch_normalization_53 (Batc (None, 10, 10, 256)       1024      \n",
            "_________________________________________________________________\n",
            "max_pooling2d_26 (MaxPooling (None, 4, 4, 256)         0         \n",
            "_________________________________________________________________\n",
            "dropout_44 (Dropout)         (None, 4, 4, 256)         0         \n",
            "_________________________________________________________________\n",
            "conv2d_57 (Conv2D)           (None, 4, 4, 512)         1180160   \n",
            "_________________________________________________________________\n",
            "batch_normalization_54 (Batc (None, 4, 4, 512)         2048      \n",
            "_________________________________________________________________\n",
            "conv2d_58 (Conv2D)           (None, 4, 4, 512)         2359808   \n",
            "_________________________________________________________________\n",
            "batch_normalization_55 (Batc (None, 4, 4, 512)         2048      \n",
            "_________________________________________________________________\n",
            "max_pooling2d_27 (MaxPooling (None, 2, 2, 512)         0         \n",
            "_________________________________________________________________\n",
            "dropout_45 (Dropout)         (None, 2, 2, 512)         0         \n",
            "_________________________________________________________________\n",
            "flatten_6 (Flatten)          (None, 2048)              0         \n",
            "_________________________________________________________________\n",
            "dense_24 (Dense)             (None, 512)               1049088   \n",
            "_________________________________________________________________\n",
            "dropout_46 (Dropout)         (None, 512)               0         \n",
            "_________________________________________________________________\n",
            "dense_25 (Dense)             (None, 256)               131328    \n",
            "_________________________________________________________________\n",
            "dropout_47 (Dropout)         (None, 256)               0         \n",
            "_________________________________________________________________\n",
            "dense_26 (Dense)             (None, 64)                16448     \n",
            "_________________________________________________________________\n",
            "dropout_48 (Dropout)         (None, 64)                0         \n",
            "_________________________________________________________________\n",
            "dense_27 (Dense)             (None, 7)                 455       \n",
            "=================================================================\n",
            "Total params: 5,889,223\n",
            "Trainable params: 5,885,383\n",
            "Non-trainable params: 3,840\n",
            "_________________________________________________________________\n"
          ],
          "name": "stdout"
        }
      ]
    },
    {
      "cell_type": "markdown",
      "metadata": {
        "id": "tmYbhG-W6bsJ"
      },
      "source": [
        "To address the imbalance in some of the classes, we will try a couple of approaches to calculate the class weights. The second seemed to be more effective."
      ]
    },
    {
      "cell_type": "code",
      "metadata": {
        "colab": {
          "base_uri": "https://localhost:8080/"
        },
        "id": "WZoP-lp8Tobe",
        "outputId": "48e8bcd9-5841-4941-ee63-e74ad39c367a"
      },
      "source": [
        "class_weights = compute_class_weight('balanced', np.unique(y_train), y_train)\n",
        "class_weights = {i : class_weights[i] for i in range(len(class_weights))}\n",
        "print(class_weights)"
      ],
      "execution_count": 20,
      "outputs": [
        {
          "output_type": "stream",
          "text": [
            "{0: 1.0335901497695852, 1: 9.216372391653291, 2: 1.0057100819729559, 3: 0.5677305806043348, 4: 0.8426722240159676, 5: 1.2788542919506436, 6: 0.8335946573751452}\n"
          ],
          "name": "stdout"
        }
      ]
    },
    {
      "cell_type": "markdown",
      "metadata": {
        "id": "MV4xQFucshb4"
      },
      "source": [
        "Alternate class weight computations. From third solution in:\n",
        "\n",
        "https://datascience.stackexchange.com/questions/13490/how-to-set-class-weights-for-imbalanced-classes-in-keras\n",
        "\n"
      ]
    },
    {
      "cell_type": "code",
      "metadata": {
        "colab": {
          "base_uri": "https://localhost:8080/"
        },
        "id": "WFe1J00tpQMT",
        "outputId": "418903fe-b7be-479f-9265-8b9b2552def6"
      },
      "source": [
        "import math\n",
        "\n",
        "def create_class_weight(labels_dict,mu=0.15):\n",
        "    total = sum(labels_dict.values())\n",
        "    keys = labels_dict.keys()\n",
        "    class_weight = dict()\n",
        "\n",
        "    for key in keys:\n",
        "        score = math.log(mu*total/float(labels_dict[key]))\n",
        "        class_weight[key] = score if score > 1.0 else 1.0\n",
        "\n",
        "    return class_weight\n",
        "\n",
        "class_counts = {i : np.bincount(y_train)[i] for i in range(len(classes))}\n",
        "print(class_counts)\n",
        "alt_class_weights = create_class_weight(class_counts)\n",
        "print(alt_class_weights)"
      ],
      "execution_count": 21,
      "outputs": [
        {
          "output_type": "stream",
          "text": [
            "{0: 3968, 1: 445, 2: 4078, 3: 7224, 4: 4867, 5: 3207, 6: 4920}\n",
            "{0: 1.0, 1: 2.269771674387058, 2: 1.0, 3: 1.0, 4: 1.0, 5: 1.0, 6: 1.0}\n"
          ],
          "name": "stdout"
        }
      ]
    },
    {
      "cell_type": "markdown",
      "metadata": {
        "id": "q22lprlB7EeX"
      },
      "source": [
        "Training the model. Employ also early stopping and model checkpoint"
      ]
    },
    {
      "cell_type": "code",
      "metadata": {
        "id": "-EYeydIkbaPX",
        "colab": {
          "base_uri": "https://localhost:8080/"
        },
        "outputId": "15c96814-2972-4465-846c-8458540efa6e"
      },
      "source": [
        "stop = EarlyStopping(monitor='val_acc', patience=5, restore_best_weights=True)\n",
        "\n",
        "checkpoint = ModelCheckpoint('/content/drive/MyDrive/face express data/weights.h5', \n",
        "                             monitor='val_acc', save_best_only=True, \n",
        "                             save_weights_only=True)\n",
        "\n",
        "reduce_learning_rate = ReduceLROnPlateau(monitor='val_loss', factor=0.9, patience=5)\n",
        "\n",
        "history = model.fit(x_train,\n",
        "          y_train,\n",
        "          class_weight=alt_class_weights,\n",
        "          validation_data=(x_test, y_test),\n",
        "          epochs=100,\n",
        "          batch_size=128,\n",
        "          callbacks=[stop, checkpoint])"
      ],
      "execution_count": 53,
      "outputs": [
        {
          "output_type": "stream",
          "text": [
            "Epoch 1/100\n",
            "  2/225 [..............................] - ETA: 9s - loss: 4.2652 - acc: 0.1484WARNING:tensorflow:Callbacks method `on_train_batch_end` is slow compared to the batch time (batch time: 0.0302s vs `on_train_batch_end` time: 0.0528s). Check your callbacks.\n",
            "225/225 [==============================] - 18s 78ms/step - loss: 1.9725 - acc: 0.2214 - val_loss: 1.8288 - val_acc: 0.2459\n",
            "Epoch 2/100\n",
            "225/225 [==============================] - 17s 78ms/step - loss: 1.7600 - acc: 0.3177 - val_loss: 1.9147 - val_acc: 0.2576\n",
            "Epoch 3/100\n",
            "225/225 [==============================] - 17s 76ms/step - loss: 1.5769 - acc: 0.4068 - val_loss: 1.4891 - val_acc: 0.4278\n",
            "Epoch 4/100\n",
            "225/225 [==============================] - 17s 76ms/step - loss: 1.4487 - acc: 0.4681 - val_loss: 1.3801 - val_acc: 0.4820\n",
            "Epoch 5/100\n",
            "225/225 [==============================] - 17s 74ms/step - loss: 1.3612 - acc: 0.5069 - val_loss: 1.3682 - val_acc: 0.4709\n",
            "Epoch 6/100\n",
            "225/225 [==============================] - 17s 76ms/step - loss: 1.3003 - acc: 0.5327 - val_loss: 1.2186 - val_acc: 0.5376\n",
            "Epoch 7/100\n",
            "225/225 [==============================] - 17s 77ms/step - loss: 1.2597 - acc: 0.5511 - val_loss: 1.1949 - val_acc: 0.5573\n",
            "Epoch 8/100\n",
            "225/225 [==============================] - 17s 76ms/step - loss: 1.2158 - acc: 0.5619 - val_loss: 1.1703 - val_acc: 0.5691\n",
            "Epoch 9/100\n",
            "225/225 [==============================] - 17s 74ms/step - loss: 1.1648 - acc: 0.5801 - val_loss: 1.1569 - val_acc: 0.5649\n",
            "Epoch 10/100\n",
            "225/225 [==============================] - 17s 74ms/step - loss: 1.1239 - acc: 0.5932 - val_loss: 1.3102 - val_acc: 0.5465\n",
            "Epoch 11/100\n",
            "225/225 [==============================] - 17s 76ms/step - loss: 1.0963 - acc: 0.6062 - val_loss: 1.1480 - val_acc: 0.5850\n",
            "Epoch 12/100\n",
            "225/225 [==============================] - 17s 75ms/step - loss: 1.0506 - acc: 0.6280 - val_loss: 1.1071 - val_acc: 0.5851\n",
            "Epoch 13/100\n",
            "225/225 [==============================] - 17s 74ms/step - loss: 1.0175 - acc: 0.6366 - val_loss: 1.1357 - val_acc: 0.5731\n",
            "Epoch 14/100\n",
            "225/225 [==============================] - 17s 76ms/step - loss: 0.9670 - acc: 0.6538 - val_loss: 1.0976 - val_acc: 0.5965\n",
            "Epoch 15/100\n",
            "225/225 [==============================] - 17s 76ms/step - loss: 0.9450 - acc: 0.6601 - val_loss: 1.1081 - val_acc: 0.5974\n",
            "Epoch 16/100\n",
            "225/225 [==============================] - 17s 76ms/step - loss: 0.8993 - acc: 0.6765 - val_loss: 1.0449 - val_acc: 0.6245\n",
            "Epoch 17/100\n",
            "225/225 [==============================] - 17s 74ms/step - loss: 0.8587 - acc: 0.6919 - val_loss: 1.2039 - val_acc: 0.5644\n",
            "Epoch 18/100\n",
            "225/225 [==============================] - 17s 74ms/step - loss: 0.8167 - acc: 0.7064 - val_loss: 1.1579 - val_acc: 0.6078\n",
            "Epoch 19/100\n",
            "225/225 [==============================] - 17s 74ms/step - loss: 0.7984 - acc: 0.7152 - val_loss: 1.1088 - val_acc: 0.6213\n",
            "Epoch 20/100\n",
            "225/225 [==============================] - 17s 76ms/step - loss: 0.7554 - acc: 0.7290 - val_loss: 1.0473 - val_acc: 0.6376\n",
            "Epoch 21/100\n",
            "225/225 [==============================] - 17s 74ms/step - loss: 0.7205 - acc: 0.7440 - val_loss: 1.1751 - val_acc: 0.6335\n",
            "Epoch 22/100\n",
            "225/225 [==============================] - 17s 74ms/step - loss: 0.6803 - acc: 0.7582 - val_loss: 1.1683 - val_acc: 0.6190\n",
            "Epoch 23/100\n",
            "225/225 [==============================] - 17s 76ms/step - loss: 0.6564 - acc: 0.7679 - val_loss: 1.1224 - val_acc: 0.6402\n",
            "Epoch 24/100\n",
            "225/225 [==============================] - 17s 76ms/step - loss: 0.6088 - acc: 0.7830 - val_loss: 1.1617 - val_acc: 0.6484\n",
            "Epoch 25/100\n",
            "225/225 [==============================] - 17s 74ms/step - loss: 0.5749 - acc: 0.7954 - val_loss: 1.1991 - val_acc: 0.6360\n",
            "Epoch 26/100\n",
            "225/225 [==============================] - 17s 74ms/step - loss: 0.5594 - acc: 0.8027 - val_loss: 1.1940 - val_acc: 0.6427\n",
            "Epoch 27/100\n",
            "225/225 [==============================] - 17s 74ms/step - loss: 0.5382 - acc: 0.8126 - val_loss: 1.1943 - val_acc: 0.6333\n",
            "Epoch 28/100\n",
            "225/225 [==============================] - 17s 74ms/step - loss: 0.5068 - acc: 0.8242 - val_loss: 1.3695 - val_acc: 0.6236\n",
            "Epoch 29/100\n",
            "225/225 [==============================] - 17s 74ms/step - loss: 0.4950 - acc: 0.8318 - val_loss: 1.3236 - val_acc: 0.6468\n"
          ],
          "name": "stdout"
        }
      ]
    },
    {
      "cell_type": "code",
      "metadata": {
        "id": "YCWDFVU7baPg",
        "colab": {
          "base_uri": "https://localhost:8080/",
          "height": 544
        },
        "outputId": "78881b37-e4f8-475d-e4a6-4408ec140c42"
      },
      "source": [
        "plt.plot(history.history['loss'], label='training')\n",
        "plt.plot(history.history['val_loss'], label='validation')\n",
        "plt.legend()\n",
        "plt.title('Loss')\n",
        "plt.show()\n",
        "\n",
        "plt.plot(history.history['acc'], label='training')\n",
        "plt.plot(history.history['val_acc'], label='validation')\n",
        "plt.legend()\n",
        "plt.title('Accuracy')\n",
        "plt.show()"
      ],
      "execution_count": 54,
      "outputs": [
        {
          "output_type": "display_data",
          "data": {
            "image/png": "[encoded data removed]",
            "text/plain": [
              "<Figure size 432x288 with 1 Axes>"
            ]
          },
          "metadata": {
            "tags": [],
            "needs_background": "light"
          }
        },
        {
          "output_type": "display_data",
          "data": {
            "image/png": "[encoded data removed]",
            "text/plain": [
              "<Figure size 432x288 with 1 Axes>"
            ]
          },
          "metadata": {
            "tags": [],
            "needs_background": "light"
          }
        }
      ]
    },
    {
      "cell_type": "code",
      "metadata": {
        "id": "Nf0ZaS3ibaPu"
      },
      "source": [
        "from sklearn.metrics import confusion_matrix\n"
      ],
      "execution_count": 55,
      "outputs": []
    },
    {
      "cell_type": "code",
      "metadata": {
        "id": "RiYDxLt78lA0"
      },
      "source": [
        "import seaborn as sns"
      ],
      "execution_count": 56,
      "outputs": []
    },
    {
      "cell_type": "code",
      "metadata": {
        "id": "iNH9a3CdbaP3",
        "colab": {
          "base_uri": "https://localhost:8080/",
          "height": 264
        },
        "outputId": "006f9e47-000c-4595-9f9c-216433afca3f"
      },
      "source": [
        "preds = model.predict(x_test)\n",
        "y_pred = [np.argmax(pred) for pred in preds]\n",
        "cm = confusion_matrix(y_test, y_pred)\n",
        "\n",
        "ax = sns.heatmap(cm, annot=True, fmt='d', linewidths=.2, square=True)\n",
        "bottom, top = ax.get_ylim()\n",
        "ax.set_ylim(bottom + 0.5, top - 0.5);\n"
      ],
      "execution_count": 57,
      "outputs": [
        {
          "output_type": "display_data",
          "data": {
            "image/png": "[encoded data removed]",
            "text/plain": [
              "<Figure size 432x288 with 2 Axes>"
            ]
          },
          "metadata": {
            "tags": [],
            "needs_background": "light"
          }
        }
      ]
    },
    {
      "cell_type": "markdown",
      "metadata": {
        "id": "aelD3hux76km"
      },
      "source": [
        "Looks reasonable, save the model"
      ]
    },
    {
      "cell_type": "code",
      "metadata": {
        "id": "crUyKLz6atyo"
      },
      "source": [
        "model.save('/content/drive/MyDrive/face express data/model.h5')"
      ],
      "execution_count": 58,
      "outputs": []
    },
    {
      "cell_type": "markdown",
      "metadata": {
        "id": "rTmdL4837Ma2"
      },
      "source": [
        "Alternatively, load a model that has been trained and saved."
      ]
    },
    {
      "cell_type": "code",
      "metadata": {
        "id": "VxRHTsraxHGh"
      },
      "source": [
        "from tensorflow.keras.models import load_model\n",
        "\n",
        "model = load_model('/content/drive/MyDrive/face express data/model.h5')\n"
      ],
      "execution_count": 59,
      "outputs": []
    },
    {
      "cell_type": "code",
      "metadata": {
        "colab": {
          "base_uri": "https://localhost:8080/"
        },
        "id": "bPfCDz8_ybxd",
        "outputId": "7f414958-d4a4-4cb5-a22f-59eb8e5cce5e"
      },
      "source": [
        "preds = model.predict(x_test)\n",
        "y_pred = [np.argmax(pred) for pred in preds]\n",
        "accuracy_score(y_test, y_pred)"
      ],
      "execution_count": 60,
      "outputs": [
        {
          "output_type": "execute_result",
          "data": {
            "text/plain": [
              "0.6483700195040402"
            ]
          },
          "metadata": {
            "tags": []
          },
          "execution_count": 60
        }
      ]
    },
    {
      "cell_type": "markdown",
      "metadata": {
        "id": "B3HB5luc7ba1"
      },
      "source": [
        "Perform inference on a random selected sample from the test dataset"
      ]
    },
    {
      "cell_type": "code",
      "metadata": {
        "id": "4_aYyjpabaPk"
      },
      "source": [
        "def tryRandomExample():\n",
        "    index = np.random.randint(0, x_test.shape[0])\n",
        "    img = x_test[index]\n",
        "    img = np.expand_dims(img, axis=0)\n",
        "    pred = model.predict(img)\n",
        "    best = np.argmax(pred[0])\n",
        "    \n",
        "    print(classes[best] == classes[y_test[index]])\n",
        "    print(f'Predicted label: {classes[best]}\\nConfidence: {round(pred[0][best] * 100, 2)} %')\n",
        "    print(f'Actual label: {classes[y_test[index]]}')\n",
        "    \n",
        "    plt.imshow(np.squeeze(img[0], axis=-1), cmap='gray')\n",
        "    plt.show()\n",
        "    \n",
        "    df = pd.DataFrame(dict(probs=list(pred[0]), labels=classes))\n",
        "    fig = px.line_polar(df, r='probs', theta='labels', line_close=True)\n",
        "    fig.show()\n",
        "    \n",
        "    "
      ],
      "execution_count": 33,
      "outputs": []
    },
    {
      "cell_type": "code",
      "metadata": {
        "id": "e_uztfdxbaPq",
        "colab": {
          "base_uri": "https://localhost:8080/",
          "height": 863
        },
        "outputId": "8576e611-e8f8-402b-90e8-c77997ed9594"
      },
      "source": [
        "tryRandomExample()"
      ],
      "execution_count": 63,
      "outputs": [
        {
          "output_type": "stream",
          "text": [
            "True\n",
            "Predicted label: Happy\n",
            "Confidence: 99.98 %\n",
            "Actual label: Happy\n"
          ],
          "name": "stdout"
        },
        {
          "output_type": "display_data",
          "data": {
            "image/png": "[encoded data removed]",
            "text/plain": [
              "<Figure size 432x288 with 1 Axes>"
            ]
          },
          "metadata": {
            "tags": [],
            "needs_background": "light"
          }
        },
        {
          "output_type": "display_data",
          "data": {
            "text/html": [
              "<html>\n",
              "<head><meta charset=\"utf-8\" /></head>\n",
              "<body>\n",
              "    <div>\n",
              "            <script src=\"https://cdnjs.cloudflare.com/ajax/libs/mathjax/2.7.5/MathJax.js?config=TeX-AMS-MML_SVG\"></script><script type=\"text/javascript\">if (window.MathJax) {MathJax.Hub.Config({SVG: {font: \"STIX-Web\"}});}</script>\n",
              "                <script type=\"text/javascript\">window.PlotlyConfig = {MathJaxConfig: 'local'};</script>\n",
              "        <script src=\"https://cdn.plot.ly/plotly-latest.min.js\"></script>    \n",
              "            <div id=\"d10d43e3-96b1-483c-90b2-12eb50f34bf4\" class=\"plotly-graph-div\" style=\"height:525px; width:100%;\"></div>\n",
              "            <script type=\"text/javascript\">\n",
              "                \n",
              "                    window.PLOTLYENV=window.PLOTLYENV || {};\n",
              "                    \n",
              "                if (document.getElementById(\"d10d43e3-96b1-483c-90b2-12eb50f34bf4\")) {\n",
              "                    Plotly.newPlot(\n",
              "                        'd10d43e3-96b1-483c-90b2-12eb50f34bf4',\n",
              "                        [{\"hoverlabel\": {\"namelength\": 0}, \"hovertemplate\": \"probs=%{r}<br>labels=%{theta}\", \"legendgroup\": \"\", \"line\": {\"color\": \"#636efa\", \"dash\": \"solid\"}, \"mode\": \"lines\", \"name\": \"\", \"r\": [1.5313393078031368e-06, 3.7776989608475853e-19, 5.988647444610251e-06, 0.9998323917388916, 1.3803469300910365e-05, 7.835841131509369e-08, 0.0001462488726247102, 1.5313393078031368e-06], \"showlegend\": false, \"subplot\": \"polar\", \"theta\": [\"Angry\", \"Disgust\", \"Fear\", \"Happy\", \"Sad\", \"Surprise\", \"Neutral\", \"Angry\"], \"type\": \"scatterpolar\"}],\n",
              "                        {\"legend\": {\"tracegroupgap\": 0}, \"margin\": {\"t\": 60}, \"polar\": {\"angularaxis\": {\"direction\": \"clockwise\", \"rotation\": 90}, \"domain\": {\"x\": [0.0, 1.0], \"y\": [0.0, 1.0]}}, \"template\": {\"data\": {\"bar\": [{\"error_x\": {\"color\": \"#2a3f5f\"}, \"error_y\": {\"color\": \"#2a3f5f\"}, \"marker\": {\"line\": {\"color\": \"#E5ECF6\", \"width\": 0.5}}, \"type\": \"bar\"}], \"barpolar\": [{\"marker\": {\"line\": {\"color\": \"#E5ECF6\", \"width\": 0.5}}, \"type\": \"barpolar\"}], \"carpet\": [{\"aaxis\": {\"endlinecolor\": \"#2a3f5f\", \"gridcolor\": \"white\", \"linecolor\": \"white\", \"minorgridcolor\": \"white\", \"startlinecolor\": \"#2a3f5f\"}, \"baxis\": {\"endlinecolor\": \"#2a3f5f\", \"gridcolor\": \"white\", \"linecolor\": \"white\", \"minorgridcolor\": \"white\", \"startlinecolor\": \"#2a3f5f\"}, \"type\": \"carpet\"}], \"choropleth\": [{\"colorbar\": {\"outlinewidth\": 0, \"ticks\": \"\"}, \"type\": \"choropleth\"}], \"contour\": [{\"colorbar\": {\"outlinewidth\": 0, \"ticks\": \"\"}, \"colorscale\": [[0.0, \"#0d0887\"], [0.1111111111111111, \"#46039f\"], [0.2222222222222222, \"#7201a8\"], [0.3333333333333333, \"#9c179e\"], [0.4444444444444444, \"#bd3786\"], [0.5555555555555556, \"#d8576b\"], [0.6666666666666666, \"#ed7953\"], [0.7777777777777778, \"#fb9f3a\"], [0.8888888888888888, \"#fdca26\"], [1.0, \"#f0f921\"]], \"type\": \"contour\"}], \"contourcarpet\": [{\"colorbar\": {\"outlinewidth\": 0, \"ticks\": \"\"}, \"type\": \"contourcarpet\"}], \"heatmap\": [{\"colorbar\": {\"outlinewidth\": 0, \"ticks\": \"\"}, \"colorscale\": [[0.0, \"#0d0887\"], [0.1111111111111111, \"#46039f\"], [0.2222222222222222, \"#7201a8\"], [0.3333333333333333, \"#9c179e\"], [0.4444444444444444, \"#bd3786\"], [0.5555555555555556, \"#d8576b\"], [0.6666666666666666, \"#ed7953\"], [0.7777777777777778, \"#fb9f3a\"], [0.8888888888888888, \"#fdca26\"], [1.0, \"#f0f921\"]], \"type\": \"heatmap\"}], \"heatmapgl\": [{\"colorbar\": {\"outlinewidth\": 0, \"ticks\": \"\"}, \"colorscale\": [[0.0, \"#0d0887\"], [0.1111111111111111, \"#46039f\"], [0.2222222222222222, \"#7201a8\"], [0.3333333333333333, \"#9c179e\"], [0.4444444444444444, \"#bd3786\"], [0.5555555555555556, \"#d8576b\"], [0.6666666666666666, \"#ed7953\"], [0.7777777777777778, \"#fb9f3a\"], [0.8888888888888888, \"#fdca26\"], [1.0, \"#f0f921\"]], \"type\": \"heatmapgl\"}], \"histogram\": [{\"marker\": {\"colorbar\": {\"outlinewidth\": 0, \"ticks\": \"\"}}, \"type\": \"histogram\"}], \"histogram2d\": [{\"colorbar\": {\"outlinewidth\": 0, \"ticks\": \"\"}, \"colorscale\": [[0.0, \"#0d0887\"], [0.1111111111111111, \"#46039f\"], [0.2222222222222222, \"#7201a8\"], [0.3333333333333333, \"#9c179e\"], [0.4444444444444444, \"#bd3786\"], [0.5555555555555556, \"#d8576b\"], [0.6666666666666666, \"#ed7953\"], [0.7777777777777778, \"#fb9f3a\"], [0.8888888888888888, \"#fdca26\"], [1.0, \"#f0f921\"]], \"type\": \"histogram2d\"}], \"histogram2dcontour\": [{\"colorbar\": {\"outlinewidth\": 0, \"ticks\": \"\"}, \"colorscale\": [[0.0, \"#0d0887\"], [0.1111111111111111, \"#46039f\"], [0.2222222222222222, \"#7201a8\"], [0.3333333333333333, \"#9c179e\"], [0.4444444444444444, \"#bd3786\"], [0.5555555555555556, \"#d8576b\"], [0.6666666666666666, \"#ed7953\"], [0.7777777777777778, \"#fb9f3a\"], [0.8888888888888888, \"#fdca26\"], [1.0, \"#f0f921\"]], \"type\": \"histogram2dcontour\"}], \"mesh3d\": [{\"colorbar\": {\"outlinewidth\": 0, \"ticks\": \"\"}, \"type\": \"mesh3d\"}], \"parcoords\": [{\"line\": {\"colorbar\": {\"outlinewidth\": 0, \"ticks\": \"\"}}, \"type\": \"parcoords\"}], \"pie\": [{\"automargin\": true, \"type\": \"pie\"}], \"scatter\": [{\"marker\": {\"colorbar\": {\"outlinewidth\": 0, \"ticks\": \"\"}}, \"type\": \"scatter\"}], \"scatter3d\": [{\"line\": {\"colorbar\": {\"outlinewidth\": 0, \"ticks\": \"\"}}, \"marker\": {\"colorbar\": {\"outlinewidth\": 0, \"ticks\": \"\"}}, \"type\": \"scatter3d\"}], \"scattercarpet\": [{\"marker\": {\"colorbar\": {\"outlinewidth\": 0, \"ticks\": \"\"}}, \"type\": \"scattercarpet\"}], \"scattergeo\": [{\"marker\": {\"colorbar\": {\"outlinewidth\": 0, \"ticks\": \"\"}}, \"type\": \"scattergeo\"}], \"scattergl\": [{\"marker\": {\"colorbar\": {\"outlinewidth\": 0, \"ticks\": \"\"}}, \"type\": \"scattergl\"}], \"scattermapbox\": [{\"marker\": {\"colorbar\": {\"outlinewidth\": 0, \"ticks\": \"\"}}, \"type\": \"scattermapbox\"}], \"scatterpolar\": [{\"marker\": {\"colorbar\": {\"outlinewidth\": 0, \"ticks\": \"\"}}, \"type\": \"scatterpolar\"}], \"scatterpolargl\": [{\"marker\": {\"colorbar\": {\"outlinewidth\": 0, \"ticks\": \"\"}}, \"type\": \"scatterpolargl\"}], \"scatterternary\": [{\"marker\": {\"colorbar\": {\"outlinewidth\": 0, \"ticks\": \"\"}}, \"type\": \"scatterternary\"}], \"surface\": [{\"colorbar\": {\"outlinewidth\": 0, \"ticks\": \"\"}, \"colorscale\": [[0.0, \"#0d0887\"], [0.1111111111111111, \"#46039f\"], [0.2222222222222222, \"#7201a8\"], [0.3333333333333333, \"#9c179e\"], [0.4444444444444444, \"#bd3786\"], [0.5555555555555556, \"#d8576b\"], [0.6666666666666666, \"#ed7953\"], [0.7777777777777778, \"#fb9f3a\"], [0.8888888888888888, \"#fdca26\"], [1.0, \"#f0f921\"]], \"type\": \"surface\"}], \"table\": [{\"cells\": {\"fill\": {\"color\": \"#EBF0F8\"}, \"line\": {\"color\": \"white\"}}, \"header\": {\"fill\": {\"color\": \"#C8D4E3\"}, \"line\": {\"color\": \"white\"}}, \"type\": \"table\"}]}, \"layout\": {\"annotationdefaults\": {\"arrowcolor\": \"#2a3f5f\", \"arrowhead\": 0, \"arrowwidth\": 1}, \"coloraxis\": {\"colorbar\": {\"outlinewidth\": 0, \"ticks\": \"\"}}, \"colorscale\": {\"diverging\": [[0, \"#8e0152\"], [0.1, \"#c51b7d\"], [0.2, \"#de77ae\"], [0.3, \"#f1b6da\"], [0.4, \"#fde0ef\"], [0.5, \"#f7f7f7\"], [0.6, \"#e6f5d0\"], [0.7, \"#b8e186\"], [0.8, \"#7fbc41\"], [0.9, \"#4d9221\"], [1, \"#276419\"]], \"sequential\": [[0.0, \"#0d0887\"], [0.1111111111111111, \"#46039f\"], [0.2222222222222222, \"#7201a8\"], [0.3333333333333333, \"#9c179e\"], [0.4444444444444444, \"#bd3786\"], [0.5555555555555556, \"#d8576b\"], [0.6666666666666666, \"#ed7953\"], [0.7777777777777778, \"#fb9f3a\"], [0.8888888888888888, \"#fdca26\"], [1.0, \"#f0f921\"]], \"sequentialminus\": [[0.0, \"#0d0887\"], [0.1111111111111111, \"#46039f\"], [0.2222222222222222, \"#7201a8\"], [0.3333333333333333, \"#9c179e\"], [0.4444444444444444, \"#bd3786\"], [0.5555555555555556, \"#d8576b\"], [0.6666666666666666, \"#ed7953\"], [0.7777777777777778, \"#fb9f3a\"], [0.8888888888888888, \"#fdca26\"], [1.0, \"#f0f921\"]]}, \"colorway\": [\"#636efa\", \"#EF553B\", \"#00cc96\", \"#ab63fa\", \"#FFA15A\", \"#19d3f3\", \"#FF6692\", \"#B6E880\", \"#FF97FF\", \"#FECB52\"], \"font\": {\"color\": \"#2a3f5f\"}, \"geo\": {\"bgcolor\": \"white\", \"lakecolor\": \"white\", \"landcolor\": \"#E5ECF6\", \"showlakes\": true, \"showland\": true, \"subunitcolor\": \"white\"}, \"hoverlabel\": {\"align\": \"left\"}, \"hovermode\": \"closest\", \"mapbox\": {\"style\": \"light\"}, \"paper_bgcolor\": \"white\", \"plot_bgcolor\": \"#E5ECF6\", \"polar\": {\"angularaxis\": {\"gridcolor\": \"white\", \"linecolor\": \"white\", \"ticks\": \"\"}, \"bgcolor\": \"#E5ECF6\", \"radialaxis\": {\"gridcolor\": \"white\", \"linecolor\": \"white\", \"ticks\": \"\"}}, \"scene\": {\"xaxis\": {\"backgroundcolor\": \"#E5ECF6\", \"gridcolor\": \"white\", \"gridwidth\": 2, \"linecolor\": \"white\", \"showbackground\": true, \"ticks\": \"\", \"zerolinecolor\": \"white\"}, \"yaxis\": {\"backgroundcolor\": \"#E5ECF6\", \"gridcolor\": \"white\", \"gridwidth\": 2, \"linecolor\": \"white\", \"showbackground\": true, \"ticks\": \"\", \"zerolinecolor\": \"white\"}, \"zaxis\": {\"backgroundcolor\": \"#E5ECF6\", \"gridcolor\": \"white\", \"gridwidth\": 2, \"linecolor\": \"white\", \"showbackground\": true, \"ticks\": \"\", \"zerolinecolor\": \"white\"}}, \"shapedefaults\": {\"line\": {\"color\": \"#2a3f5f\"}}, \"ternary\": {\"aaxis\": {\"gridcolor\": \"white\", \"linecolor\": \"white\", \"ticks\": \"\"}, \"baxis\": {\"gridcolor\": \"white\", \"linecolor\": \"white\", \"ticks\": \"\"}, \"bgcolor\": \"#E5ECF6\", \"caxis\": {\"gridcolor\": \"white\", \"linecolor\": \"white\", \"ticks\": \"\"}}, \"title\": {\"x\": 0.05}, \"xaxis\": {\"automargin\": true, \"gridcolor\": \"white\", \"linecolor\": \"white\", \"ticks\": \"\", \"title\": {\"standoff\": 15}, \"zerolinecolor\": \"white\", \"zerolinewidth\": 2}, \"yaxis\": {\"automargin\": true, \"gridcolor\": \"white\", \"linecolor\": \"white\", \"ticks\": \"\", \"title\": {\"standoff\": 15}, \"zerolinecolor\": \"white\", \"zerolinewidth\": 2}}}},\n",
              "                        {\"responsive\": true}\n",
              "                    ).then(function(){\n",
              "                            \n",
              "var gd = document.getElementById('d10d43e3-96b1-483c-90b2-12eb50f34bf4');\n",
              "var x = new MutationObserver(function (mutations, observer) {{\n",
              "        var display = window.getComputedStyle(gd).display;\n",
              "        if (!display || display === 'none') {{\n",
              "            console.log([gd, 'removed!']);\n",
              "            Plotly.purge(gd);\n",
              "            observer.disconnect();\n",
              "        }}\n",
              "}});\n",
              "\n",
              "// Listen for the removal of the full notebook cells\n",
              "var notebookContainer = gd.closest('#notebook-container');\n",
              "if (notebookContainer) {{\n",
              "    x.observe(notebookContainer, {childList: true});\n",
              "}}\n",
              "\n",
              "// Listen for the clearing of the current output cell\n",
              "var outputEl = gd.closest('.output');\n",
              "if (outputEl) {{\n",
              "    x.observe(outputEl, {childList: true});\n",
              "}}\n",
              "\n",
              "                        })\n",
              "                };\n",
              "                \n",
              "            </script>\n",
              "        </div>\n",
              "</body>\n",
              "</html>"
            ]
          },
          "metadata": {
            "tags": []
          }
        }
      ]
    },
    {
      "cell_type": "code",
      "metadata": {
        "id": "SbmbXLRuVhEx"
      },
      "source": [
        ""
      ],
      "execution_count": null,
      "outputs": []
    }
  ]
}