{
 "cells": [
  {
   "cell_type": "code",
   "execution_count": 1,
   "metadata": {},
   "outputs": [],
   "source": [
    "import pandas as pd\n",
    "import matplotlib.pyplot as plt\n",
    "import numpy as np"
   ]
  },
  {
   "cell_type": "code",
   "execution_count": 2,
   "metadata": {},
   "outputs": [],
   "source": [
    "def loadCleanData(fname):\n",
    "    df = pd.read_csv(fname)\n",
    "    \n",
    "    # regularize capitalization and remove leading space in column headings\n",
    "    fix_cols = {s : s.lower().strip() for s in df.columns.to_list()}\n",
    "    df.rename(columns = fix_cols, inplace=True)\n",
    "    \n",
    "    # convert pixels from strings to lists of integers\n",
    "    df['pixels'] = df['pixels'].apply(lambda x: [int(i) for i in x.split()])\n",
    "    \n",
    "    df.drop('usage', axis=1, inplace=True)\n",
    "    \n",
    "    return df"
   ]
  },
  {
   "cell_type": "code",
   "execution_count": 5,
   "metadata": {},
   "outputs": [
    {
     "data": {
      "text/html": [
       "<div>\n",
       "<style scoped>\n",
       "    .dataframe tbody tr th:only-of-type {\n",
       "        vertical-align: middle;\n",
       "    }\n",
       "\n",
       "    .dataframe tbody tr th {\n",
       "        vertical-align: top;\n",
       "    }\n",
       "\n",
       "    .dataframe thead th {\n",
       "        text-align: right;\n",
       "    }\n",
       "</style>\n",
       "<table border=\"1\" class=\"dataframe\">\n",
       "  <thead>\n",
       "    <tr style=\"text-align: right;\">\n",
       "      <th></th>\n",
       "      <th>emotion</th>\n",
       "      <th>pixels</th>\n",
       "    </tr>\n",
       "  </thead>\n",
       "  <tbody>\n",
       "    <tr>\n",
       "      <td>0</td>\n",
       "      <td>0</td>\n",
       "      <td>[70, 80, 82, 72, 58, 58, 60, 63, 54, 58, 60, 4...</td>\n",
       "    </tr>\n",
       "    <tr>\n",
       "      <td>1</td>\n",
       "      <td>0</td>\n",
       "      <td>[151, 150, 147, 155, 148, 133, 111, 140, 170, ...</td>\n",
       "    </tr>\n",
       "    <tr>\n",
       "      <td>2</td>\n",
       "      <td>2</td>\n",
       "      <td>[231, 212, 156, 164, 174, 138, 161, 173, 182, ...</td>\n",
       "    </tr>\n",
       "    <tr>\n",
       "      <td>3</td>\n",
       "      <td>4</td>\n",
       "      <td>[24, 32, 36, 30, 32, 23, 19, 20, 30, 41, 21, 2...</td>\n",
       "    </tr>\n",
       "    <tr>\n",
       "      <td>4</td>\n",
       "      <td>6</td>\n",
       "      <td>[4, 0, 0, 0, 0, 0, 0, 0, 0, 0, 0, 0, 3, 15, 23...</td>\n",
       "    </tr>\n",
       "  </tbody>\n",
       "</table>\n",
       "</div>"
      ],
      "text/plain": [
       "   emotion                                             pixels\n",
       "0        0  [70, 80, 82, 72, 58, 58, 60, 63, 54, 58, 60, 4...\n",
       "1        0  [151, 150, 147, 155, 148, 133, 111, 140, 170, ...\n",
       "2        2  [231, 212, 156, 164, 174, 138, 161, 173, 182, ...\n",
       "3        4  [24, 32, 36, 30, 32, 23, 19, 20, 30, 41, 21, 2...\n",
       "4        6  [4, 0, 0, 0, 0, 0, 0, 0, 0, 0, 0, 0, 3, 15, 23..."
      ]
     },
     "execution_count": 5,
     "metadata": {},
     "output_type": "execute_result"
    }
   ],
   "source": [
    "df = loadCleanData('../data/icml_face_data.csv')\n",
    "df.head()"
   ]
  },
  {
   "cell_type": "code",
   "execution_count": 9,
   "metadata": {},
   "outputs": [],
   "source": [
    "classes = ['Neutral', 'Happy', 'Surprise', 'Sad', 'Angry', 'Disgust', 'Fear']"
   ]
  },
  {
   "cell_type": "code",
   "execution_count": 10,
   "metadata": {},
   "outputs": [],
   "source": [
    "def showExample(df, index):\n",
    "    img = np.array(df.iloc[index]['pixels']).reshape(48, 48)\n",
    "    plt.imshow(img, cmap='gray')\n",
    "    plt.title(classes[df.iloc[index]['emotion']])\n",
    "    plt.show()\n",
    "    "
   ]
  },
  {
   "cell_type": "code",
   "execution_count": 11,
   "metadata": {},
   "outputs": [
    {
     "data": {
      "image/png": "[encoded data removed]",
      "text/plain": [
       "<Figure size 432x288 with 1 Axes>"
      ]
     },
     "metadata": {
      "needs_background": "light"
     },
     "output_type": "display_data"
    }
   ],
   "source": [
    "showExample(df, 8)"
   ]
  },
  {
   "cell_type": "code",
   "execution_count": 14,
   "metadata": {},
   "outputs": [],
   "source": [
    "# Majority rule\n",
    "def makeClasses(votes):\n",
    "  probs = []\n",
    "  for row in range(votes.shape[0]):\n",
    "    # put any contempt votes to disgust\n",
    "    votes[row][5] += votes[row][7]\n",
    "    y = np.argmax(votes[row][:7])\n",
    "    probs.append(y)\n",
    "\n",
    "  return np.array(probs)"
   ]
  },
  {
   "cell_type": "code",
   "execution_count": 15,
   "metadata": {},
   "outputs": [],
   "source": [
    "df_labels = pd.read_csv('https://raw.githubusercontent.com/microsoft/FERPlus/master/fer2013new.csv')\n",
    "df_labels = df_labels[['neutral', 'happiness', 'surprise', 'sadness', 'anger', 'disgust', 'fear', 'contempt', 'unknown', 'NF']]\n",
    "fer2013_new = pd.concat([df, df_labels], axis=1)\n",
    "fer2013_new = fer2013_new[fer2013_new['NF'] < 10]\n"
   ]
  },
  {
   "cell_type": "code",
   "execution_count": 16,
   "metadata": {},
   "outputs": [
    {
     "data": {
      "text/html": [
       "<div>\n",
       "<style scoped>\n",
       "    .dataframe tbody tr th:only-of-type {\n",
       "        vertical-align: middle;\n",
       "    }\n",
       "\n",
       "    .dataframe tbody tr th {\n",
       "        vertical-align: top;\n",
       "    }\n",
       "\n",
       "    .dataframe thead th {\n",
       "        text-align: right;\n",
       "    }\n",
       "</style>\n",
       "<table border=\"1\" class=\"dataframe\">\n",
       "  <thead>\n",
       "    <tr style=\"text-align: right;\">\n",
       "      <th></th>\n",
       "      <th>emotion</th>\n",
       "      <th>pixels</th>\n",
       "      <th>neutral</th>\n",
       "      <th>happiness</th>\n",
       "      <th>surprise</th>\n",
       "      <th>sadness</th>\n",
       "      <th>anger</th>\n",
       "      <th>disgust</th>\n",
       "      <th>fear</th>\n",
       "      <th>contempt</th>\n",
       "      <th>unknown</th>\n",
       "      <th>NF</th>\n",
       "    </tr>\n",
       "  </thead>\n",
       "  <tbody>\n",
       "    <tr>\n",
       "      <td>0</td>\n",
       "      <td>0</td>\n",
       "      <td>[70, 80, 82, 72, 58, 58, 60, 63, 54, 58, 60, 4...</td>\n",
       "      <td>4</td>\n",
       "      <td>0</td>\n",
       "      <td>0</td>\n",
       "      <td>1</td>\n",
       "      <td>3</td>\n",
       "      <td>2</td>\n",
       "      <td>0</td>\n",
       "      <td>0</td>\n",
       "      <td>0</td>\n",
       "      <td>0</td>\n",
       "    </tr>\n",
       "    <tr>\n",
       "      <td>1</td>\n",
       "      <td>0</td>\n",
       "      <td>[151, 150, 147, 155, 148, 133, 111, 140, 170, ...</td>\n",
       "      <td>6</td>\n",
       "      <td>0</td>\n",
       "      <td>1</td>\n",
       "      <td>1</td>\n",
       "      <td>0</td>\n",
       "      <td>0</td>\n",
       "      <td>0</td>\n",
       "      <td>0</td>\n",
       "      <td>2</td>\n",
       "      <td>0</td>\n",
       "    </tr>\n",
       "    <tr>\n",
       "      <td>2</td>\n",
       "      <td>0</td>\n",
       "      <td>[231, 212, 156, 164, 174, 138, 161, 173, 182, ...</td>\n",
       "      <td>5</td>\n",
       "      <td>0</td>\n",
       "      <td>0</td>\n",
       "      <td>3</td>\n",
       "      <td>1</td>\n",
       "      <td>0</td>\n",
       "      <td>0</td>\n",
       "      <td>0</td>\n",
       "      <td>1</td>\n",
       "      <td>0</td>\n",
       "    </tr>\n",
       "    <tr>\n",
       "      <td>3</td>\n",
       "      <td>0</td>\n",
       "      <td>[24, 32, 36, 30, 32, 23, 19, 20, 30, 41, 21, 2...</td>\n",
       "      <td>4</td>\n",
       "      <td>0</td>\n",
       "      <td>0</td>\n",
       "      <td>4</td>\n",
       "      <td>1</td>\n",
       "      <td>0</td>\n",
       "      <td>0</td>\n",
       "      <td>0</td>\n",
       "      <td>1</td>\n",
       "      <td>0</td>\n",
       "    </tr>\n",
       "    <tr>\n",
       "      <td>4</td>\n",
       "      <td>0</td>\n",
       "      <td>[4, 0, 0, 0, 0, 0, 0, 0, 0, 0, 0, 0, 3, 15, 23...</td>\n",
       "      <td>9</td>\n",
       "      <td>0</td>\n",
       "      <td>0</td>\n",
       "      <td>1</td>\n",
       "      <td>0</td>\n",
       "      <td>0</td>\n",
       "      <td>0</td>\n",
       "      <td>0</td>\n",
       "      <td>0</td>\n",
       "      <td>0</td>\n",
       "    </tr>\n",
       "    <tr>\n",
       "      <td>5</td>\n",
       "      <td>0</td>\n",
       "      <td>[55, 55, 55, 55, 55, 54, 60, 68, 54, 85, 151, ...</td>\n",
       "      <td>6</td>\n",
       "      <td>0</td>\n",
       "      <td>0</td>\n",
       "      <td>1</td>\n",
       "      <td>0</td>\n",
       "      <td>0</td>\n",
       "      <td>1</td>\n",
       "      <td>1</td>\n",
       "      <td>1</td>\n",
       "      <td>0</td>\n",
       "    </tr>\n",
       "    <tr>\n",
       "      <td>6</td>\n",
       "      <td>3</td>\n",
       "      <td>[20, 17, 19, 21, 25, 38, 42, 42, 46, 54, 56, 6...</td>\n",
       "      <td>2</td>\n",
       "      <td>0</td>\n",
       "      <td>0</td>\n",
       "      <td>8</td>\n",
       "      <td>0</td>\n",
       "      <td>0</td>\n",
       "      <td>0</td>\n",
       "      <td>0</td>\n",
       "      <td>0</td>\n",
       "      <td>0</td>\n",
       "    </tr>\n",
       "    <tr>\n",
       "      <td>7</td>\n",
       "      <td>1</td>\n",
       "      <td>[77, 78, 79, 79, 78, 75, 60, 55, 47, 48, 58, 7...</td>\n",
       "      <td>0</td>\n",
       "      <td>10</td>\n",
       "      <td>0</td>\n",
       "      <td>0</td>\n",
       "      <td>0</td>\n",
       "      <td>0</td>\n",
       "      <td>0</td>\n",
       "      <td>0</td>\n",
       "      <td>0</td>\n",
       "      <td>0</td>\n",
       "    </tr>\n",
       "    <tr>\n",
       "      <td>8</td>\n",
       "      <td>1</td>\n",
       "      <td>[85, 84, 90, 121, 101, 102, 133, 153, 153, 169...</td>\n",
       "      <td>0</td>\n",
       "      <td>10</td>\n",
       "      <td>0</td>\n",
       "      <td>0</td>\n",
       "      <td>0</td>\n",
       "      <td>0</td>\n",
       "      <td>0</td>\n",
       "      <td>0</td>\n",
       "      <td>0</td>\n",
       "      <td>0</td>\n",
       "    </tr>\n",
       "    <tr>\n",
       "      <td>9</td>\n",
       "      <td>2</td>\n",
       "      <td>[255, 254, 255, 254, 254, 179, 122, 107, 95, 1...</td>\n",
       "      <td>0</td>\n",
       "      <td>0</td>\n",
       "      <td>6</td>\n",
       "      <td>0</td>\n",
       "      <td>0</td>\n",
       "      <td>0</td>\n",
       "      <td>4</td>\n",
       "      <td>0</td>\n",
       "      <td>0</td>\n",
       "      <td>0</td>\n",
       "    </tr>\n",
       "  </tbody>\n",
       "</table>\n",
       "</div>"
      ],
      "text/plain": [
       "   emotion                                             pixels  neutral  \\\n",
       "0        0  [70, 80, 82, 72, 58, 58, 60, 63, 54, 58, 60, 4...        4   \n",
       "1        0  [151, 150, 147, 155, 148, 133, 111, 140, 170, ...        6   \n",
       "2        0  [231, 212, 156, 164, 174, 138, 161, 173, 182, ...        5   \n",
       "3        0  [24, 32, 36, 30, 32, 23, 19, 20, 30, 41, 21, 2...        4   \n",
       "4        0  [4, 0, 0, 0, 0, 0, 0, 0, 0, 0, 0, 0, 3, 15, 23...        9   \n",
       "5        0  [55, 55, 55, 55, 55, 54, 60, 68, 54, 85, 151, ...        6   \n",
       "6        3  [20, 17, 19, 21, 25, 38, 42, 42, 46, 54, 56, 6...        2   \n",
       "7        1  [77, 78, 79, 79, 78, 75, 60, 55, 47, 48, 58, 7...        0   \n",
       "8        1  [85, 84, 90, 121, 101, 102, 133, 153, 153, 169...        0   \n",
       "9        2  [255, 254, 255, 254, 254, 179, 122, 107, 95, 1...        0   \n",
       "\n",
       "   happiness  surprise  sadness  anger  disgust  fear  contempt  unknown  NF  \n",
       "0          0         0        1      3        2     0         0        0   0  \n",
       "1          0         1        1      0        0     0         0        2   0  \n",
       "2          0         0        3      1        0     0         0        1   0  \n",
       "3          0         0        4      1        0     0         0        1   0  \n",
       "4          0         0        1      0        0     0         0        0   0  \n",
       "5          0         0        1      0        0     1         1        1   0  \n",
       "6          0         0        8      0        0     0         0        0   0  \n",
       "7         10         0        0      0        0     0         0        0   0  \n",
       "8         10         0        0      0        0     0         0        0   0  \n",
       "9          0         6        0      0        0     4         0        0   0  "
      ]
     },
     "execution_count": 16,
     "metadata": {},
     "output_type": "execute_result"
    }
   ],
   "source": [
    "y = fer2013_new[['neutral', 'happiness', 'surprise', 'sadness', 'anger', 'disgust', 'fear', 'contempt']].values\n",
    "fer2013_new['emotion'] = makeClasses(y)\n",
    "fer2013_new.head(10)"
   ]
  },
  {
   "cell_type": "code",
   "execution_count": 18,
   "metadata": {},
   "outputs": [
    {
     "data": {
      "image/png": "[encoded data removed]",
      "text/plain": [
       "<Figure size 432x288 with 1 Axes>"
      ]
     },
     "metadata": {
      "needs_background": "light"
     },
     "output_type": "display_data"
    }
   ],
   "source": [
    "showExample(fer2013_new, 8)"
   ]
  },
  {
   "cell_type": "code",
   "execution_count": 24,
   "metadata": {},
   "outputs": [],
   "source": [
    "from sklearn.model_selection import train_test_split\n",
    "from sklearn.metrics import accuracy_score\n",
    "from sklearn.dummy import DummyClassifier\n",
    "\n",
    "from tensorflow.keras.layers import Dense, Dropout, Conv2D, MaxPool2D, Flatten, BatchNormalization\n",
    "from tensorflow.keras.models import Sequential\n",
    "from tensorflow.keras.callbacks import EarlyStopping, ModelCheckpoint, ReduceLROnPlateau"
   ]
  },
  {
   "cell_type": "code",
   "execution_count": 27,
   "metadata": {},
   "outputs": [
    {
     "data": {
      "text/plain": [
       "((28568,), (7143,), (28568,), (7143,))"
      ]
     },
     "execution_count": 27,
     "metadata": {},
     "output_type": "execute_result"
    }
   ],
   "source": [
    "x_train, x_test, y_train, y_test = train_test_split(fer2013_new['pixels'],\n",
    "                                                    fer2013_new['emotion'],\n",
    "                                                    test_size=0.2,\n",
    "                                                    random_state=42,\n",
    "                                                    stratify=fer2013_new['emotion'])\n",
    "\n",
    "x_train.shape, x_test.shape, y_train.shape, y_test.shape"
   ]
  },
  {
   "cell_type": "code",
   "execution_count": 28,
   "metadata": {},
   "outputs": [
    {
     "name": "stdout",
     "output_type": "stream",
     "text": [
      "Total baseline = 22.95 %\n"
     ]
    },
    {
     "name": "stderr",
     "output_type": "stream",
     "text": [
      "C:\\Users\\A\\AppData\\Local\\Continuum\\anaconda3\\lib\\site-packages\\sklearn\\dummy.py:132: FutureWarning: The default value of strategy will change from stratified to prior in 0.24.\n",
      "  \"stratified to prior in 0.24.\", FutureWarning)\n"
     ]
    }
   ],
   "source": [
    "clf = DummyClassifier()\n",
    "clf.fit(x_train, y_train)\n",
    "score = clf.score(x_test, y_test)\n",
    "print(f'Total baseline = {round(score * 100, 2)} %')"
   ]
  },
  {
   "cell_type": "code",
   "execution_count": 29,
   "metadata": {},
   "outputs": [
    {
     "data": {
      "text/plain": [
       "((28568, 48, 48, 1), (28568,))"
      ]
     },
     "execution_count": 29,
     "metadata": {},
     "output_type": "execute_result"
    }
   ],
   "source": [
    "# transform lists of integers into numpy arrays, and normalize the values\n",
    "x_train = np.vstack(x_train) / 255\n",
    "x_test = np.vstack(x_test) / 255\n",
    "\n",
    "# reshape arrays into (m, h, w, c). As they are square, we can get the height\n",
    "# and width values as a square root of the length the original 1-d array.\n",
    "n = int(np.sqrt(x_train.shape[1]))\n",
    "x_train = x_train.reshape(x_train.shape[0], n, n, 1)\n",
    "x_test = x_test.reshape(x_test.shape[0], n, n, 1)\n",
    "\n",
    "# Convert the pandas series of target classes to numpy array\n",
    "y_train = np.asarray(y_train)\n",
    "y_test = np.asarray(y_test)\n",
    "\n",
    "x_train.shape, y_train.shape"
   ]
  },
  {
   "cell_type": "code",
   "execution_count": 30,
   "metadata": {},
   "outputs": [
    {
     "name": "stdout",
     "output_type": "stream",
     "text": [
      "Model: \"sequential_2\"\n",
      "_________________________________________________________________\n",
      "Layer (type)                 Output Shape              Param #   \n",
      "=================================================================\n",
      "conv2d_6 (Conv2D)            (None, 46, 46, 64)        640       \n",
      "_________________________________________________________________\n",
      "max_pooling2d_6 (MaxPooling2 (None, 23, 23, 64)        0         \n",
      "_________________________________________________________________\n",
      "conv2d_7 (Conv2D)            (None, 21, 21, 128)       73856     \n",
      "_________________________________________________________________\n",
      "max_pooling2d_7 (MaxPooling2 (None, 10, 10, 128)       0         \n",
      "_________________________________________________________________\n",
      "conv2d_8 (Conv2D)            (None, 8, 8, 256)         295168    \n",
      "_________________________________________________________________\n",
      "max_pooling2d_8 (MaxPooling2 (None, 4, 4, 256)         0         \n",
      "_________________________________________________________________\n",
      "flatten_2 (Flatten)          (None, 4096)              0         \n",
      "_________________________________________________________________\n",
      "dense_6 (Dense)              (None, 256)               1048832   \n",
      "_________________________________________________________________\n",
      "dense_7 (Dense)              (None, 64)                16448     \n",
      "_________________________________________________________________\n",
      "dense_8 (Dense)              (None, 7)                 455       \n",
      "=================================================================\n",
      "Total params: 1,435,399\n",
      "Trainable params: 1,435,399\n",
      "Non-trainable params: 0\n",
      "_________________________________________________________________\n"
     ]
    }
   ],
   "source": [
    "model = Sequential([Conv2D(64, (3, 3), input_shape=x_train.shape[1:], activation='relu'),\n",
    "                    MaxPool2D((2, 2)),\n",
    "                    Conv2D(128, (3, 3), activation='relu'),\n",
    "                    MaxPool2D((2, 2)),\n",
    "                    Conv2D(256, (3, 3), activation='relu'),\n",
    "                    MaxPool2D((2, 2)),\n",
    "                    Flatten(),\n",
    "                    Dense(256, activation='relu'),\n",
    "                    Dense(64, activation='relu'),\n",
    "                    Dense(7, activation='softmax')])\n",
    "\n",
    "model.compile(optimizer='adam', loss='sparse_categorical_crossentropy', metrics=['acc'])\n",
    "model.summary()"
   ]
  },
  {
   "cell_type": "code",
   "execution_count": 31,
   "metadata": {},
   "outputs": [
    {
     "name": "stdout",
     "output_type": "stream",
     "text": [
      "Train on 28568 samples, validate on 7143 samples\n",
      "Epoch 1/100\n",
      "28568/28568 [==============================] - 377s 13ms/sample - loss: 1.5303 - acc: 0.4076 - val_loss: 1.5053 - val_acc: 0.4627\n",
      "Epoch 2/100\n",
      "28568/28568 [==============================] - 367s 13ms/sample - loss: 1.1714 - acc: 0.5880 - val_loss: 1.0483 - val_acc: 0.6310\n",
      "Epoch 3/100\n",
      "28568/28568 [==============================] - 349s 12ms/sample - loss: 0.9677 - acc: 0.6559 - val_loss: 0.9285 - val_acc: 0.6667\n",
      "Epoch 4/100\n",
      "28568/28568 [==============================] - 350s 12ms/sample - loss: 0.8561 - acc: 0.6939 - val_loss: 0.8676 - val_acc: 0.6858\n",
      "Epoch 5/100\n",
      "28568/28568 [==============================] - 359s 13ms/sample - loss: 0.7657 - acc: 0.7248 - val_loss: 0.8056 - val_acc: 0.7091\n",
      "Epoch 6/100\n",
      "28568/28568 [==============================] - 372s 13ms/sample - loss: 0.6898 - acc: 0.7524 - val_loss: 0.8485 - val_acc: 0.6956\n",
      "Epoch 7/100\n",
      "28568/28568 [==============================] - 352s 12ms/sample - loss: 0.6162 - acc: 0.7791 - val_loss: 0.7931 - val_acc: 0.7215\n",
      "Epoch 8/100\n",
      "28568/28568 [==============================] - 359s 13ms/sample - loss: 0.5554 - acc: 0.8015 - val_loss: 0.7770 - val_acc: 0.7346\n",
      "Epoch 9/100\n",
      "28568/28568 [==============================] - 378s 13ms/sample - loss: 0.4833 - acc: 0.8262 - val_loss: 0.8133 - val_acc: 0.7340\n",
      "Epoch 10/100\n",
      "28568/28568 [==============================] - 367s 13ms/sample - loss: 0.4071 - acc: 0.8564 - val_loss: 0.8467 - val_acc: 0.7353\n",
      "Epoch 11/100\n",
      "28568/28568 [==============================] - 341s 12ms/sample - loss: 0.3469 - acc: 0.8758 - val_loss: 0.8625 - val_acc: 0.7360\n",
      "Epoch 12/100\n",
      "28568/28568 [==============================] - 374s 13ms/sample - loss: 0.2794 - acc: 0.9016 - val_loss: 0.9764 - val_acc: 0.7235\n",
      "Epoch 13/100\n",
      "28568/28568 [==============================] - 353s 12ms/sample - loss: 0.2283 - acc: 0.9201 - val_loss: 1.0713 - val_acc: 0.7315\n",
      "Epoch 14/100\n",
      "28568/28568 [==============================] - 347s 12ms/sample - loss: 0.1737 - acc: 0.9397 - val_loss: 1.1219 - val_acc: 0.7329\n",
      "Epoch 15/100\n",
      "28568/28568 [==============================] - 345s 12ms/sample - loss: 0.1391 - acc: 0.9523 - val_loss: 1.2524 - val_acc: 0.7290\n",
      "Epoch 16/100\n",
      "28568/28568 [==============================] - 343s 12ms/sample - loss: 0.1094 - acc: 0.9638 - val_loss: 1.2990 - val_acc: 0.7276\n",
      "Epoch 17/100\n",
      "28568/28568 [==============================] - 338s 12ms/sample - loss: 0.0936 - acc: 0.9678 - val_loss: 1.4753 - val_acc: 0.7348\n"
     ]
    }
   ],
   "source": [
    "stop = EarlyStopping(monitor='val_acc', patience=6, restore_best_weights=True)\n",
    "checkpoint = ModelCheckpoint('model.h5', monitor='val_acc', save_best_only=True, save_weights_only=True)\n",
    "reduce_lr = ReduceLROnPlateau(monitor='val_loss', factor=0.9, patience=5)\n",
    "\n",
    "history = model.fit(x_train,\n",
    "          y_train,\n",
    "          validation_data=(x_test, y_test),\n",
    "          epochs=100,\n",
    "          batch_size=128,\n",
    "          callbacks=[stop, checkpoint, reduce_lr])"
   ]
  },
  {
   "cell_type": "code",
   "execution_count": 32,
   "metadata": {},
   "outputs": [
    {
     "name": "stdout",
     "output_type": "stream",
     "text": [
      "Accuracy = 73.6 %\n"
     ]
    }
   ],
   "source": [
    "score = model.evaluate(x_test, y_test, verbose=0)[1]\n",
    "print(f'Accuracy = {round(score * 100, 2)} %')"
   ]
  },
  {
   "cell_type": "code",
   "execution_count": 33,
   "metadata": {},
   "outputs": [
    {
     "data": {
      "image/png": "[encoded data removed]",
      "text/plain": [
       "<Figure size 432x288 with 1 Axes>"
      ]
     },
     "metadata": {
      "needs_background": "light"
     },
     "output_type": "display_data"
    },
    {
     "data": {
      "image/png": "[encoded data removed]",
      "text/plain": [
       "<Figure size 432x288 with 1 Axes>"
      ]
     },
     "metadata": {
      "needs_background": "light"
     },
     "output_type": "display_data"
    }
   ],
   "source": [
    "plt.plot(history.history['loss'], label='training')\n",
    "plt.plot(history.history['val_loss'], label='validation')\n",
    "plt.legend()\n",
    "plt.title('Loss')\n",
    "plt.show()\n",
    "\n",
    "plt.plot(history.history['acc'], label='training')\n",
    "plt.plot(history.history['val_acc'], label='validation')\n",
    "plt.legend()\n",
    "plt.title('Accuracy')\n",
    "plt.show()"
   ]
  },
  {
   "cell_type": "code",
   "execution_count": 34,
   "metadata": {},
   "outputs": [],
   "source": [
    "def tryRandomExample():\n",
    "    index = np.random.randint(0, x_test.shape[0])\n",
    "    img = x_test[index]\n",
    "    img = np.expand_dims(img, axis=0)\n",
    "    pred = model.predict(img)\n",
    "    best = np.argmax(pred[0])\n",
    "    \n",
    "    print(classes[best] == classes[y_test[index]])\n",
    "    print(f'Predicted label: {classes[best]}\\nConfidence: {round(pred[0][best] * 100, 2)} %')\n",
    "    print(f'Actual label: {classes[y_test[index]]}')\n",
    "    \n",
    "    plt.imshow(np.squeeze(img[0], axis=-1), cmap='gray')\n",
    "    plt.show()\n",
    "    \n",
    "    plt.bar(classes, pred[0])\n",
    "    plt.show()\n",
    "    \n",
    "    "
   ]
  },
  {
   "cell_type": "code",
   "execution_count": 47,
   "metadata": {},
   "outputs": [
    {
     "name": "stdout",
     "output_type": "stream",
     "text": [
      "False\n",
      "Predicted label: Neutral\n",
      "Confidence: 82.65 %\n",
      "Actual label: Angry\n"
     ]
    },
    {
     "data": {
      "image/png": "[encoded data removed]",
      "text/plain": [
       "<Figure size 432x288 with 1 Axes>"
      ]
     },
     "metadata": {
      "needs_background": "light"
     },
     "output_type": "display_data"
    },
    {
     "data": {
      "image/png": "[encoded data removed]",
      "text/plain": [
       "<Figure size 432x288 with 1 Axes>"
      ]
     },
     "metadata": {
      "needs_background": "light"
     },
     "output_type": "display_data"
    }
   ],
   "source": [
    "tryRandomExample()"
   ]
  },
  {
   "cell_type": "code",
   "execution_count": 45,
   "metadata": {},
   "outputs": [],
   "source": [
    "from sklearn.metrics import confusion_matrix\n",
    "import seaborn as sns"
   ]
  },
  {
   "cell_type": "code",
   "execution_count": 40,
   "metadata": {},
   "outputs": [
    {
     "data": {
      "image/png": "[encoded data removed]",
      "text/plain": [
       "<Figure size 576x576 with 2 Axes>"
      ]
     },
     "metadata": {
      "needs_background": "light"
     },
     "output_type": "display_data"
    }
   ],
   "source": [
    "preds = model.predict(x_test)\n",
    "y_pred = [np.argmax(pred) for pred in preds]\n",
    "cm = confusion_matrix(y_test, y_pred)\n",
    "plt.figure(figsize=(8,8))\n",
    "ax = sns.heatmap(cm, annot=True, fmt='d', linewidths=.2, square=True)\n",
    "bottom, top = ax.get_ylim()\n",
    "ax.set_ylim(bottom + 0.5, top - 0.5);\n"
   ]
  },
  {
   "cell_type": "code",
   "execution_count": 41,
   "metadata": {},
   "outputs": [],
   "source": [
    "model.save('../models/conv_model.h5')"
   ]
  },
  {
   "cell_type": "code",
   "execution_count": 42,
   "metadata": {},
   "outputs": [],
   "source": [
    "from tensorflow.keras.models import load_model\n",
    "\n",
    "model = load_model('../models/conv_model.h5')\n"
   ]
  },
  {
   "cell_type": "code",
   "execution_count": 43,
   "metadata": {},
   "outputs": [
    {
     "ename": "ModuleNotFoundError",
     "evalue": "No module named 'dlib'",
     "output_type": "error",
     "traceback": [
      "\u001b[1;31m---------------------------------------------------------------------------\u001b[0m",
      "\u001b[1;31mModuleNotFoundError\u001b[0m                       Traceback (most recent call last)",
      "\u001b[1;32m<ipython-input-43-dacfb559e8fb>\u001b[0m in \u001b[0;36m<module>\u001b[1;34m\u001b[0m\n\u001b[0;32m      1\u001b[0m \u001b[1;32mimport\u001b[0m \u001b[0mcv2\u001b[0m\u001b[1;33m\u001b[0m\u001b[1;33m\u001b[0m\u001b[0m\n\u001b[1;32m----> 2\u001b[1;33m \u001b[1;32mimport\u001b[0m \u001b[0mdlib\u001b[0m\u001b[1;33m\u001b[0m\u001b[1;33m\u001b[0m\u001b[0m\n\u001b[0m\u001b[0;32m      3\u001b[0m \u001b[1;32mfrom\u001b[0m \u001b[0mimutils\u001b[0m \u001b[1;32mimport\u001b[0m \u001b[0mresize\u001b[0m\u001b[1;33m,\u001b[0m \u001b[0mface_utils\u001b[0m\u001b[1;33m\u001b[0m\u001b[1;33m\u001b[0m\u001b[0m\n\u001b[0;32m      4\u001b[0m \u001b[1;33m\u001b[0m\u001b[0m\n\u001b[0;32m      5\u001b[0m \u001b[0mdetector\u001b[0m \u001b[1;33m=\u001b[0m \u001b[0mdlib\u001b[0m\u001b[1;33m.\u001b[0m\u001b[0mget_frontal_face_detector\u001b[0m\u001b[1;33m(\u001b[0m\u001b[1;33m)\u001b[0m\u001b[1;33m\u001b[0m\u001b[1;33m\u001b[0m\u001b[0m\n",
      "\u001b[1;31mModuleNotFoundError\u001b[0m: No module named 'dlib'"
     ]
    }
   ],
   "source": [
    "import cv2\n",
    "import dlib\n",
    "from imutils import resize, face_utils\n",
    "\n",
    "detector = dlib.get_frontal_face_detector()\n",
    "classes = ['Neutral', 'Happy', 'Surprise', 'Sad', 'Angry', 'Disgust', 'Fear']\n",
    "\n",
    "\n",
    "def predictEmotion(image):\n",
    "  image = cv2.imread(image)\n",
    "  gray = cv2.cvtColor(image, cv2.COLOR_BGR2GRAY)\n",
    "  rects = detector(gray, 1)\n",
    "\n",
    "  for rect in rects:\n",
    "    img = gray[rect.top(): rect.bottom() + 1, rect.left(): rect.right() + 1]\n",
    "    img = resize(img, width=48, height=48) / 255\n",
    "    img = np.expand_dims(img, axis=0)\n",
    "    img = np.expand_dims(img, axis=-1)\n",
    "\n",
    "    probs = model.predict(img)\n",
    "    predict = np.argmax(probs[0])\n",
    "    prob = probs[0][predict]\n",
    "\n",
    "    caption = f'{classes[predict]} {str(round(prob * 100))} %'\n",
    "    (x, y, w, h) = face_utils.rect_to_bb(rect)\n",
    "    fontScale = min(w, h) / 200\n",
    "    thickness = min(w, h) // 75\n",
    "    cv2.rectangle(image, (x, y), (x + w, y + h), (0, 255, 0), thickness) \n",
    "    cv2.putText(image, caption,(x - 10, y - 10),\n",
    "\t\t        cv2.FONT_HERSHEY_SIMPLEX, fontScale, (0, 0, 255), thickness)\n",
    "\n",
    "  plt.figure(figsize=(10,15))\n",
    "  plt.imshow(image)\n",
    "  plt.xlabel(f'{probs}')\n",
    "  return image"
   ]
  },
  {
   "cell_type": "code",
   "execution_count": null,
   "metadata": {},
   "outputs": [],
   "source": []
  }
 ],
 "metadata": {
  "kernelspec": {
   "display_name": "Python 3",
   "language": "python",
   "name": "python3"
  },
  "language_info": {
   "codemirror_mode": {
    "name": "ipython",
    "version": 3
   },
   "file_extension": ".py",
   "mimetype": "text/x-python",
   "name": "python",
   "nbconvert_exporter": "python",
   "pygments_lexer": "ipython3",
   "version": "3.7.4"
  }
 },
 "nbformat": 4,
 "nbformat_minor": 2
}
